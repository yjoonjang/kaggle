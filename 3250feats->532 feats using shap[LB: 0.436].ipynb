{
 "cells": [
  {
   "cell_type": "code",
   "execution_count": 1,
   "id": "5a171391",
   "metadata": {
    "_cell_guid": "b1076dfc-b9ad-4769-8c92-a6c4dae69d19",
    "_uuid": "8f2839f25d086af736a60e9eeb907d3b93b6e0e5",
    "execution": {
     "iopub.execute_input": "2023-03-11T02:03:10.225879Z",
     "iopub.status.busy": "2023-03-11T02:03:10.224881Z",
     "iopub.status.idle": "2023-03-11T02:03:19.553574Z",
     "shell.execute_reply": "2023-03-11T02:03:19.552137Z"
    },
    "papermill": {
     "duration": 9.367734,
     "end_time": "2023-03-11T02:03:19.557099",
     "exception": false,
     "start_time": "2023-03-11T02:03:10.189365",
     "status": "completed"
    },
    "tags": []
   },
   "outputs": [
    {
     "data": {
      "text/html": [
       "<style type='text/css'>\n",
       ".datatable table.frame { margin-bottom: 0; }\n",
       ".datatable table.frame thead { border-bottom: none; }\n",
       ".datatable table.frame tr.coltypes td {  color: #FFFFFF;  line-height: 6px;  padding: 0 0.5em;}\n",
       ".datatable .bool    { background: #DDDD99; }\n",
       ".datatable .object  { background: #565656; }\n",
       ".datatable .int     { background: #5D9E5D; }\n",
       ".datatable .float   { background: #4040CC; }\n",
       ".datatable .str     { background: #CC4040; }\n",
       ".datatable .time    { background: #40CC40; }\n",
       ".datatable .row_index {  background: var(--jp-border-color3);  border-right: 1px solid var(--jp-border-color0);  color: var(--jp-ui-font-color3);  font-size: 9px;}\n",
       ".datatable .frame tbody td { text-align: left; }\n",
       ".datatable .frame tr.coltypes .row_index {  background: var(--jp-border-color0);}\n",
       ".datatable th:nth-child(2) { padding-left: 12px; }\n",
       ".datatable .hellipsis {  color: var(--jp-cell-editor-border-color);}\n",
       ".datatable .vellipsis {  background: var(--jp-layout-color0);  color: var(--jp-cell-editor-border-color);}\n",
       ".datatable .na {  color: var(--jp-cell-editor-border-color);  font-size: 80%;}\n",
       ".datatable .sp {  opacity: 0.25;}\n",
       ".datatable .footer { font-size: 9px; }\n",
       ".datatable .frame_dimensions {  background: var(--jp-border-color3);  border-top: 1px solid var(--jp-border-color0);  color: var(--jp-ui-font-color3);  display: inline-block;  opacity: 0.6;  padding: 1px 10px 1px 5px;}\n",
       "</style>\n"
      ],
      "text/plain": [
       "<IPython.core.display.HTML object>"
      ]
     },
     "metadata": {},
     "output_type": "display_data"
    },
    {
     "name": "stderr",
     "output_type": "stream",
     "text": [
      "Woodwork may not support Python 3.7 in next non-bugfix release.\n",
      "Featuretools may not support Python 3.7 in next non-bugfix release.\n"
     ]
    }
   ],
   "source": [
    "import pandas as pd\n",
    "import numpy as np\n",
    "\n",
    "import seaborn as sns\n",
    "import matplotlib.pyplot as plt\n",
    "\n",
    "sns.set(font_scale=2.2)\n",
    "plt.style.use('seaborn')\n",
    "\n",
    "from sklearn.preprocessing import LabelEncoder, MinMaxScaler, StandardScaler, OneHotEncoder\n",
    "from sklearn.model_selection import StratifiedKFold, train_test_split, ShuffleSplit\n",
    "from sklearn.metrics import f1_score\n",
    "import itertools\n",
    "import lightgbm as lgb\n",
    "import xgboost as xgb\n",
    "from xgboost import XGBClassifier\n",
    "import shap\n",
    "from tqdm import tqdm\n",
    "import featuretools as ft\n",
    "import warnings\n",
    "warnings.filterwarnings('ignore')\n",
    "import time"
   ]
  },
  {
   "cell_type": "markdown",
   "id": "e1bc423b",
   "metadata": {
    "papermill": {
     "duration": 0.02953,
     "end_time": "2023-03-11T02:03:19.616847",
     "exception": false,
     "start_time": "2023-03-11T02:03:19.587317",
     "status": "completed"
    },
    "tags": []
   },
   "source": [
    "# 1. Check datasetes"
   ]
  },
  {
   "cell_type": "markdown",
   "id": "ce1e8395",
   "metadata": {
    "papermill": {
     "duration": 0.028999,
     "end_time": "2023-03-11T02:03:19.676288",
     "exception": false,
     "start_time": "2023-03-11T02:03:19.647289",
     "status": "completed"
    },
    "tags": []
   },
   "source": [
    "### 1.1 Read dataset"
   ]
  },
  {
   "cell_type": "markdown",
   "id": "b6b99a32",
   "metadata": {
    "papermill": {
     "duration": 0.030014,
     "end_time": "2023-03-11T02:03:19.735552",
     "exception": false,
     "start_time": "2023-03-11T02:03:19.705538",
     "status": "completed"
    },
    "tags": []
   },
   "source": []
  },
  {
   "cell_type": "code",
   "execution_count": 2,
   "id": "bde3eb11",
   "metadata": {
    "execution": {
     "iopub.execute_input": "2023-03-11T02:03:19.798167Z",
     "iopub.status.busy": "2023-03-11T02:03:19.797257Z",
     "iopub.status.idle": "2023-03-11T02:03:20.536282Z",
     "shell.execute_reply": "2023-03-11T02:03:20.534860Z"
    },
    "papermill": {
     "duration": 0.774229,
     "end_time": "2023-03-11T02:03:20.539622",
     "exception": false,
     "start_time": "2023-03-11T02:03:19.765393",
     "status": "completed"
    },
    "tags": []
   },
   "outputs": [],
   "source": [
    "df_train = pd.read_csv('../input/costa-rican-household-poverty-prediction/train.csv')\n",
    "df_test = pd.read_csv('../input/costa-rican-household-poverty-prediction/test.csv')"
   ]
  },
  {
   "cell_type": "code",
   "execution_count": 3,
   "id": "97abbe92",
   "metadata": {
    "execution": {
     "iopub.execute_input": "2023-03-11T02:03:20.602646Z",
     "iopub.status.busy": "2023-03-11T02:03:20.602167Z",
     "iopub.status.idle": "2023-03-11T02:03:20.608972Z",
     "shell.execute_reply": "2023-03-11T02:03:20.607439Z"
    },
    "papermill": {
     "duration": 0.042161,
     "end_time": "2023-03-11T02:03:20.612501",
     "exception": false,
     "start_time": "2023-03-11T02:03:20.570340",
     "status": "completed"
    },
    "tags": []
   },
   "outputs": [
    {
     "name": "stdout",
     "output_type": "stream",
     "text": [
      "df_train shape:  (9557, 143)    df_test shape:  (23856, 142)\n"
     ]
    }
   ],
   "source": [
    "print('df_train shape: ', df_train.shape, '  ', 'df_test shape: ', df_test.shape)"
   ]
  },
  {
   "cell_type": "code",
   "execution_count": 4,
   "id": "16efce64",
   "metadata": {
    "execution": {
     "iopub.execute_input": "2023-03-11T02:03:20.676100Z",
     "iopub.status.busy": "2023-03-11T02:03:20.675624Z",
     "iopub.status.idle": "2023-03-11T02:03:20.724974Z",
     "shell.execute_reply": "2023-03-11T02:03:20.723788Z"
    },
    "papermill": {
     "duration": 0.085139,
     "end_time": "2023-03-11T02:03:20.728394",
     "exception": false,
     "start_time": "2023-03-11T02:03:20.643255",
     "status": "completed"
    },
    "tags": []
   },
   "outputs": [
    {
     "data": {
      "text/html": [
       "<div>\n",
       "<style scoped>\n",
       "    .dataframe tbody tr th:only-of-type {\n",
       "        vertical-align: middle;\n",
       "    }\n",
       "\n",
       "    .dataframe tbody tr th {\n",
       "        vertical-align: top;\n",
       "    }\n",
       "\n",
       "    .dataframe thead th {\n",
       "        text-align: right;\n",
       "    }\n",
       "</style>\n",
       "<table border=\"1\" class=\"dataframe\">\n",
       "  <thead>\n",
       "    <tr style=\"text-align: right;\">\n",
       "      <th></th>\n",
       "      <th>Id</th>\n",
       "      <th>v2a1</th>\n",
       "      <th>hacdor</th>\n",
       "      <th>rooms</th>\n",
       "      <th>hacapo</th>\n",
       "      <th>v14a</th>\n",
       "      <th>refrig</th>\n",
       "      <th>v18q</th>\n",
       "      <th>v18q1</th>\n",
       "      <th>r4h1</th>\n",
       "      <th>...</th>\n",
       "      <th>SQBescolari</th>\n",
       "      <th>SQBage</th>\n",
       "      <th>SQBhogar_total</th>\n",
       "      <th>SQBedjefe</th>\n",
       "      <th>SQBhogar_nin</th>\n",
       "      <th>SQBovercrowding</th>\n",
       "      <th>SQBdependency</th>\n",
       "      <th>SQBmeaned</th>\n",
       "      <th>agesq</th>\n",
       "      <th>Target</th>\n",
       "    </tr>\n",
       "  </thead>\n",
       "  <tbody>\n",
       "    <tr>\n",
       "      <th>0</th>\n",
       "      <td>ID_279628684</td>\n",
       "      <td>190000.0</td>\n",
       "      <td>0</td>\n",
       "      <td>3</td>\n",
       "      <td>0</td>\n",
       "      <td>1</td>\n",
       "      <td>1</td>\n",
       "      <td>0</td>\n",
       "      <td>NaN</td>\n",
       "      <td>0</td>\n",
       "      <td>...</td>\n",
       "      <td>100</td>\n",
       "      <td>1849</td>\n",
       "      <td>1</td>\n",
       "      <td>100</td>\n",
       "      <td>0</td>\n",
       "      <td>1.000000</td>\n",
       "      <td>0.0</td>\n",
       "      <td>100.0</td>\n",
       "      <td>1849</td>\n",
       "      <td>4</td>\n",
       "    </tr>\n",
       "    <tr>\n",
       "      <th>1</th>\n",
       "      <td>ID_f29eb3ddd</td>\n",
       "      <td>135000.0</td>\n",
       "      <td>0</td>\n",
       "      <td>4</td>\n",
       "      <td>0</td>\n",
       "      <td>1</td>\n",
       "      <td>1</td>\n",
       "      <td>1</td>\n",
       "      <td>1.0</td>\n",
       "      <td>0</td>\n",
       "      <td>...</td>\n",
       "      <td>144</td>\n",
       "      <td>4489</td>\n",
       "      <td>1</td>\n",
       "      <td>144</td>\n",
       "      <td>0</td>\n",
       "      <td>1.000000</td>\n",
       "      <td>64.0</td>\n",
       "      <td>144.0</td>\n",
       "      <td>4489</td>\n",
       "      <td>4</td>\n",
       "    </tr>\n",
       "    <tr>\n",
       "      <th>2</th>\n",
       "      <td>ID_68de51c94</td>\n",
       "      <td>NaN</td>\n",
       "      <td>0</td>\n",
       "      <td>8</td>\n",
       "      <td>0</td>\n",
       "      <td>1</td>\n",
       "      <td>1</td>\n",
       "      <td>0</td>\n",
       "      <td>NaN</td>\n",
       "      <td>0</td>\n",
       "      <td>...</td>\n",
       "      <td>121</td>\n",
       "      <td>8464</td>\n",
       "      <td>1</td>\n",
       "      <td>0</td>\n",
       "      <td>0</td>\n",
       "      <td>0.250000</td>\n",
       "      <td>64.0</td>\n",
       "      <td>121.0</td>\n",
       "      <td>8464</td>\n",
       "      <td>4</td>\n",
       "    </tr>\n",
       "    <tr>\n",
       "      <th>3</th>\n",
       "      <td>ID_d671db89c</td>\n",
       "      <td>180000.0</td>\n",
       "      <td>0</td>\n",
       "      <td>5</td>\n",
       "      <td>0</td>\n",
       "      <td>1</td>\n",
       "      <td>1</td>\n",
       "      <td>1</td>\n",
       "      <td>1.0</td>\n",
       "      <td>0</td>\n",
       "      <td>...</td>\n",
       "      <td>81</td>\n",
       "      <td>289</td>\n",
       "      <td>16</td>\n",
       "      <td>121</td>\n",
       "      <td>4</td>\n",
       "      <td>1.777778</td>\n",
       "      <td>1.0</td>\n",
       "      <td>121.0</td>\n",
       "      <td>289</td>\n",
       "      <td>4</td>\n",
       "    </tr>\n",
       "    <tr>\n",
       "      <th>4</th>\n",
       "      <td>ID_d56d6f5f5</td>\n",
       "      <td>180000.0</td>\n",
       "      <td>0</td>\n",
       "      <td>5</td>\n",
       "      <td>0</td>\n",
       "      <td>1</td>\n",
       "      <td>1</td>\n",
       "      <td>1</td>\n",
       "      <td>1.0</td>\n",
       "      <td>0</td>\n",
       "      <td>...</td>\n",
       "      <td>121</td>\n",
       "      <td>1369</td>\n",
       "      <td>16</td>\n",
       "      <td>121</td>\n",
       "      <td>4</td>\n",
       "      <td>1.777778</td>\n",
       "      <td>1.0</td>\n",
       "      <td>121.0</td>\n",
       "      <td>1369</td>\n",
       "      <td>4</td>\n",
       "    </tr>\n",
       "  </tbody>\n",
       "</table>\n",
       "<p>5 rows × 143 columns</p>\n",
       "</div>"
      ],
      "text/plain": [
       "             Id      v2a1  hacdor  rooms  hacapo  v14a  refrig  v18q  v18q1  \\\n",
       "0  ID_279628684  190000.0       0      3       0     1       1     0    NaN   \n",
       "1  ID_f29eb3ddd  135000.0       0      4       0     1       1     1    1.0   \n",
       "2  ID_68de51c94       NaN       0      8       0     1       1     0    NaN   \n",
       "3  ID_d671db89c  180000.0       0      5       0     1       1     1    1.0   \n",
       "4  ID_d56d6f5f5  180000.0       0      5       0     1       1     1    1.0   \n",
       "\n",
       "   r4h1  ...  SQBescolari  SQBage  SQBhogar_total  SQBedjefe  SQBhogar_nin  \\\n",
       "0     0  ...          100    1849               1        100             0   \n",
       "1     0  ...          144    4489               1        144             0   \n",
       "2     0  ...          121    8464               1          0             0   \n",
       "3     0  ...           81     289              16        121             4   \n",
       "4     0  ...          121    1369              16        121             4   \n",
       "\n",
       "   SQBovercrowding  SQBdependency  SQBmeaned  agesq  Target  \n",
       "0         1.000000            0.0      100.0   1849       4  \n",
       "1         1.000000           64.0      144.0   4489       4  \n",
       "2         0.250000           64.0      121.0   8464       4  \n",
       "3         1.777778            1.0      121.0    289       4  \n",
       "4         1.777778            1.0      121.0   1369       4  \n",
       "\n",
       "[5 rows x 143 columns]"
      ]
     },
     "execution_count": 4,
     "metadata": {},
     "output_type": "execute_result"
    }
   ],
   "source": [
    "df_train.head()"
   ]
  },
  {
   "cell_type": "code",
   "execution_count": 5,
   "id": "ad93e589",
   "metadata": {
    "execution": {
     "iopub.execute_input": "2023-03-11T02:03:20.793365Z",
     "iopub.status.busy": "2023-03-11T02:03:20.792410Z",
     "iopub.status.idle": "2023-03-11T02:03:20.817799Z",
     "shell.execute_reply": "2023-03-11T02:03:20.816360Z"
    },
    "papermill": {
     "duration": 0.06081,
     "end_time": "2023-03-11T02:03:20.820778",
     "exception": false,
     "start_time": "2023-03-11T02:03:20.759968",
     "status": "completed"
    },
    "tags": []
   },
   "outputs": [
    {
     "data": {
      "text/html": [
       "<div>\n",
       "<style scoped>\n",
       "    .dataframe tbody tr th:only-of-type {\n",
       "        vertical-align: middle;\n",
       "    }\n",
       "\n",
       "    .dataframe tbody tr th {\n",
       "        vertical-align: top;\n",
       "    }\n",
       "\n",
       "    .dataframe thead th {\n",
       "        text-align: right;\n",
       "    }\n",
       "</style>\n",
       "<table border=\"1\" class=\"dataframe\">\n",
       "  <thead>\n",
       "    <tr style=\"text-align: right;\">\n",
       "      <th></th>\n",
       "      <th>Id</th>\n",
       "      <th>v2a1</th>\n",
       "      <th>hacdor</th>\n",
       "      <th>rooms</th>\n",
       "      <th>hacapo</th>\n",
       "      <th>v14a</th>\n",
       "      <th>refrig</th>\n",
       "      <th>v18q</th>\n",
       "      <th>v18q1</th>\n",
       "      <th>r4h1</th>\n",
       "      <th>...</th>\n",
       "      <th>age</th>\n",
       "      <th>SQBescolari</th>\n",
       "      <th>SQBage</th>\n",
       "      <th>SQBhogar_total</th>\n",
       "      <th>SQBedjefe</th>\n",
       "      <th>SQBhogar_nin</th>\n",
       "      <th>SQBovercrowding</th>\n",
       "      <th>SQBdependency</th>\n",
       "      <th>SQBmeaned</th>\n",
       "      <th>agesq</th>\n",
       "    </tr>\n",
       "  </thead>\n",
       "  <tbody>\n",
       "    <tr>\n",
       "      <th>0</th>\n",
       "      <td>ID_2f6873615</td>\n",
       "      <td>NaN</td>\n",
       "      <td>0</td>\n",
       "      <td>5</td>\n",
       "      <td>0</td>\n",
       "      <td>1</td>\n",
       "      <td>1</td>\n",
       "      <td>0</td>\n",
       "      <td>NaN</td>\n",
       "      <td>1</td>\n",
       "      <td>...</td>\n",
       "      <td>4</td>\n",
       "      <td>0</td>\n",
       "      <td>16</td>\n",
       "      <td>9</td>\n",
       "      <td>0</td>\n",
       "      <td>1</td>\n",
       "      <td>2.25</td>\n",
       "      <td>0.25</td>\n",
       "      <td>272.25</td>\n",
       "      <td>16</td>\n",
       "    </tr>\n",
       "    <tr>\n",
       "      <th>1</th>\n",
       "      <td>ID_1c78846d2</td>\n",
       "      <td>NaN</td>\n",
       "      <td>0</td>\n",
       "      <td>5</td>\n",
       "      <td>0</td>\n",
       "      <td>1</td>\n",
       "      <td>1</td>\n",
       "      <td>0</td>\n",
       "      <td>NaN</td>\n",
       "      <td>1</td>\n",
       "      <td>...</td>\n",
       "      <td>41</td>\n",
       "      <td>256</td>\n",
       "      <td>1681</td>\n",
       "      <td>9</td>\n",
       "      <td>0</td>\n",
       "      <td>1</td>\n",
       "      <td>2.25</td>\n",
       "      <td>0.25</td>\n",
       "      <td>272.25</td>\n",
       "      <td>1681</td>\n",
       "    </tr>\n",
       "    <tr>\n",
       "      <th>2</th>\n",
       "      <td>ID_e5442cf6a</td>\n",
       "      <td>NaN</td>\n",
       "      <td>0</td>\n",
       "      <td>5</td>\n",
       "      <td>0</td>\n",
       "      <td>1</td>\n",
       "      <td>1</td>\n",
       "      <td>0</td>\n",
       "      <td>NaN</td>\n",
       "      <td>1</td>\n",
       "      <td>...</td>\n",
       "      <td>41</td>\n",
       "      <td>289</td>\n",
       "      <td>1681</td>\n",
       "      <td>9</td>\n",
       "      <td>0</td>\n",
       "      <td>1</td>\n",
       "      <td>2.25</td>\n",
       "      <td>0.25</td>\n",
       "      <td>272.25</td>\n",
       "      <td>1681</td>\n",
       "    </tr>\n",
       "    <tr>\n",
       "      <th>3</th>\n",
       "      <td>ID_a8db26a79</td>\n",
       "      <td>NaN</td>\n",
       "      <td>0</td>\n",
       "      <td>14</td>\n",
       "      <td>0</td>\n",
       "      <td>1</td>\n",
       "      <td>1</td>\n",
       "      <td>1</td>\n",
       "      <td>1.0</td>\n",
       "      <td>0</td>\n",
       "      <td>...</td>\n",
       "      <td>59</td>\n",
       "      <td>256</td>\n",
       "      <td>3481</td>\n",
       "      <td>1</td>\n",
       "      <td>256</td>\n",
       "      <td>0</td>\n",
       "      <td>1.00</td>\n",
       "      <td>0.00</td>\n",
       "      <td>256.00</td>\n",
       "      <td>3481</td>\n",
       "    </tr>\n",
       "    <tr>\n",
       "      <th>4</th>\n",
       "      <td>ID_a62966799</td>\n",
       "      <td>175000.0</td>\n",
       "      <td>0</td>\n",
       "      <td>4</td>\n",
       "      <td>0</td>\n",
       "      <td>1</td>\n",
       "      <td>1</td>\n",
       "      <td>1</td>\n",
       "      <td>1.0</td>\n",
       "      <td>0</td>\n",
       "      <td>...</td>\n",
       "      <td>18</td>\n",
       "      <td>121</td>\n",
       "      <td>324</td>\n",
       "      <td>1</td>\n",
       "      <td>0</td>\n",
       "      <td>1</td>\n",
       "      <td>0.25</td>\n",
       "      <td>64.00</td>\n",
       "      <td>NaN</td>\n",
       "      <td>324</td>\n",
       "    </tr>\n",
       "  </tbody>\n",
       "</table>\n",
       "<p>5 rows × 142 columns</p>\n",
       "</div>"
      ],
      "text/plain": [
       "             Id      v2a1  hacdor  rooms  hacapo  v14a  refrig  v18q  v18q1  \\\n",
       "0  ID_2f6873615       NaN       0      5       0     1       1     0    NaN   \n",
       "1  ID_1c78846d2       NaN       0      5       0     1       1     0    NaN   \n",
       "2  ID_e5442cf6a       NaN       0      5       0     1       1     0    NaN   \n",
       "3  ID_a8db26a79       NaN       0     14       0     1       1     1    1.0   \n",
       "4  ID_a62966799  175000.0       0      4       0     1       1     1    1.0   \n",
       "\n",
       "   r4h1  ...  age  SQBescolari  SQBage  SQBhogar_total  SQBedjefe  \\\n",
       "0     1  ...    4            0      16               9          0   \n",
       "1     1  ...   41          256    1681               9          0   \n",
       "2     1  ...   41          289    1681               9          0   \n",
       "3     0  ...   59          256    3481               1        256   \n",
       "4     0  ...   18          121     324               1          0   \n",
       "\n",
       "   SQBhogar_nin  SQBovercrowding  SQBdependency  SQBmeaned  agesq  \n",
       "0             1             2.25           0.25     272.25     16  \n",
       "1             1             2.25           0.25     272.25   1681  \n",
       "2             1             2.25           0.25     272.25   1681  \n",
       "3             0             1.00           0.00     256.00   3481  \n",
       "4             1             0.25          64.00        NaN    324  \n",
       "\n",
       "[5 rows x 142 columns]"
      ]
     },
     "execution_count": 5,
     "metadata": {},
     "output_type": "execute_result"
    }
   ],
   "source": [
    "df_test.head()"
   ]
  },
  {
   "cell_type": "markdown",
   "id": "5434329a",
   "metadata": {
    "papermill": {
     "duration": 0.029431,
     "end_time": "2023-03-11T02:03:20.880742",
     "exception": false,
     "start_time": "2023-03-11T02:03:20.851311",
     "status": "completed"
    },
    "tags": []
   },
   "source": [
    "### 1.2 Make description df"
   ]
  },
  {
   "cell_type": "code",
   "execution_count": 6,
   "id": "51edb1dd",
   "metadata": {
    "execution": {
     "iopub.execute_input": "2023-03-11T02:03:20.943468Z",
     "iopub.status.busy": "2023-03-11T02:03:20.942491Z",
     "iopub.status.idle": "2023-03-11T02:03:20.970967Z",
     "shell.execute_reply": "2023-03-11T02:03:20.969671Z"
    },
    "papermill": {
     "duration": 0.063632,
     "end_time": "2023-03-11T02:03:20.974175",
     "exception": false,
     "start_time": "2023-03-11T02:03:20.910543",
     "status": "completed"
    },
    "tags": []
   },
   "outputs": [],
   "source": [
    "description = [\n",
    "(\"v2a1\",\" Monthly rent payment\"),\n",
    "(\"hacdor\",\" =1 Overcrowding by bedrooms\"),\n",
    "(\"rooms\",\"  number of all rooms in the house\"),\n",
    "(\"hacapo\",\" =1 Overcrowding by rooms\"),\n",
    "(\"v14a\",\" =1 has toilet in the household\"),\n",
    "(\"refrig\",\" =1 if the household has refrigerator\"),\n",
    "(\"v18q\",\" owns a tablet\"),\n",
    "(\"v18q1\",\" number of tablets household owns\"),\n",
    "(\"r4h1\",\" Males younger than 12 years of age\"),\n",
    "(\"r4h2\",\" Males 12 years of age and older\"),\n",
    "(\"r4h3\",\" Total males in the household\"),\n",
    "(\"r4m1\",\" Females younger than 12 years of age\"),\n",
    "(\"r4m2\",\" Females 12 years of age and older\"),\n",
    "(\"r4m3\",\" Total females in the household\"),\n",
    "(\"r4t1\",\" persons younger than 12 years of age\"),\n",
    "(\"r4t2\",\" persons 12 years of age and older\"),\n",
    "(\"r4t3\",\" Total persons in the household\"),\n",
    "(\"tamhog\",\" size of the household\"),\n",
    "(\"tamviv\",\" number of persons living in the household\"),\n",
    "(\"escolari\",\" years of schooling\"),\n",
    "(\"rez_esc\",\" Years behind in school\"),\n",
    "(\"hhsize\",\" household size\"),\n",
    "(\"paredblolad\",\" =1 if predominant material on the outside wall is block or brick\"),\n",
    "(\"paredzocalo\",\" =1 if predominant material on the outside wall is socket (wood, zinc or absbesto\"),\n",
    "(\"paredpreb\",\" =1 if predominant material on the outside wall is prefabricated or cement\"),\n",
    "(\"pareddes\",\" =1 if predominant material on the outside wall is waste material\"),\n",
    "(\"paredmad\",\" =1 if predominant material on the outside wall is wood\"),\n",
    "(\"paredzinc\",\" =1 if predominant material on the outside wall is zink\"),\n",
    "(\"paredfibras\",\" =1 if predominant material on the outside wall is natural fibers\"),\n",
    "(\"paredother\",\" =1 if predominant material on the outside wall is other\"),\n",
    "(\"pisomoscer\",\" =1 if predominant material on the floor is mosaic ceramic   terrazo\"),\n",
    "(\"pisocemento\",\" =1 if predominant material on the floor is cement\"),\n",
    "(\"pisoother\",\" =1 if predominant material on the floor is other\"),\n",
    "(\"pisonatur\",\" =1 if predominant material on the floor is  natural material\"),\n",
    "(\"pisonotiene\",\" =1 if no floor at the household\"),\n",
    "(\"pisomadera\",\" =1 if predominant material on the floor is wood\"),\n",
    "(\"techozinc\",\" =1 if predominant material on the roof is metal foil or zink\"),\n",
    "(\"techoentrepiso\",\" =1 if predominant material on the roof is fiber cement,   mezzanine \"),\n",
    "(\"techocane\",\" =1 if predominant material on the roof is natural fibers\"),\n",
    "(\"techootro\",\" =1 if predominant material on the roof is other\"),\n",
    "(\"cielorazo\",\" =1 if the house has ceiling\"),\n",
    "(\"abastaguadentro\",\" =1 if water provision inside the dwelling\"),\n",
    "(\"abastaguafuera\",\" =1 if water provision outside the dwelling\"),\n",
    "(\"abastaguano\",\" =1 if no water provision\"),\n",
    "(\"public\",\" =1 electricity from CNFL,  ICE, ESPH/JASEC\"),\n",
    "(\"planpri\",\" =1 electricity from private plant\"),\n",
    "(\"noelec\",\" =1 no electricity in the dwelling\"),\n",
    "(\"coopele\",\" =1 electricity from cooperative\"),\n",
    "(\"sanitario1\",\" =1 no toilet in the dwelling\"),\n",
    "(\"sanitario2\",\" =1 toilet connected to sewer or cesspool\"),\n",
    "(\"sanitario3\",\" =1 toilet connected to  septic tank\"),\n",
    "(\"sanitario5\",\" =1 toilet connected to black hole or letrine\"),\n",
    "(\"sanitario6\",\" =1 toilet connected to other system\"),\n",
    "(\"energcocinar1\",\" =1 no main source of energy used for cooking (no kitchen)\"),\n",
    "(\"energcocinar2\",\" =1 main source of energy used for cooking electricity\"),\n",
    "(\"energcocinar3\",\" =1 main source of energy used for cooking gas\"),\n",
    "(\"energcocinar4\",\" =1 main source of energy used for cooking wood charcoal\"),\n",
    "(\"elimbasu1\",\" =1 if rubbish disposal mainly by tanker truck\"),\n",
    "(\"elimbasu2\",\" =1 if rubbish disposal mainly by botan hollow or buried\"),\n",
    "(\"elimbasu3\",\" =1 if rubbish disposal mainly by burning\"),\n",
    "(\"elimbasu4\",\" =1 if rubbish disposal mainly by throwing in an unoccupied space\"),\n",
    "(\"elimbasu5\",\" =1 if rubbish disposal mainly by throwing in river,   creek or sea\"),\n",
    "(\"elimbasu6\",\" =1 if rubbish disposal mainly other\"),\n",
    "(\"epared1\",\" =1 if walls are bad\"),\n",
    "(\"epared2\",\" =1 if walls are regular\"),\n",
    "(\"epared3\",\" =1 if walls are good\"),\n",
    "(\"etecho1\",\" =1 if roof are bad\"),\n",
    "(\"etecho2\",\" =1 if roof are regular\"),\n",
    "(\"etecho3\",\" =1 if roof are good\"),\n",
    "(\"eviv1\",\" =1 if floor are bad\"),\n",
    "(\"eviv2\",\" =1 if floor are regular\"),\n",
    "(\"eviv3\",\" =1 if floor are good\"),\n",
    "(\"dis\",\" =1 if disable person\"),\n",
    "(\"male\",\" =1 if male\"),\n",
    "(\"female\",\" =1 if female\"),\n",
    "(\"estadocivil1\",\" =1 if less than 10 years old\"),\n",
    "(\"estadocivil2\",\" =1 if free or coupled uunion\"),\n",
    "(\"estadocivil3\",\" =1 if married\"),\n",
    "(\"estadocivil4\",\" =1 if divorced\"),\n",
    "(\"estadocivil5\",\" =1 if separated\"),\n",
    "(\"estadocivil6\",\" =1 if widow/er\"),\n",
    "(\"estadocivil7\",\" =1 if single\"),\n",
    "(\"parentesco1\",\" =1 if household head\"),\n",
    "(\"parentesco2\",\" =1 if spouse/partner\"),\n",
    "(\"parentesco3\",\" =1 if son/doughter\"),\n",
    "(\"parentesco4\",\" =1 if stepson/doughter\"),\n",
    "(\"parentesco5\",\" =1 if son/doughter in law\"),\n",
    "(\"parentesco6\",\" =1 if grandson/doughter\"),\n",
    "(\"parentesco7\",\" =1 if mother/father\"),\n",
    "(\"parentesco8\",\" =1 if father/mother in law\"),\n",
    "(\"parentesco9\",\" =1 if brother/sister\"),\n",
    "(\"parentesco10\",\" =1 if brother/sister in law\"),\n",
    "(\"parentesco11\",\" =1 if other family member\"),\n",
    "(\"parentesco12\",\" =1 if other non family member\"),\n",
    "(\"idhogar\",\" Household level identifier\"),\n",
    "(\"hogar_nin\",\" Number of children 0 to 19 in household\"),\n",
    "(\"hogar_adul\",\" Number of adults in household\"),\n",
    "(\"hogar_mayor\",\" # of individuals 65+ in the household\"),\n",
    "(\"hogar_total\",\" # of total individuals in the household\"),\n",
    "(\"dependency\",\" Dependency rate\"),\n",
    "(\"edjefe\",\" years of education of male head of household\"),\n",
    "(\"edjefa\",\" years of education of female head of household\"),\n",
    "(\"meaneduc\",\"average years of education for adults (18+)\"),\n",
    "(\"instlevel1\",\" =1 no level of education\"),\n",
    "(\"instlevel2\",\" =1 incomplete primary\"),\n",
    "(\"instlevel3\",\" =1 complete primary\"),\n",
    "(\"instlevel4\",\" =1 incomplete academic secondary level\"),\n",
    "(\"instlevel5\",\" =1 complete academic secondary level\"),\n",
    "(\"instlevel6\",\" =1 incomplete technical secondary level\"),\n",
    "(\"instlevel7\",\" =1 complete technical secondary level\"),\n",
    "(\"instlevel8\",\" =1 undergraduate and higher education\"),\n",
    "(\"instlevel9\",\" =1 postgraduate higher education\"),\n",
    "(\"bedrooms\",\" number of bedrooms\"),\n",
    "(\"overcrowding\",\" # persons per room\"),\n",
    "(\"tipovivi1\",\" =1 own and fully paid house\"),\n",
    "(\"tipovivi2\",\" =1 own,   paying in installments\"),\n",
    "(\"tipovivi3\",\" =1 rented\"),\n",
    "(\"tipovivi4\",\" =1 precarious\"),\n",
    "(\"tipovivi5\",\" =1 other(assigned\"),\n",
    "(\"computer\",\" =1 if the household has notebook or desktop computer,   borrowed)\"),\n",
    "(\"television\",\" =1 if the household has TV\"),\n",
    "(\"mobilephone\",\" =1 if mobile phone\"),\n",
    "(\"qmobilephone\",\" # of mobile phones\"),\n",
    "(\"lugar1\",\" =1 region Central\"),\n",
    "(\"lugar2\",\" =1 region Chorotega\"),\n",
    "(\"lugar3\",\" =1 region PacÃƒÂ­fico central\"),\n",
    "(\"lugar4\",\" =1 region Brunca\"),\n",
    "(\"lugar5\",\" =1 region Huetar AtlÃƒÂ¡ntica\"),\n",
    "(\"lugar6\",\" =1 region Huetar Norte\"),\n",
    "(\"area1\",\" =1 zona urbana\"),\n",
    "(\"area2\",\" =2 zona rural\"),\n",
    "(\"age\",\" Age in years\"),\n",
    "(\"SQBescolari\",\" escolari squared\"),\n",
    "(\"SQBage\",\" age squared\"),\n",
    "(\"SQBhogar_total\",\" hogar_total squared\"),\n",
    "(\"SQBedjefe\",\" edjefe squared\"),\n",
    "(\"SQBhogar_nin\",\" hogar_nin squared\"),\n",
    "(\"SQBovercrowding\",\" overcrowding squared\"),\n",
    "(\"SQBdependency\",\" dependency squared\"),\n",
    "(\"SQBmeaned\",\" meaned squared\"),\n",
    "(\"agesq\",\" Age squared\"),]\n",
    "\n",
    "description = pd.DataFrame(description, columns=['varname', 'description'])"
   ]
  },
  {
   "cell_type": "code",
   "execution_count": 7,
   "id": "5a1c779d",
   "metadata": {
    "execution": {
     "iopub.execute_input": "2023-03-11T02:03:21.038281Z",
     "iopub.status.busy": "2023-03-11T02:03:21.036916Z",
     "iopub.status.idle": "2023-03-11T02:03:21.051821Z",
     "shell.execute_reply": "2023-03-11T02:03:21.050396Z"
    },
    "papermill": {
     "duration": 0.050209,
     "end_time": "2023-03-11T02:03:21.054726",
     "exception": false,
     "start_time": "2023-03-11T02:03:21.004517",
     "status": "completed"
    },
    "tags": []
   },
   "outputs": [
    {
     "data": {
      "text/html": [
       "<div>\n",
       "<style scoped>\n",
       "    .dataframe tbody tr th:only-of-type {\n",
       "        vertical-align: middle;\n",
       "    }\n",
       "\n",
       "    .dataframe tbody tr th {\n",
       "        vertical-align: top;\n",
       "    }\n",
       "\n",
       "    .dataframe thead th {\n",
       "        text-align: right;\n",
       "    }\n",
       "</style>\n",
       "<table border=\"1\" class=\"dataframe\">\n",
       "  <thead>\n",
       "    <tr style=\"text-align: right;\">\n",
       "      <th></th>\n",
       "      <th>varname</th>\n",
       "      <th>description</th>\n",
       "    </tr>\n",
       "  </thead>\n",
       "  <tbody>\n",
       "    <tr>\n",
       "      <th>0</th>\n",
       "      <td>v2a1</td>\n",
       "      <td>Monthly rent payment</td>\n",
       "    </tr>\n",
       "    <tr>\n",
       "      <th>1</th>\n",
       "      <td>hacdor</td>\n",
       "      <td>=1 Overcrowding by bedrooms</td>\n",
       "    </tr>\n",
       "    <tr>\n",
       "      <th>2</th>\n",
       "      <td>rooms</td>\n",
       "      <td>number of all rooms in the house</td>\n",
       "    </tr>\n",
       "    <tr>\n",
       "      <th>3</th>\n",
       "      <td>hacapo</td>\n",
       "      <td>=1 Overcrowding by rooms</td>\n",
       "    </tr>\n",
       "    <tr>\n",
       "      <th>4</th>\n",
       "      <td>v14a</td>\n",
       "      <td>=1 has toilet in the household</td>\n",
       "    </tr>\n",
       "    <tr>\n",
       "      <th>...</th>\n",
       "      <td>...</td>\n",
       "      <td>...</td>\n",
       "    </tr>\n",
       "    <tr>\n",
       "      <th>136</th>\n",
       "      <td>SQBhogar_nin</td>\n",
       "      <td>hogar_nin squared</td>\n",
       "    </tr>\n",
       "    <tr>\n",
       "      <th>137</th>\n",
       "      <td>SQBovercrowding</td>\n",
       "      <td>overcrowding squared</td>\n",
       "    </tr>\n",
       "    <tr>\n",
       "      <th>138</th>\n",
       "      <td>SQBdependency</td>\n",
       "      <td>dependency squared</td>\n",
       "    </tr>\n",
       "    <tr>\n",
       "      <th>139</th>\n",
       "      <td>SQBmeaned</td>\n",
       "      <td>meaned squared</td>\n",
       "    </tr>\n",
       "    <tr>\n",
       "      <th>140</th>\n",
       "      <td>agesq</td>\n",
       "      <td>Age squared</td>\n",
       "    </tr>\n",
       "  </tbody>\n",
       "</table>\n",
       "<p>141 rows × 2 columns</p>\n",
       "</div>"
      ],
      "text/plain": [
       "             varname                         description\n",
       "0               v2a1                Monthly rent payment\n",
       "1             hacdor         =1 Overcrowding by bedrooms\n",
       "2              rooms    number of all rooms in the house\n",
       "3             hacapo            =1 Overcrowding by rooms\n",
       "4               v14a      =1 has toilet in the household\n",
       "..               ...                                 ...\n",
       "136     SQBhogar_nin                   hogar_nin squared\n",
       "137  SQBovercrowding                overcrowding squared\n",
       "138    SQBdependency                  dependency squared\n",
       "139        SQBmeaned                      meaned squared\n",
       "140            agesq                         Age squared\n",
       "\n",
       "[141 rows x 2 columns]"
      ]
     },
     "execution_count": 7,
     "metadata": {},
     "output_type": "execute_result"
    }
   ],
   "source": [
    "description"
   ]
  },
  {
   "cell_type": "markdown",
   "id": "9561060b",
   "metadata": {
    "papermill": {
     "duration": 0.0307,
     "end_time": "2023-03-11T02:03:21.117278",
     "exception": false,
     "start_time": "2023-03-11T02:03:21.086578",
     "status": "completed"
    },
    "tags": []
   },
   "source": [
    "### 1.3 Check null data"
   ]
  },
  {
   "cell_type": "code",
   "execution_count": 8,
   "id": "10c1b34c",
   "metadata": {
    "execution": {
     "iopub.execute_input": "2023-03-11T02:03:21.180636Z",
     "iopub.status.busy": "2023-03-11T02:03:21.179673Z",
     "iopub.status.idle": "2023-03-11T02:03:21.205745Z",
     "shell.execute_reply": "2023-03-11T02:03:21.204125Z"
    },
    "papermill": {
     "duration": 0.061105,
     "end_time": "2023-03-11T02:03:21.208662",
     "exception": false,
     "start_time": "2023-03-11T02:03:21.147557",
     "status": "completed"
    },
    "tags": []
   },
   "outputs": [
    {
     "data": {
      "text/html": [
       "<div>\n",
       "<style scoped>\n",
       "    .dataframe tbody tr th:only-of-type {\n",
       "        vertical-align: middle;\n",
       "    }\n",
       "\n",
       "    .dataframe tbody tr th {\n",
       "        vertical-align: top;\n",
       "    }\n",
       "\n",
       "    .dataframe thead th {\n",
       "        text-align: right;\n",
       "    }\n",
       "</style>\n",
       "<table border=\"1\" class=\"dataframe\">\n",
       "  <thead>\n",
       "    <tr style=\"text-align: right;\">\n",
       "      <th></th>\n",
       "      <th>Id</th>\n",
       "      <th>v2a1</th>\n",
       "      <th>hacdor</th>\n",
       "      <th>rooms</th>\n",
       "      <th>hacapo</th>\n",
       "      <th>v14a</th>\n",
       "      <th>refrig</th>\n",
       "      <th>v18q</th>\n",
       "      <th>v18q1</th>\n",
       "      <th>r4h1</th>\n",
       "      <th>...</th>\n",
       "      <th>SQBescolari</th>\n",
       "      <th>SQBage</th>\n",
       "      <th>SQBhogar_total</th>\n",
       "      <th>SQBedjefe</th>\n",
       "      <th>SQBhogar_nin</th>\n",
       "      <th>SQBovercrowding</th>\n",
       "      <th>SQBdependency</th>\n",
       "      <th>SQBmeaned</th>\n",
       "      <th>agesq</th>\n",
       "      <th>Target</th>\n",
       "    </tr>\n",
       "  </thead>\n",
       "  <tbody>\n",
       "    <tr>\n",
       "      <th>0</th>\n",
       "      <td>ID_279628684</td>\n",
       "      <td>190000.0</td>\n",
       "      <td>0</td>\n",
       "      <td>3</td>\n",
       "      <td>0</td>\n",
       "      <td>1</td>\n",
       "      <td>1</td>\n",
       "      <td>0</td>\n",
       "      <td>NaN</td>\n",
       "      <td>0</td>\n",
       "      <td>...</td>\n",
       "      <td>100</td>\n",
       "      <td>1849</td>\n",
       "      <td>1</td>\n",
       "      <td>100</td>\n",
       "      <td>0</td>\n",
       "      <td>1.000000</td>\n",
       "      <td>0.0</td>\n",
       "      <td>100.0</td>\n",
       "      <td>1849</td>\n",
       "      <td>4</td>\n",
       "    </tr>\n",
       "    <tr>\n",
       "      <th>1</th>\n",
       "      <td>ID_f29eb3ddd</td>\n",
       "      <td>135000.0</td>\n",
       "      <td>0</td>\n",
       "      <td>4</td>\n",
       "      <td>0</td>\n",
       "      <td>1</td>\n",
       "      <td>1</td>\n",
       "      <td>1</td>\n",
       "      <td>1.0</td>\n",
       "      <td>0</td>\n",
       "      <td>...</td>\n",
       "      <td>144</td>\n",
       "      <td>4489</td>\n",
       "      <td>1</td>\n",
       "      <td>144</td>\n",
       "      <td>0</td>\n",
       "      <td>1.000000</td>\n",
       "      <td>64.0</td>\n",
       "      <td>144.0</td>\n",
       "      <td>4489</td>\n",
       "      <td>4</td>\n",
       "    </tr>\n",
       "    <tr>\n",
       "      <th>2</th>\n",
       "      <td>ID_68de51c94</td>\n",
       "      <td>NaN</td>\n",
       "      <td>0</td>\n",
       "      <td>8</td>\n",
       "      <td>0</td>\n",
       "      <td>1</td>\n",
       "      <td>1</td>\n",
       "      <td>0</td>\n",
       "      <td>NaN</td>\n",
       "      <td>0</td>\n",
       "      <td>...</td>\n",
       "      <td>121</td>\n",
       "      <td>8464</td>\n",
       "      <td>1</td>\n",
       "      <td>0</td>\n",
       "      <td>0</td>\n",
       "      <td>0.250000</td>\n",
       "      <td>64.0</td>\n",
       "      <td>121.0</td>\n",
       "      <td>8464</td>\n",
       "      <td>4</td>\n",
       "    </tr>\n",
       "    <tr>\n",
       "      <th>3</th>\n",
       "      <td>ID_d671db89c</td>\n",
       "      <td>180000.0</td>\n",
       "      <td>0</td>\n",
       "      <td>5</td>\n",
       "      <td>0</td>\n",
       "      <td>1</td>\n",
       "      <td>1</td>\n",
       "      <td>1</td>\n",
       "      <td>1.0</td>\n",
       "      <td>0</td>\n",
       "      <td>...</td>\n",
       "      <td>81</td>\n",
       "      <td>289</td>\n",
       "      <td>16</td>\n",
       "      <td>121</td>\n",
       "      <td>4</td>\n",
       "      <td>1.777778</td>\n",
       "      <td>1.0</td>\n",
       "      <td>121.0</td>\n",
       "      <td>289</td>\n",
       "      <td>4</td>\n",
       "    </tr>\n",
       "    <tr>\n",
       "      <th>4</th>\n",
       "      <td>ID_d56d6f5f5</td>\n",
       "      <td>180000.0</td>\n",
       "      <td>0</td>\n",
       "      <td>5</td>\n",
       "      <td>0</td>\n",
       "      <td>1</td>\n",
       "      <td>1</td>\n",
       "      <td>1</td>\n",
       "      <td>1.0</td>\n",
       "      <td>0</td>\n",
       "      <td>...</td>\n",
       "      <td>121</td>\n",
       "      <td>1369</td>\n",
       "      <td>16</td>\n",
       "      <td>121</td>\n",
       "      <td>4</td>\n",
       "      <td>1.777778</td>\n",
       "      <td>1.0</td>\n",
       "      <td>121.0</td>\n",
       "      <td>1369</td>\n",
       "      <td>4</td>\n",
       "    </tr>\n",
       "  </tbody>\n",
       "</table>\n",
       "<p>5 rows × 143 columns</p>\n",
       "</div>"
      ],
      "text/plain": [
       "             Id      v2a1  hacdor  rooms  hacapo  v14a  refrig  v18q  v18q1  \\\n",
       "0  ID_279628684  190000.0       0      3       0     1       1     0    NaN   \n",
       "1  ID_f29eb3ddd  135000.0       0      4       0     1       1     1    1.0   \n",
       "2  ID_68de51c94       NaN       0      8       0     1       1     0    NaN   \n",
       "3  ID_d671db89c  180000.0       0      5       0     1       1     1    1.0   \n",
       "4  ID_d56d6f5f5  180000.0       0      5       0     1       1     1    1.0   \n",
       "\n",
       "   r4h1  ...  SQBescolari  SQBage  SQBhogar_total  SQBedjefe  SQBhogar_nin  \\\n",
       "0     0  ...          100    1849               1        100             0   \n",
       "1     0  ...          144    4489               1        144             0   \n",
       "2     0  ...          121    8464               1          0             0   \n",
       "3     0  ...           81     289              16        121             4   \n",
       "4     0  ...          121    1369              16        121             4   \n",
       "\n",
       "   SQBovercrowding  SQBdependency  SQBmeaned  agesq  Target  \n",
       "0         1.000000            0.0      100.0   1849       4  \n",
       "1         1.000000           64.0      144.0   4489       4  \n",
       "2         0.250000           64.0      121.0   8464       4  \n",
       "3         1.777778            1.0      121.0    289       4  \n",
       "4         1.777778            1.0      121.0   1369       4  \n",
       "\n",
       "[5 rows x 143 columns]"
      ]
     },
     "execution_count": 8,
     "metadata": {},
     "output_type": "execute_result"
    }
   ],
   "source": [
    "df_train.head()"
   ]
  },
  {
   "cell_type": "code",
   "execution_count": 9,
   "id": "14786bd4",
   "metadata": {
    "execution": {
     "iopub.execute_input": "2023-03-11T02:03:21.273995Z",
     "iopub.status.busy": "2023-03-11T02:03:21.273542Z",
     "iopub.status.idle": "2023-03-11T02:03:21.309780Z",
     "shell.execute_reply": "2023-03-11T02:03:21.308140Z"
    },
    "papermill": {
     "duration": 0.072795,
     "end_time": "2023-03-11T02:03:21.313187",
     "exception": false,
     "start_time": "2023-03-11T02:03:21.240392",
     "status": "completed"
    },
    "tags": []
   },
   "outputs": [],
   "source": [
    "total = df_train.isnull().sum().sort_values(ascending=False)\n",
    "percent = 100 * (df_train.isnull().sum() / df_train.isnull().count()).sort_values(ascending=False)\n",
    "missing_df = pd.concat([total, percent], axis=1, keys=['Total', 'Percent'])"
   ]
  },
  {
   "cell_type": "code",
   "execution_count": 10,
   "id": "e4a8523f",
   "metadata": {
    "execution": {
     "iopub.execute_input": "2023-03-11T02:03:21.380051Z",
     "iopub.status.busy": "2023-03-11T02:03:21.378885Z",
     "iopub.status.idle": "2023-03-11T02:03:21.392307Z",
     "shell.execute_reply": "2023-03-11T02:03:21.391246Z"
    },
    "papermill": {
     "duration": 0.050378,
     "end_time": "2023-03-11T02:03:21.395454",
     "exception": false,
     "start_time": "2023-03-11T02:03:21.345076",
     "status": "completed"
    },
    "tags": []
   },
   "outputs": [
    {
     "data": {
      "text/html": [
       "<div>\n",
       "<style scoped>\n",
       "    .dataframe tbody tr th:only-of-type {\n",
       "        vertical-align: middle;\n",
       "    }\n",
       "\n",
       "    .dataframe tbody tr th {\n",
       "        vertical-align: top;\n",
       "    }\n",
       "\n",
       "    .dataframe thead th {\n",
       "        text-align: right;\n",
       "    }\n",
       "</style>\n",
       "<table border=\"1\" class=\"dataframe\">\n",
       "  <thead>\n",
       "    <tr style=\"text-align: right;\">\n",
       "      <th></th>\n",
       "      <th>Total</th>\n",
       "      <th>Percent</th>\n",
       "    </tr>\n",
       "  </thead>\n",
       "  <tbody>\n",
       "    <tr>\n",
       "      <th>rez_esc</th>\n",
       "      <td>7928</td>\n",
       "      <td>82.954902</td>\n",
       "    </tr>\n",
       "    <tr>\n",
       "      <th>v18q1</th>\n",
       "      <td>7342</td>\n",
       "      <td>76.823271</td>\n",
       "    </tr>\n",
       "    <tr>\n",
       "      <th>v2a1</th>\n",
       "      <td>6860</td>\n",
       "      <td>71.779847</td>\n",
       "    </tr>\n",
       "    <tr>\n",
       "      <th>SQBmeaned</th>\n",
       "      <td>5</td>\n",
       "      <td>0.052318</td>\n",
       "    </tr>\n",
       "    <tr>\n",
       "      <th>meaneduc</th>\n",
       "      <td>5</td>\n",
       "      <td>0.052318</td>\n",
       "    </tr>\n",
       "    <tr>\n",
       "      <th>...</th>\n",
       "      <td>...</td>\n",
       "      <td>...</td>\n",
       "    </tr>\n",
       "    <tr>\n",
       "      <th>abastaguadentro</th>\n",
       "      <td>0</td>\n",
       "      <td>0.000000</td>\n",
       "    </tr>\n",
       "    <tr>\n",
       "      <th>cielorazo</th>\n",
       "      <td>0</td>\n",
       "      <td>0.000000</td>\n",
       "    </tr>\n",
       "    <tr>\n",
       "      <th>techootro</th>\n",
       "      <td>0</td>\n",
       "      <td>0.000000</td>\n",
       "    </tr>\n",
       "    <tr>\n",
       "      <th>techocane</th>\n",
       "      <td>0</td>\n",
       "      <td>0.000000</td>\n",
       "    </tr>\n",
       "    <tr>\n",
       "      <th>Target</th>\n",
       "      <td>0</td>\n",
       "      <td>0.000000</td>\n",
       "    </tr>\n",
       "  </tbody>\n",
       "</table>\n",
       "<p>143 rows × 2 columns</p>\n",
       "</div>"
      ],
      "text/plain": [
       "                 Total    Percent\n",
       "rez_esc           7928  82.954902\n",
       "v18q1             7342  76.823271\n",
       "v2a1              6860  71.779847\n",
       "SQBmeaned            5   0.052318\n",
       "meaneduc             5   0.052318\n",
       "...                ...        ...\n",
       "abastaguadentro      0   0.000000\n",
       "cielorazo            0   0.000000\n",
       "techootro            0   0.000000\n",
       "techocane            0   0.000000\n",
       "Target               0   0.000000\n",
       "\n",
       "[143 rows x 2 columns]"
      ]
     },
     "execution_count": 10,
     "metadata": {},
     "output_type": "execute_result"
    }
   ],
   "source": [
    "missing_df"
   ]
  },
  {
   "cell_type": "markdown",
   "id": "f5c153a0",
   "metadata": {
    "papermill": {
     "duration": 0.032476,
     "end_time": "2023-03-11T02:03:21.459585",
     "exception": false,
     "start_time": "2023-03-11T02:03:21.427109",
     "status": "completed"
    },
    "tags": []
   },
   "source": [
    "### 1.4 Fill missing values"
   ]
  },
  {
   "cell_type": "code",
   "execution_count": 11,
   "id": "ddc1543b",
   "metadata": {
    "execution": {
     "iopub.execute_input": "2023-03-11T02:03:21.526377Z",
     "iopub.status.busy": "2023-03-11T02:03:21.525862Z",
     "iopub.status.idle": "2023-03-11T02:03:21.544241Z",
     "shell.execute_reply": "2023-03-11T02:03:21.543112Z"
    },
    "papermill": {
     "duration": 0.05543,
     "end_time": "2023-03-11T02:03:21.547011",
     "exception": false,
     "start_time": "2023-03-11T02:03:21.491581",
     "status": "completed"
    },
    "tags": []
   },
   "outputs": [
    {
     "data": {
      "text/plain": [
       "432     1\n",
       "568     1\n",
       "595     1\n",
       "976     1\n",
       "1574    1\n",
       "2464    1\n",
       "2614    1\n",
       "3469    1\n",
       "3855    1\n",
       "3952    1\n",
       "4197    1\n",
       "4487    1\n",
       "4867    1\n",
       "4888    1\n",
       "4920    1\n",
       "6030    1\n",
       "6067    1\n",
       "6427    1\n",
       "7117    1\n",
       "7887    1\n",
       "8134    1\n",
       "8164    1\n",
       "8437    1\n",
       "8509    1\n",
       "9166    1\n",
       "Name: escolari, dtype: int64"
      ]
     },
     "execution_count": 11,
     "metadata": {},
     "output_type": "execute_result"
    }
   ],
   "source": [
    "df_train.loc[(df_train['edjefa'] == \"yes\") & (df_train['parentesco1'] == 1), \"edjefa\"]\n",
    "df_train.loc[(df_train['edjefa'] == \"yes\") & (df_train['parentesco1'] == 1), 'escolari']"
   ]
  },
  {
   "cell_type": "code",
   "execution_count": 12,
   "id": "1fdda1e1",
   "metadata": {
    "execution": {
     "iopub.execute_input": "2023-03-11T02:03:21.611830Z",
     "iopub.status.busy": "2023-03-11T02:03:21.611308Z",
     "iopub.status.idle": "2023-03-11T02:03:21.675991Z",
     "shell.execute_reply": "2023-03-11T02:03:21.674130Z"
    },
    "papermill": {
     "duration": 0.100394,
     "end_time": "2023-03-11T02:03:21.679277",
     "exception": false,
     "start_time": "2023-03-11T02:03:21.578883",
     "status": "completed"
    },
    "tags": []
   },
   "outputs": [],
   "source": [
    "# if education is \"yes\" and person is head of household, fill with escolari\n",
    "df_train.loc[(df_train['edjefa'] == \"yes\") & (df_train['parentesco1'] == 1), \"edjefa\"] = df_train.loc[(df_train['edjefa'] == \"yes\") & (df_train['parentesco1'] == 1), \"escolari\"]\n",
    "df_train.loc[(df_train['edjefe'] == \"yes\") & (df_train['parentesco1'] == 1), \"edjefe\"] = df_train.loc[(df_train['edjefe'] == \"yes\") & (df_train['parentesco1'] == 1), \"escolari\"]\n",
    "\n",
    "df_test.loc[(df_test['edjefa'] == \"yes\") & (df_test['parentesco1'] == 1), \"edjefa\"] = df_test.loc[(df_test['edjefa'] == \"yes\") & (df_test['parentesco1'] == 1), \"escolari\"]\n",
    "df_test.loc[(df_test['edjefe'] == \"yes\") & (df_test['parentesco1'] == 1), \"edjefe\"] = df_test.loc[(df_test['edjefe'] == \"yes\") & (df_test['parentesco1'] == 1), \"escolari\"]\n",
    "\n",
    "# this field is supposed to be interaction between gender and escolari, but it isn't clear what \"yes\" means, let's fill it with 4\n",
    "df_train.loc[df_train['edjefa'] == \"yes\", \"edjefa\"] = 4\n",
    "df_train.loc[df_train['edjefe'] == \"yes\", \"edjefe\"] = 4\n",
    "\n",
    "df_test.loc[df_test['edjefa'] == \"yes\", \"edjefa\"] = 4\n",
    "df_test.loc[df_test['edjefe'] == \"yes\", \"edjefe\"] = 4\n",
    "\n",
    "# create feature with max education of either head of household\n",
    "df_train['edjef'] = np.max(df_train[['edjefa','edjefe']], axis=1)\n",
    "df_test['edjef'] = np.max(df_test[['edjefa','edjefe']], axis=1)\n",
    "\n",
    "# fix some inconsistencies in the data - some rows indicate both that the household does and does not have a toilet, \n",
    "# if there is no water we'll assume they do not\n",
    "df_train.loc[(df_train.v14a ==  1) & (df_train.sanitario1 ==  1) & (df_train.abastaguano == 0), \"v14a\"] = 0\n",
    "df_train.loc[(df_train.v14a ==  1) & (df_train.sanitario1 ==  1) & (df_train.abastaguano == 0), \"sanitario1\"] = 0\n",
    "\n",
    "df_test.loc[(df_test.v14a ==  1) & (df_test.sanitario1 ==  1) & (df_test.abastaguano == 0), \"v14a\"] = 0\n",
    "df_test.loc[(df_test.v14a ==  1) & (df_test.sanitario1 ==  1) & (df_test.abastaguano == 0), \"sanitario1\"] = 0"
   ]
  },
  {
   "cell_type": "markdown",
   "id": "ca56b373",
   "metadata": {
    "papermill": {
     "duration": 0.030933,
     "end_time": "2023-03-11T02:03:21.740934",
     "exception": false,
     "start_time": "2023-03-11T02:03:21.710001",
     "status": "completed"
    },
    "tags": []
   },
   "source": [
    "#### rez_esc, SQBmeaned\n",
    "- rez_esc : Years Behind in School -> filled with 0\n",
    "- SQBmeaned : square of the mean years of education of adults (>=18) in the household agesq, Age squared -> same with rez_esc -> filled with 0"
   ]
  },
  {
   "cell_type": "code",
   "execution_count": 13,
   "id": "08b458e7",
   "metadata": {
    "execution": {
     "iopub.execute_input": "2023-03-11T02:03:21.807294Z",
     "iopub.status.busy": "2023-03-11T02:03:21.805996Z",
     "iopub.status.idle": "2023-03-11T02:03:21.816270Z",
     "shell.execute_reply": "2023-03-11T02:03:21.814679Z"
    },
    "papermill": {
     "duration": 0.046724,
     "end_time": "2023-03-11T02:03:21.819009",
     "exception": false,
     "start_time": "2023-03-11T02:03:21.772285",
     "status": "completed"
    },
    "tags": []
   },
   "outputs": [],
   "source": [
    "df_train['rez_esc'].fillna(0, inplace=True)\n",
    "df_test['rez_esc'].fillna(0, inplace=True)\n",
    "\n",
    "df_train['SQBmeaned'].fillna(0, inplace=True)\n",
    "df_test['SQBmeaned'].fillna(0, inplace=True)"
   ]
  },
  {
   "cell_type": "markdown",
   "id": "ab4a1595",
   "metadata": {
    "papermill": {
     "duration": 0.030805,
     "end_time": "2023-03-11T02:03:21.880587",
     "exception": false,
     "start_time": "2023-03-11T02:03:21.849782",
     "status": "completed"
    },
    "tags": []
   },
   "source": [
    "#### meaneduc\n",
    "- meaneduc: average years of education for adults (18+) -> filled with 0"
   ]
  },
  {
   "cell_type": "code",
   "execution_count": 14,
   "id": "92522cfa",
   "metadata": {
    "execution": {
     "iopub.execute_input": "2023-03-11T02:03:21.945412Z",
     "iopub.status.busy": "2023-03-11T02:03:21.944818Z",
     "iopub.status.idle": "2023-03-11T02:03:21.953160Z",
     "shell.execute_reply": "2023-03-11T02:03:21.951750Z"
    },
    "papermill": {
     "duration": 0.045011,
     "end_time": "2023-03-11T02:03:21.956175",
     "exception": false,
     "start_time": "2023-03-11T02:03:21.911164",
     "status": "completed"
    },
    "tags": []
   },
   "outputs": [],
   "source": [
    "df_train['meaneduc'].fillna(0, inplace=True)\n",
    "df_test['meaneduc'].fillna(0, inplace=True)"
   ]
  },
  {
   "cell_type": "markdown",
   "id": "dc0f9c1d",
   "metadata": {
    "papermill": {
     "duration": 0.031299,
     "end_time": "2023-03-11T02:03:22.019573",
     "exception": false,
     "start_time": "2023-03-11T02:03:21.988274",
     "status": "completed"
    },
    "tags": []
   },
   "source": [
    "#### v18q1\n",
    "- v18q1: number of tablets household owns -> if v18q(Do you own a tablet?) == 1, there are some values. If not, only NaN values in v18q1. See below 3 cells."
   ]
  },
  {
   "cell_type": "code",
   "execution_count": 15,
   "id": "19f81685",
   "metadata": {
    "execution": {
     "iopub.execute_input": "2023-03-11T02:03:22.084718Z",
     "iopub.status.busy": "2023-03-11T02:03:22.084278Z",
     "iopub.status.idle": "2023-03-11T02:03:22.096675Z",
     "shell.execute_reply": "2023-03-11T02:03:22.095228Z"
    },
    "papermill": {
     "duration": 0.05019,
     "end_time": "2023-03-11T02:03:22.100723",
     "exception": false,
     "start_time": "2023-03-11T02:03:22.050533",
     "status": "completed"
    },
    "tags": []
   },
   "outputs": [
    {
     "data": {
      "text/plain": [
       "0    7342\n",
       "1    2215\n",
       "Name: v18q, dtype: int64"
      ]
     },
     "execution_count": 15,
     "metadata": {},
     "output_type": "execute_result"
    }
   ],
   "source": [
    "df_train['v18q'].value_counts()"
   ]
  },
  {
   "cell_type": "code",
   "execution_count": 16,
   "id": "bfc1b8fb",
   "metadata": {
    "execution": {
     "iopub.execute_input": "2023-03-11T02:03:22.167671Z",
     "iopub.status.busy": "2023-03-11T02:03:22.167206Z",
     "iopub.status.idle": "2023-03-11T02:03:22.180948Z",
     "shell.execute_reply": "2023-03-11T02:03:22.179528Z"
    },
    "papermill": {
     "duration": 0.0496,
     "end_time": "2023-03-11T02:03:22.183699",
     "exception": false,
     "start_time": "2023-03-11T02:03:22.134099",
     "status": "completed"
    },
    "tags": []
   },
   "outputs": [
    {
     "data": {
      "text/plain": [
       "1.0    1586\n",
       "2.0     444\n",
       "3.0     129\n",
       "4.0      37\n",
       "5.0      13\n",
       "6.0       6\n",
       "Name: v18q1, dtype: int64"
      ]
     },
     "execution_count": 16,
     "metadata": {},
     "output_type": "execute_result"
    }
   ],
   "source": [
    "df_train.loc[df_train['v18q'] == 1, 'v18q1'].value_counts()"
   ]
  },
  {
   "cell_type": "code",
   "execution_count": 17,
   "id": "eebdb047",
   "metadata": {
    "execution": {
     "iopub.execute_input": "2023-03-11T02:03:22.249135Z",
     "iopub.status.busy": "2023-03-11T02:03:22.248662Z",
     "iopub.status.idle": "2023-03-11T02:03:22.258677Z",
     "shell.execute_reply": "2023-03-11T02:03:22.257586Z"
    },
    "papermill": {
     "duration": 0.045726,
     "end_time": "2023-03-11T02:03:22.261509",
     "exception": false,
     "start_time": "2023-03-11T02:03:22.215783",
     "status": "completed"
    },
    "tags": []
   },
   "outputs": [
    {
     "data": {
      "text/plain": [
       "Series([], Name: v18q1, dtype: int64)"
      ]
     },
     "execution_count": 17,
     "metadata": {},
     "output_type": "execute_result"
    }
   ],
   "source": [
    "df_train.loc[df_train['v18q'] == 0, 'v18q1'].value_counts()"
   ]
  },
  {
   "cell_type": "code",
   "execution_count": 18,
   "id": "d1dbf9c7",
   "metadata": {
    "execution": {
     "iopub.execute_input": "2023-03-11T02:03:22.328543Z",
     "iopub.status.busy": "2023-03-11T02:03:22.327298Z",
     "iopub.status.idle": "2023-03-11T02:03:22.335134Z",
     "shell.execute_reply": "2023-03-11T02:03:22.333799Z"
    },
    "papermill": {
     "duration": 0.044198,
     "end_time": "2023-03-11T02:03:22.338134",
     "exception": false,
     "start_time": "2023-03-11T02:03:22.293936",
     "status": "completed"
    },
    "tags": []
   },
   "outputs": [],
   "source": [
    "df_train['v18q1'].fillna(0, inplace=True)\n",
    "df_test['v18q1'].fillna(0, inplace=True)"
   ]
  },
  {
   "cell_type": "code",
   "execution_count": 19,
   "id": "556167ac",
   "metadata": {
    "execution": {
     "iopub.execute_input": "2023-03-11T02:03:22.404055Z",
     "iopub.status.busy": "2023-03-11T02:03:22.403542Z",
     "iopub.status.idle": "2023-03-11T02:03:22.414153Z",
     "shell.execute_reply": "2023-03-11T02:03:22.412326Z"
    },
    "papermill": {
     "duration": 0.046726,
     "end_time": "2023-03-11T02:03:22.417098",
     "exception": false,
     "start_time": "2023-03-11T02:03:22.370372",
     "status": "completed"
    },
    "tags": []
   },
   "outputs": [
    {
     "data": {
      "text/plain": [
       "0    7821\n",
       "1    1736\n",
       "Name: tipovivi3, dtype: int64"
      ]
     },
     "execution_count": 19,
     "metadata": {},
     "output_type": "execute_result"
    }
   ],
   "source": [
    "df_train['tipovivi3'].value_counts()"
   ]
  },
  {
   "cell_type": "code",
   "execution_count": 20,
   "id": "228e8b9f",
   "metadata": {
    "execution": {
     "iopub.execute_input": "2023-03-11T02:03:22.481748Z",
     "iopub.status.busy": "2023-03-11T02:03:22.481229Z",
     "iopub.status.idle": "2023-03-11T02:03:23.406084Z",
     "shell.execute_reply": "2023-03-11T02:03:23.404795Z"
    },
    "papermill": {
     "duration": 0.960768,
     "end_time": "2023-03-11T02:03:23.409106",
     "exception": false,
     "start_time": "2023-03-11T02:03:22.448338",
     "status": "completed"
    },
    "tags": []
   },
   "outputs": [
    {
     "data": {
      "image/png": "[encoded data removed]",
      "text/plain": [
       "<Figure size 800x550 with 1 Axes>"
      ]
     },
     "metadata": {},
     "output_type": "display_data"
    }
   ],
   "source": [
    "sns.kdeplot(df_train.loc[df_train['tipovivi3'] == 1, 'v2a1'],\n",
    "           label='Monthly rent payment of household(rented=1)')\n",
    "sns.kdeplot(df_train.loc[df_train['tipovivi3'] == 0, 'v2a1'],\n",
    "           label='Monthly rent payment of household(rented=0)')\n",
    "plt.xscale('log')\n",
    "plt.show()"
   ]
  },
  {
   "cell_type": "code",
   "execution_count": 21,
   "id": "2f914f31",
   "metadata": {
    "execution": {
     "iopub.execute_input": "2023-03-11T02:03:23.478253Z",
     "iopub.status.busy": "2023-03-11T02:03:23.477787Z",
     "iopub.status.idle": "2023-03-11T02:03:23.484635Z",
     "shell.execute_reply": "2023-03-11T02:03:23.483576Z"
    },
    "papermill": {
     "duration": 0.045102,
     "end_time": "2023-03-11T02:03:23.487246",
     "exception": false,
     "start_time": "2023-03-11T02:03:23.442144",
     "status": "completed"
    },
    "tags": []
   },
   "outputs": [],
   "source": [
    "df_train['v2a1'].fillna(0, inplace=True)\n",
    "df_test['v2a1'].fillna(0, inplace=True)"
   ]
  },
  {
   "cell_type": "code",
   "execution_count": 22,
   "id": "b9b82b82",
   "metadata": {
    "execution": {
     "iopub.execute_input": "2023-03-11T02:03:23.554783Z",
     "iopub.status.busy": "2023-03-11T02:03:23.553946Z",
     "iopub.status.idle": "2023-03-11T02:03:23.594923Z",
     "shell.execute_reply": "2023-03-11T02:03:23.593528Z"
    },
    "papermill": {
     "duration": 0.077864,
     "end_time": "2023-03-11T02:03:23.598206",
     "exception": false,
     "start_time": "2023-03-11T02:03:23.520342",
     "status": "completed"
    },
    "tags": []
   },
   "outputs": [
    {
     "data": {
      "text/html": [
       "<div>\n",
       "<style scoped>\n",
       "    .dataframe tbody tr th:only-of-type {\n",
       "        vertical-align: middle;\n",
       "    }\n",
       "\n",
       "    .dataframe tbody tr th {\n",
       "        vertical-align: top;\n",
       "    }\n",
       "\n",
       "    .dataframe thead th {\n",
       "        text-align: right;\n",
       "    }\n",
       "</style>\n",
       "<table border=\"1\" class=\"dataframe\">\n",
       "  <thead>\n",
       "    <tr style=\"text-align: right;\">\n",
       "      <th></th>\n",
       "      <th>Total</th>\n",
       "      <th>Percent</th>\n",
       "    </tr>\n",
       "  </thead>\n",
       "  <tbody>\n",
       "    <tr>\n",
       "      <th>edjef</th>\n",
       "      <td>9557</td>\n",
       "      <td>100.0</td>\n",
       "    </tr>\n",
       "    <tr>\n",
       "      <th>v2a1</th>\n",
       "      <td>0</td>\n",
       "      <td>0.0</td>\n",
       "    </tr>\n",
       "    <tr>\n",
       "      <th>parentesco10</th>\n",
       "      <td>0</td>\n",
       "      <td>0.0</td>\n",
       "    </tr>\n",
       "    <tr>\n",
       "      <th>parentesco11</th>\n",
       "      <td>0</td>\n",
       "      <td>0.0</td>\n",
       "    </tr>\n",
       "    <tr>\n",
       "      <th>parentesco12</th>\n",
       "      <td>0</td>\n",
       "      <td>0.0</td>\n",
       "    </tr>\n",
       "    <tr>\n",
       "      <th>idhogar</th>\n",
       "      <td>0</td>\n",
       "      <td>0.0</td>\n",
       "    </tr>\n",
       "    <tr>\n",
       "      <th>hogar_nin</th>\n",
       "      <td>0</td>\n",
       "      <td>0.0</td>\n",
       "    </tr>\n",
       "    <tr>\n",
       "      <th>hogar_adul</th>\n",
       "      <td>0</td>\n",
       "      <td>0.0</td>\n",
       "    </tr>\n",
       "    <tr>\n",
       "      <th>hogar_mayor</th>\n",
       "      <td>0</td>\n",
       "      <td>0.0</td>\n",
       "    </tr>\n",
       "    <tr>\n",
       "      <th>hogar_total</th>\n",
       "      <td>0</td>\n",
       "      <td>0.0</td>\n",
       "    </tr>\n",
       "    <tr>\n",
       "      <th>dependency</th>\n",
       "      <td>0</td>\n",
       "      <td>0.0</td>\n",
       "    </tr>\n",
       "    <tr>\n",
       "      <th>edjefe</th>\n",
       "      <td>0</td>\n",
       "      <td>0.0</td>\n",
       "    </tr>\n",
       "    <tr>\n",
       "      <th>edjefa</th>\n",
       "      <td>0</td>\n",
       "      <td>0.0</td>\n",
       "    </tr>\n",
       "    <tr>\n",
       "      <th>meaneduc</th>\n",
       "      <td>0</td>\n",
       "      <td>0.0</td>\n",
       "    </tr>\n",
       "    <tr>\n",
       "      <th>instlevel1</th>\n",
       "      <td>0</td>\n",
       "      <td>0.0</td>\n",
       "    </tr>\n",
       "    <tr>\n",
       "      <th>instlevel2</th>\n",
       "      <td>0</td>\n",
       "      <td>0.0</td>\n",
       "    </tr>\n",
       "    <tr>\n",
       "      <th>instlevel3</th>\n",
       "      <td>0</td>\n",
       "      <td>0.0</td>\n",
       "    </tr>\n",
       "    <tr>\n",
       "      <th>parentesco9</th>\n",
       "      <td>0</td>\n",
       "      <td>0.0</td>\n",
       "    </tr>\n",
       "    <tr>\n",
       "      <th>parentesco8</th>\n",
       "      <td>0</td>\n",
       "      <td>0.0</td>\n",
       "    </tr>\n",
       "    <tr>\n",
       "      <th>parentesco7</th>\n",
       "      <td>0</td>\n",
       "      <td>0.0</td>\n",
       "    </tr>\n",
       "  </tbody>\n",
       "</table>\n",
       "</div>"
      ],
      "text/plain": [
       "              Total  Percent\n",
       "edjef          9557    100.0\n",
       "v2a1              0      0.0\n",
       "parentesco10      0      0.0\n",
       "parentesco11      0      0.0\n",
       "parentesco12      0      0.0\n",
       "idhogar           0      0.0\n",
       "hogar_nin         0      0.0\n",
       "hogar_adul        0      0.0\n",
       "hogar_mayor       0      0.0\n",
       "hogar_total       0      0.0\n",
       "dependency        0      0.0\n",
       "edjefe            0      0.0\n",
       "edjefa            0      0.0\n",
       "meaneduc          0      0.0\n",
       "instlevel1        0      0.0\n",
       "instlevel2        0      0.0\n",
       "instlevel3        0      0.0\n",
       "parentesco9       0      0.0\n",
       "parentesco8       0      0.0\n",
       "parentesco7       0      0.0"
      ]
     },
     "execution_count": 22,
     "metadata": {},
     "output_type": "execute_result"
    }
   ],
   "source": [
    "total = df_train.isnull().sum().sort_values(ascending=False)\n",
    "percent = 100 * (df_train.isnull().sum() / df_train.isnull().count()).sort_values(ascending=False)\n",
    "missing_df = pd.concat([total, percent], axis=1, keys=['Total', 'Percent'])\n",
    "\n",
    "missing_df.head(20)"
   ]
  },
  {
   "cell_type": "code",
   "execution_count": 23,
   "id": "de74f50f",
   "metadata": {
    "execution": {
     "iopub.execute_input": "2023-03-11T02:03:23.671829Z",
     "iopub.status.busy": "2023-03-11T02:03:23.671300Z",
     "iopub.status.idle": "2023-03-11T02:03:23.736725Z",
     "shell.execute_reply": "2023-03-11T02:03:23.734768Z"
    },
    "papermill": {
     "duration": 0.104485,
     "end_time": "2023-03-11T02:03:23.739954",
     "exception": false,
     "start_time": "2023-03-11T02:03:23.635469",
     "status": "completed"
    },
    "tags": []
   },
   "outputs": [
    {
     "data": {
      "text/html": [
       "<div>\n",
       "<style scoped>\n",
       "    .dataframe tbody tr th:only-of-type {\n",
       "        vertical-align: middle;\n",
       "    }\n",
       "\n",
       "    .dataframe tbody tr th {\n",
       "        vertical-align: top;\n",
       "    }\n",
       "\n",
       "    .dataframe thead th {\n",
       "        text-align: right;\n",
       "    }\n",
       "</style>\n",
       "<table border=\"1\" class=\"dataframe\">\n",
       "  <thead>\n",
       "    <tr style=\"text-align: right;\">\n",
       "      <th></th>\n",
       "      <th>Total</th>\n",
       "      <th>Percent</th>\n",
       "    </tr>\n",
       "  </thead>\n",
       "  <tbody>\n",
       "    <tr>\n",
       "      <th>edjef</th>\n",
       "      <td>23856</td>\n",
       "      <td>100.0</td>\n",
       "    </tr>\n",
       "    <tr>\n",
       "      <th>hogar_mayor</th>\n",
       "      <td>0</td>\n",
       "      <td>0.0</td>\n",
       "    </tr>\n",
       "    <tr>\n",
       "      <th>parentesco10</th>\n",
       "      <td>0</td>\n",
       "      <td>0.0</td>\n",
       "    </tr>\n",
       "    <tr>\n",
       "      <th>parentesco11</th>\n",
       "      <td>0</td>\n",
       "      <td>0.0</td>\n",
       "    </tr>\n",
       "    <tr>\n",
       "      <th>parentesco12</th>\n",
       "      <td>0</td>\n",
       "      <td>0.0</td>\n",
       "    </tr>\n",
       "    <tr>\n",
       "      <th>idhogar</th>\n",
       "      <td>0</td>\n",
       "      <td>0.0</td>\n",
       "    </tr>\n",
       "    <tr>\n",
       "      <th>hogar_nin</th>\n",
       "      <td>0</td>\n",
       "      <td>0.0</td>\n",
       "    </tr>\n",
       "    <tr>\n",
       "      <th>hogar_adul</th>\n",
       "      <td>0</td>\n",
       "      <td>0.0</td>\n",
       "    </tr>\n",
       "    <tr>\n",
       "      <th>hogar_total</th>\n",
       "      <td>0</td>\n",
       "      <td>0.0</td>\n",
       "    </tr>\n",
       "    <tr>\n",
       "      <th>parentesco8</th>\n",
       "      <td>0</td>\n",
       "      <td>0.0</td>\n",
       "    </tr>\n",
       "    <tr>\n",
       "      <th>dependency</th>\n",
       "      <td>0</td>\n",
       "      <td>0.0</td>\n",
       "    </tr>\n",
       "    <tr>\n",
       "      <th>edjefe</th>\n",
       "      <td>0</td>\n",
       "      <td>0.0</td>\n",
       "    </tr>\n",
       "    <tr>\n",
       "      <th>edjefa</th>\n",
       "      <td>0</td>\n",
       "      <td>0.0</td>\n",
       "    </tr>\n",
       "    <tr>\n",
       "      <th>meaneduc</th>\n",
       "      <td>0</td>\n",
       "      <td>0.0</td>\n",
       "    </tr>\n",
       "    <tr>\n",
       "      <th>instlevel1</th>\n",
       "      <td>0</td>\n",
       "      <td>0.0</td>\n",
       "    </tr>\n",
       "    <tr>\n",
       "      <th>instlevel2</th>\n",
       "      <td>0</td>\n",
       "      <td>0.0</td>\n",
       "    </tr>\n",
       "    <tr>\n",
       "      <th>parentesco9</th>\n",
       "      <td>0</td>\n",
       "      <td>0.0</td>\n",
       "    </tr>\n",
       "    <tr>\n",
       "      <th>parentesco7</th>\n",
       "      <td>0</td>\n",
       "      <td>0.0</td>\n",
       "    </tr>\n",
       "    <tr>\n",
       "      <th>instlevel4</th>\n",
       "      <td>0</td>\n",
       "      <td>0.0</td>\n",
       "    </tr>\n",
       "    <tr>\n",
       "      <th>estadocivil5</th>\n",
       "      <td>0</td>\n",
       "      <td>0.0</td>\n",
       "    </tr>\n",
       "  </tbody>\n",
       "</table>\n",
       "</div>"
      ],
      "text/plain": [
       "              Total  Percent\n",
       "edjef         23856    100.0\n",
       "hogar_mayor       0      0.0\n",
       "parentesco10      0      0.0\n",
       "parentesco11      0      0.0\n",
       "parentesco12      0      0.0\n",
       "idhogar           0      0.0\n",
       "hogar_nin         0      0.0\n",
       "hogar_adul        0      0.0\n",
       "hogar_total       0      0.0\n",
       "parentesco8       0      0.0\n",
       "dependency        0      0.0\n",
       "edjefe            0      0.0\n",
       "edjefa            0      0.0\n",
       "meaneduc          0      0.0\n",
       "instlevel1        0      0.0\n",
       "instlevel2        0      0.0\n",
       "parentesco9       0      0.0\n",
       "parentesco7       0      0.0\n",
       "instlevel4        0      0.0\n",
       "estadocivil5      0      0.0"
      ]
     },
     "execution_count": 23,
     "metadata": {},
     "output_type": "execute_result"
    }
   ],
   "source": [
    "total = df_test.isnull().sum().sort_values(ascending=False)\n",
    "percent = 100 * (df_test.isnull().sum() / df_test.isnull().count()).sort_values(ascending=False)\n",
    "missing_df = pd.concat([total, percent], axis=1, keys=['Total', 'Percent'])\n",
    "\n",
    "missing_df.head(20)\n"
   ]
  },
  {
   "cell_type": "code",
   "execution_count": 24,
   "id": "60c06356",
   "metadata": {
    "execution": {
     "iopub.execute_input": "2023-03-11T02:03:23.811859Z",
     "iopub.status.busy": "2023-03-11T02:03:23.811428Z",
     "iopub.status.idle": "2023-03-11T02:03:23.848022Z",
     "shell.execute_reply": "2023-03-11T02:03:23.846526Z"
    },
    "papermill": {
     "duration": 0.076554,
     "end_time": "2023-03-11T02:03:23.851556",
     "exception": false,
     "start_time": "2023-03-11T02:03:23.775002",
     "status": "completed"
    },
    "tags": []
   },
   "outputs": [
    {
     "data": {
      "text/html": [
       "<div>\n",
       "<style scoped>\n",
       "    .dataframe tbody tr th:only-of-type {\n",
       "        vertical-align: middle;\n",
       "    }\n",
       "\n",
       "    .dataframe tbody tr th {\n",
       "        vertical-align: top;\n",
       "    }\n",
       "\n",
       "    .dataframe thead th {\n",
       "        text-align: right;\n",
       "    }\n",
       "</style>\n",
       "<table border=\"1\" class=\"dataframe\">\n",
       "  <thead>\n",
       "    <tr style=\"text-align: right;\">\n",
       "      <th></th>\n",
       "      <th>Id</th>\n",
       "      <th>v2a1</th>\n",
       "      <th>hacdor</th>\n",
       "      <th>rooms</th>\n",
       "      <th>hacapo</th>\n",
       "      <th>v14a</th>\n",
       "      <th>refrig</th>\n",
       "      <th>v18q</th>\n",
       "      <th>v18q1</th>\n",
       "      <th>r4h1</th>\n",
       "      <th>...</th>\n",
       "      <th>SQBage</th>\n",
       "      <th>SQBhogar_total</th>\n",
       "      <th>SQBedjefe</th>\n",
       "      <th>SQBhogar_nin</th>\n",
       "      <th>SQBovercrowding</th>\n",
       "      <th>SQBdependency</th>\n",
       "      <th>SQBmeaned</th>\n",
       "      <th>agesq</th>\n",
       "      <th>Target</th>\n",
       "      <th>edjef</th>\n",
       "    </tr>\n",
       "  </thead>\n",
       "  <tbody>\n",
       "    <tr>\n",
       "      <th>0</th>\n",
       "      <td>ID_279628684</td>\n",
       "      <td>190000.0</td>\n",
       "      <td>0</td>\n",
       "      <td>3</td>\n",
       "      <td>0</td>\n",
       "      <td>1</td>\n",
       "      <td>1</td>\n",
       "      <td>0</td>\n",
       "      <td>0.0</td>\n",
       "      <td>0</td>\n",
       "      <td>...</td>\n",
       "      <td>1849</td>\n",
       "      <td>1</td>\n",
       "      <td>100</td>\n",
       "      <td>0</td>\n",
       "      <td>1.000000</td>\n",
       "      <td>0.0000</td>\n",
       "      <td>100.0000</td>\n",
       "      <td>1849</td>\n",
       "      <td>4</td>\n",
       "      <td>NaN</td>\n",
       "    </tr>\n",
       "    <tr>\n",
       "      <th>1</th>\n",
       "      <td>ID_f29eb3ddd</td>\n",
       "      <td>135000.0</td>\n",
       "      <td>0</td>\n",
       "      <td>4</td>\n",
       "      <td>0</td>\n",
       "      <td>1</td>\n",
       "      <td>1</td>\n",
       "      <td>1</td>\n",
       "      <td>1.0</td>\n",
       "      <td>0</td>\n",
       "      <td>...</td>\n",
       "      <td>4489</td>\n",
       "      <td>1</td>\n",
       "      <td>144</td>\n",
       "      <td>0</td>\n",
       "      <td>1.000000</td>\n",
       "      <td>64.0000</td>\n",
       "      <td>144.0000</td>\n",
       "      <td>4489</td>\n",
       "      <td>4</td>\n",
       "      <td>NaN</td>\n",
       "    </tr>\n",
       "    <tr>\n",
       "      <th>2</th>\n",
       "      <td>ID_68de51c94</td>\n",
       "      <td>0.0</td>\n",
       "      <td>0</td>\n",
       "      <td>8</td>\n",
       "      <td>0</td>\n",
       "      <td>1</td>\n",
       "      <td>1</td>\n",
       "      <td>0</td>\n",
       "      <td>0.0</td>\n",
       "      <td>0</td>\n",
       "      <td>...</td>\n",
       "      <td>8464</td>\n",
       "      <td>1</td>\n",
       "      <td>0</td>\n",
       "      <td>0</td>\n",
       "      <td>0.250000</td>\n",
       "      <td>64.0000</td>\n",
       "      <td>121.0000</td>\n",
       "      <td>8464</td>\n",
       "      <td>4</td>\n",
       "      <td>NaN</td>\n",
       "    </tr>\n",
       "    <tr>\n",
       "      <th>3</th>\n",
       "      <td>ID_d671db89c</td>\n",
       "      <td>180000.0</td>\n",
       "      <td>0</td>\n",
       "      <td>5</td>\n",
       "      <td>0</td>\n",
       "      <td>1</td>\n",
       "      <td>1</td>\n",
       "      <td>1</td>\n",
       "      <td>1.0</td>\n",
       "      <td>0</td>\n",
       "      <td>...</td>\n",
       "      <td>289</td>\n",
       "      <td>16</td>\n",
       "      <td>121</td>\n",
       "      <td>4</td>\n",
       "      <td>1.777778</td>\n",
       "      <td>1.0000</td>\n",
       "      <td>121.0000</td>\n",
       "      <td>289</td>\n",
       "      <td>4</td>\n",
       "      <td>NaN</td>\n",
       "    </tr>\n",
       "    <tr>\n",
       "      <th>4</th>\n",
       "      <td>ID_d56d6f5f5</td>\n",
       "      <td>180000.0</td>\n",
       "      <td>0</td>\n",
       "      <td>5</td>\n",
       "      <td>0</td>\n",
       "      <td>1</td>\n",
       "      <td>1</td>\n",
       "      <td>1</td>\n",
       "      <td>1.0</td>\n",
       "      <td>0</td>\n",
       "      <td>...</td>\n",
       "      <td>1369</td>\n",
       "      <td>16</td>\n",
       "      <td>121</td>\n",
       "      <td>4</td>\n",
       "      <td>1.777778</td>\n",
       "      <td>1.0000</td>\n",
       "      <td>121.0000</td>\n",
       "      <td>1369</td>\n",
       "      <td>4</td>\n",
       "      <td>NaN</td>\n",
       "    </tr>\n",
       "    <tr>\n",
       "      <th>...</th>\n",
       "      <td>...</td>\n",
       "      <td>...</td>\n",
       "      <td>...</td>\n",
       "      <td>...</td>\n",
       "      <td>...</td>\n",
       "      <td>...</td>\n",
       "      <td>...</td>\n",
       "      <td>...</td>\n",
       "      <td>...</td>\n",
       "      <td>...</td>\n",
       "      <td>...</td>\n",
       "      <td>...</td>\n",
       "      <td>...</td>\n",
       "      <td>...</td>\n",
       "      <td>...</td>\n",
       "      <td>...</td>\n",
       "      <td>...</td>\n",
       "      <td>...</td>\n",
       "      <td>...</td>\n",
       "      <td>...</td>\n",
       "      <td>...</td>\n",
       "    </tr>\n",
       "    <tr>\n",
       "      <th>9552</th>\n",
       "      <td>ID_d45ae367d</td>\n",
       "      <td>80000.0</td>\n",
       "      <td>0</td>\n",
       "      <td>6</td>\n",
       "      <td>0</td>\n",
       "      <td>1</td>\n",
       "      <td>1</td>\n",
       "      <td>0</td>\n",
       "      <td>0.0</td>\n",
       "      <td>0</td>\n",
       "      <td>...</td>\n",
       "      <td>2116</td>\n",
       "      <td>25</td>\n",
       "      <td>81</td>\n",
       "      <td>1</td>\n",
       "      <td>1.562500</td>\n",
       "      <td>0.0625</td>\n",
       "      <td>68.0625</td>\n",
       "      <td>2116</td>\n",
       "      <td>2</td>\n",
       "      <td>NaN</td>\n",
       "    </tr>\n",
       "    <tr>\n",
       "      <th>9553</th>\n",
       "      <td>ID_c94744e07</td>\n",
       "      <td>80000.0</td>\n",
       "      <td>0</td>\n",
       "      <td>6</td>\n",
       "      <td>0</td>\n",
       "      <td>1</td>\n",
       "      <td>1</td>\n",
       "      <td>0</td>\n",
       "      <td>0.0</td>\n",
       "      <td>0</td>\n",
       "      <td>...</td>\n",
       "      <td>4</td>\n",
       "      <td>25</td>\n",
       "      <td>81</td>\n",
       "      <td>1</td>\n",
       "      <td>1.562500</td>\n",
       "      <td>0.0625</td>\n",
       "      <td>68.0625</td>\n",
       "      <td>4</td>\n",
       "      <td>2</td>\n",
       "      <td>NaN</td>\n",
       "    </tr>\n",
       "    <tr>\n",
       "      <th>9554</th>\n",
       "      <td>ID_85fc658f8</td>\n",
       "      <td>80000.0</td>\n",
       "      <td>0</td>\n",
       "      <td>6</td>\n",
       "      <td>0</td>\n",
       "      <td>1</td>\n",
       "      <td>1</td>\n",
       "      <td>0</td>\n",
       "      <td>0.0</td>\n",
       "      <td>0</td>\n",
       "      <td>...</td>\n",
       "      <td>2500</td>\n",
       "      <td>25</td>\n",
       "      <td>81</td>\n",
       "      <td>1</td>\n",
       "      <td>1.562500</td>\n",
       "      <td>0.0625</td>\n",
       "      <td>68.0625</td>\n",
       "      <td>2500</td>\n",
       "      <td>2</td>\n",
       "      <td>NaN</td>\n",
       "    </tr>\n",
       "    <tr>\n",
       "      <th>9555</th>\n",
       "      <td>ID_ced540c61</td>\n",
       "      <td>80000.0</td>\n",
       "      <td>0</td>\n",
       "      <td>6</td>\n",
       "      <td>0</td>\n",
       "      <td>1</td>\n",
       "      <td>1</td>\n",
       "      <td>0</td>\n",
       "      <td>0.0</td>\n",
       "      <td>0</td>\n",
       "      <td>...</td>\n",
       "      <td>676</td>\n",
       "      <td>25</td>\n",
       "      <td>81</td>\n",
       "      <td>1</td>\n",
       "      <td>1.562500</td>\n",
       "      <td>0.0625</td>\n",
       "      <td>68.0625</td>\n",
       "      <td>676</td>\n",
       "      <td>2</td>\n",
       "      <td>NaN</td>\n",
       "    </tr>\n",
       "    <tr>\n",
       "      <th>9556</th>\n",
       "      <td>ID_a38c64491</td>\n",
       "      <td>80000.0</td>\n",
       "      <td>0</td>\n",
       "      <td>6</td>\n",
       "      <td>0</td>\n",
       "      <td>1</td>\n",
       "      <td>1</td>\n",
       "      <td>0</td>\n",
       "      <td>0.0</td>\n",
       "      <td>0</td>\n",
       "      <td>...</td>\n",
       "      <td>441</td>\n",
       "      <td>25</td>\n",
       "      <td>81</td>\n",
       "      <td>1</td>\n",
       "      <td>1.562500</td>\n",
       "      <td>0.0625</td>\n",
       "      <td>68.0625</td>\n",
       "      <td>441</td>\n",
       "      <td>2</td>\n",
       "      <td>NaN</td>\n",
       "    </tr>\n",
       "  </tbody>\n",
       "</table>\n",
       "<p>9557 rows × 144 columns</p>\n",
       "</div>"
      ],
      "text/plain": [
       "                Id      v2a1  hacdor  rooms  hacapo  v14a  refrig  v18q  \\\n",
       "0     ID_279628684  190000.0       0      3       0     1       1     0   \n",
       "1     ID_f29eb3ddd  135000.0       0      4       0     1       1     1   \n",
       "2     ID_68de51c94       0.0       0      8       0     1       1     0   \n",
       "3     ID_d671db89c  180000.0       0      5       0     1       1     1   \n",
       "4     ID_d56d6f5f5  180000.0       0      5       0     1       1     1   \n",
       "...            ...       ...     ...    ...     ...   ...     ...   ...   \n",
       "9552  ID_d45ae367d   80000.0       0      6       0     1       1     0   \n",
       "9553  ID_c94744e07   80000.0       0      6       0     1       1     0   \n",
       "9554  ID_85fc658f8   80000.0       0      6       0     1       1     0   \n",
       "9555  ID_ced540c61   80000.0       0      6       0     1       1     0   \n",
       "9556  ID_a38c64491   80000.0       0      6       0     1       1     0   \n",
       "\n",
       "      v18q1  r4h1  ...  SQBage  SQBhogar_total  SQBedjefe  SQBhogar_nin  \\\n",
       "0       0.0     0  ...    1849               1        100             0   \n",
       "1       1.0     0  ...    4489               1        144             0   \n",
       "2       0.0     0  ...    8464               1          0             0   \n",
       "3       1.0     0  ...     289              16        121             4   \n",
       "4       1.0     0  ...    1369              16        121             4   \n",
       "...     ...   ...  ...     ...             ...        ...           ...   \n",
       "9552    0.0     0  ...    2116              25         81             1   \n",
       "9553    0.0     0  ...       4              25         81             1   \n",
       "9554    0.0     0  ...    2500              25         81             1   \n",
       "9555    0.0     0  ...     676              25         81             1   \n",
       "9556    0.0     0  ...     441              25         81             1   \n",
       "\n",
       "      SQBovercrowding  SQBdependency  SQBmeaned  agesq  Target  edjef  \n",
       "0            1.000000         0.0000   100.0000   1849       4    NaN  \n",
       "1            1.000000        64.0000   144.0000   4489       4    NaN  \n",
       "2            0.250000        64.0000   121.0000   8464       4    NaN  \n",
       "3            1.777778         1.0000   121.0000    289       4    NaN  \n",
       "4            1.777778         1.0000   121.0000   1369       4    NaN  \n",
       "...               ...            ...        ...    ...     ...    ...  \n",
       "9552         1.562500         0.0625    68.0625   2116       2    NaN  \n",
       "9553         1.562500         0.0625    68.0625      4       2    NaN  \n",
       "9554         1.562500         0.0625    68.0625   2500       2    NaN  \n",
       "9555         1.562500         0.0625    68.0625    676       2    NaN  \n",
       "9556         1.562500         0.0625    68.0625    441       2    NaN  \n",
       "\n",
       "[9557 rows x 144 columns]"
      ]
     },
     "execution_count": 24,
     "metadata": {},
     "output_type": "execute_result"
    }
   ],
   "source": [
    "df_train"
   ]
  },
  {
   "cell_type": "markdown",
   "id": "e1ee8a39",
   "metadata": {
    "papermill": {
     "duration": 0.033001,
     "end_time": "2023-03-11T02:03:23.918711",
     "exception": false,
     "start_time": "2023-03-11T02:03:23.885710",
     "status": "completed"
    },
    "tags": []
   },
   "source": [
    "### 2. Feature engineering"
   ]
  },
  {
   "cell_type": "markdown",
   "id": "f4ec7e5b",
   "metadata": {
    "papermill": {
     "duration": 0.036086,
     "end_time": "2023-03-11T02:03:23.988279",
     "exception": false,
     "start_time": "2023-03-11T02:03:23.952193",
     "status": "completed"
    },
    "tags": []
   },
   "source": [
    "#### 2.1 Object features"
   ]
  },
  {
   "cell_type": "code",
   "execution_count": 25,
   "id": "9b3b6dcf",
   "metadata": {
    "execution": {
     "iopub.execute_input": "2023-03-11T02:03:24.059179Z",
     "iopub.status.busy": "2023-03-11T02:03:24.058224Z",
     "iopub.status.idle": "2023-03-11T02:03:24.071828Z",
     "shell.execute_reply": "2023-03-11T02:03:24.070332Z"
    },
    "papermill": {
     "duration": 0.051488,
     "end_time": "2023-03-11T02:03:24.074888",
     "exception": false,
     "start_time": "2023-03-11T02:03:24.023400",
     "status": "completed"
    },
    "tags": []
   },
   "outputs": [],
   "source": [
    "features_object = [col for col in df_train.columns if df_train[col].dtype == 'object']"
   ]
  },
  {
   "cell_type": "code",
   "execution_count": 26,
   "id": "ba5d03ac",
   "metadata": {
    "execution": {
     "iopub.execute_input": "2023-03-11T02:03:24.144647Z",
     "iopub.status.busy": "2023-03-11T02:03:24.143148Z",
     "iopub.status.idle": "2023-03-11T02:03:24.152052Z",
     "shell.execute_reply": "2023-03-11T02:03:24.150764Z"
    },
    "papermill": {
     "duration": 0.046327,
     "end_time": "2023-03-11T02:03:24.154743",
     "exception": false,
     "start_time": "2023-03-11T02:03:24.108416",
     "status": "completed"
    },
    "tags": []
   },
   "outputs": [
    {
     "data": {
      "text/plain": [
       "['Id', 'idhogar', 'dependency', 'edjefe', 'edjefa']"
      ]
     },
     "execution_count": 26,
     "metadata": {},
     "output_type": "execute_result"
    }
   ],
   "source": [
    "features_object"
   ]
  },
  {
   "cell_type": "markdown",
   "id": "c32d4869",
   "metadata": {
    "papermill": {
     "duration": 0.033121,
     "end_time": "2023-03-11T02:03:24.220847",
     "exception": false,
     "start_time": "2023-03-11T02:03:24.187726",
     "status": "completed"
    },
    "tags": []
   },
   "source": [
    "**Q. feature이 객체형 ?? 무슨말이지**"
   ]
  },
  {
   "cell_type": "code",
   "execution_count": 27,
   "id": "7f62af8e",
   "metadata": {
    "execution": {
     "iopub.execute_input": "2023-03-11T02:03:24.291081Z",
     "iopub.status.busy": "2023-03-11T02:03:24.289494Z",
     "iopub.status.idle": "2023-03-11T02:03:24.305319Z",
     "shell.execute_reply": "2023-03-11T02:03:24.303736Z"
    },
    "papermill": {
     "duration": 0.054474,
     "end_time": "2023-03-11T02:03:24.308538",
     "exception": false,
     "start_time": "2023-03-11T02:03:24.254064",
     "status": "completed"
    },
    "tags": []
   },
   "outputs": [
    {
     "data": {
      "text/html": [
       "<div>\n",
       "<style scoped>\n",
       "    .dataframe tbody tr th:only-of-type {\n",
       "        vertical-align: middle;\n",
       "    }\n",
       "\n",
       "    .dataframe tbody tr th {\n",
       "        vertical-align: top;\n",
       "    }\n",
       "\n",
       "    .dataframe thead th {\n",
       "        text-align: right;\n",
       "    }\n",
       "</style>\n",
       "<table border=\"1\" class=\"dataframe\">\n",
       "  <thead>\n",
       "    <tr style=\"text-align: right;\">\n",
       "      <th></th>\n",
       "      <th>dependency</th>\n",
       "    </tr>\n",
       "  </thead>\n",
       "  <tbody>\n",
       "    <tr>\n",
       "      <th>0</th>\n",
       "      <td>no</td>\n",
       "    </tr>\n",
       "    <tr>\n",
       "      <th>1</th>\n",
       "      <td>8</td>\n",
       "    </tr>\n",
       "    <tr>\n",
       "      <th>2</th>\n",
       "      <td>8</td>\n",
       "    </tr>\n",
       "    <tr>\n",
       "      <th>3</th>\n",
       "      <td>yes</td>\n",
       "    </tr>\n",
       "    <tr>\n",
       "      <th>4</th>\n",
       "      <td>yes</td>\n",
       "    </tr>\n",
       "    <tr>\n",
       "      <th>...</th>\n",
       "      <td>...</td>\n",
       "    </tr>\n",
       "    <tr>\n",
       "      <th>9552</th>\n",
       "      <td>.25</td>\n",
       "    </tr>\n",
       "    <tr>\n",
       "      <th>9553</th>\n",
       "      <td>.25</td>\n",
       "    </tr>\n",
       "    <tr>\n",
       "      <th>9554</th>\n",
       "      <td>.25</td>\n",
       "    </tr>\n",
       "    <tr>\n",
       "      <th>9555</th>\n",
       "      <td>.25</td>\n",
       "    </tr>\n",
       "    <tr>\n",
       "      <th>9556</th>\n",
       "      <td>.25</td>\n",
       "    </tr>\n",
       "  </tbody>\n",
       "</table>\n",
       "<p>9557 rows × 1 columns</p>\n",
       "</div>"
      ],
      "text/plain": [
       "     dependency\n",
       "0            no\n",
       "1             8\n",
       "2             8\n",
       "3           yes\n",
       "4           yes\n",
       "...         ...\n",
       "9552        .25\n",
       "9553        .25\n",
       "9554        .25\n",
       "9555        .25\n",
       "9556        .25\n",
       "\n",
       "[9557 rows x 1 columns]"
      ]
     },
     "execution_count": 27,
     "metadata": {},
     "output_type": "execute_result"
    }
   ],
   "source": [
    "df_train[[features_object[2]]]"
   ]
  },
  {
   "cell_type": "markdown",
   "id": "d3bdbd55",
   "metadata": {
    "papermill": {
     "duration": 0.034068,
     "end_time": "2023-03-11T02:03:24.383582",
     "exception": false,
     "start_time": "2023-03-11T02:03:24.349514",
     "status": "completed"
    },
    "tags": []
   },
   "source": [
    "dependency"
   ]
  },
  {
   "cell_type": "markdown",
   "id": "e43fb037",
   "metadata": {
    "papermill": {
     "duration": 0.033827,
     "end_time": "2023-03-11T02:03:24.451144",
     "exception": false,
     "start_time": "2023-03-11T02:03:24.417317",
     "status": "completed"
    },
    "tags": []
   },
   "source": [
    "**Q. np.sqrt란?**"
   ]
  },
  {
   "cell_type": "code",
   "execution_count": 28,
   "id": "57f1ec37",
   "metadata": {
    "execution": {
     "iopub.execute_input": "2023-03-11T02:03:24.524416Z",
     "iopub.status.busy": "2023-03-11T02:03:24.523623Z",
     "iopub.status.idle": "2023-03-11T02:03:24.531568Z",
     "shell.execute_reply": "2023-03-11T02:03:24.530502Z"
    },
    "papermill": {
     "duration": 0.049372,
     "end_time": "2023-03-11T02:03:24.534311",
     "exception": false,
     "start_time": "2023-03-11T02:03:24.484939",
     "status": "completed"
    },
    "tags": []
   },
   "outputs": [],
   "source": [
    "df_train['dependency'] = np.sqrt(df_train['SQBdependency'])\n",
    "df_test['dependency'] = np.sqrt(df_test['SQBdependency'])"
   ]
  },
  {
   "cell_type": "code",
   "execution_count": 29,
   "id": "f246b5e9",
   "metadata": {
    "execution": {
     "iopub.execute_input": "2023-03-11T02:03:24.605454Z",
     "iopub.status.busy": "2023-03-11T02:03:24.604418Z",
     "iopub.status.idle": "2023-03-11T02:03:24.615020Z",
     "shell.execute_reply": "2023-03-11T02:03:24.613790Z"
    },
    "papermill": {
     "duration": 0.050366,
     "end_time": "2023-03-11T02:03:24.617872",
     "exception": false,
     "start_time": "2023-03-11T02:03:24.567506",
     "status": "completed"
    },
    "tags": []
   },
   "outputs": [
    {
     "data": {
      "text/plain": [
       "0       0.00\n",
       "1       8.00\n",
       "2       8.00\n",
       "3       1.00\n",
       "4       1.00\n",
       "        ... \n",
       "9552    0.25\n",
       "9553    0.25\n",
       "9554    0.25\n",
       "9555    0.25\n",
       "9556    0.25\n",
       "Name: dependency, Length: 9557, dtype: float64"
      ]
     },
     "execution_count": 29,
     "metadata": {},
     "output_type": "execute_result"
    }
   ],
   "source": [
    "df_train['dependency']"
   ]
  },
  {
   "cell_type": "code",
   "execution_count": 30,
   "id": "d079392d",
   "metadata": {
    "execution": {
     "iopub.execute_input": "2023-03-11T02:03:24.690906Z",
     "iopub.status.busy": "2023-03-11T02:03:24.689495Z",
     "iopub.status.idle": "2023-03-11T02:03:24.712516Z",
     "shell.execute_reply": "2023-03-11T02:03:24.710872Z"
    },
    "papermill": {
     "duration": 0.062202,
     "end_time": "2023-03-11T02:03:24.715891",
     "exception": false,
     "start_time": "2023-03-11T02:03:24.653689",
     "status": "completed"
    },
    "tags": []
   },
   "outputs": [],
   "source": [
    "def replace_edjefe(x):\n",
    "    if x == 'yes':\n",
    "        return 1\n",
    "    elif x == 'no':\n",
    "        return 0\n",
    "    else:\n",
    "        return x\n",
    "\n",
    "df_train['edjefe'] = df_train['edjefe'].apply(replace_edjefe).astype(float)\n",
    "df_test['edjefe'] = df_test['edjefe'].apply(replace_edjefe).astype(float)"
   ]
  },
  {
   "cell_type": "markdown",
   "id": "161a7e19",
   "metadata": {
    "papermill": {
     "duration": 0.035601,
     "end_time": "2023-03-11T02:03:24.785995",
     "exception": false,
     "start_time": "2023-03-11T02:03:24.750394",
     "status": "completed"
    },
    "tags": []
   },
   "source": [
    "**Q. apply란?**"
   ]
  },
  {
   "cell_type": "markdown",
   "id": "2473210b",
   "metadata": {
    "papermill": {
     "duration": 0.033333,
     "end_time": "2023-03-11T02:03:24.853191",
     "exception": false,
     "start_time": "2023-03-11T02:03:24.819858",
     "status": "completed"
    },
    "tags": []
   },
   "source": [
    "**edjefa**\n",
    "\n",
    "- edjefa, years of education of female head of household, based on the interaction of escolari (years of education), head of household and gender, yes=1 and no=0\n",
    "- replace yes -> 1 and no -> 0"
   ]
  },
  {
   "cell_type": "code",
   "execution_count": 31,
   "id": "df14341f",
   "metadata": {
    "execution": {
     "iopub.execute_input": "2023-03-11T02:03:24.923440Z",
     "iopub.status.busy": "2023-03-11T02:03:24.921853Z",
     "iopub.status.idle": "2023-03-11T02:03:24.944298Z",
     "shell.execute_reply": "2023-03-11T02:03:24.943159Z"
    },
    "papermill": {
     "duration": 0.060603,
     "end_time": "2023-03-11T02:03:24.947423",
     "exception": false,
     "start_time": "2023-03-11T02:03:24.886820",
     "status": "completed"
    },
    "tags": []
   },
   "outputs": [],
   "source": [
    "def replace_edjefa(x):\n",
    "    if x == 'yes':\n",
    "        return 1\n",
    "    elif x == 'no':\n",
    "        return 0\n",
    "    else:\n",
    "        return x\n",
    "\n",
    "df_train['edjefa'] = df_train['edjefa'].apply(replace_edjefa).astype(float)\n",
    "df_test['edjefa'] = df_test['edjefa'].apply(replace_edjefa).astype(float)"
   ]
  },
  {
   "cell_type": "code",
   "execution_count": 32,
   "id": "c10da29b",
   "metadata": {
    "execution": {
     "iopub.execute_input": "2023-03-11T02:03:25.017725Z",
     "iopub.status.busy": "2023-03-11T02:03:25.017252Z",
     "iopub.status.idle": "2023-03-11T02:03:25.031225Z",
     "shell.execute_reply": "2023-03-11T02:03:25.029741Z"
    },
    "papermill": {
     "duration": 0.052884,
     "end_time": "2023-03-11T02:03:25.034372",
     "exception": false,
     "start_time": "2023-03-11T02:03:24.981488",
     "status": "completed"
    },
    "tags": []
   },
   "outputs": [],
   "source": [
    "# create feature with max education of either head of household\n",
    "df_train['edjef'] = np.max(df_train[['edjefa', 'edjefe']], axis=1)\n",
    "df_test['edjef'] = np.max(df_test[['edjefa', 'edjefe']], axis=1)"
   ]
  },
  {
   "cell_type": "markdown",
   "id": "55091255",
   "metadata": {
    "papermill": {
     "duration": 0.03369,
     "end_time": "2023-03-11T02:03:25.102494",
     "exception": false,
     "start_time": "2023-03-11T02:03:25.068804",
     "status": "completed"
    },
    "tags": []
   },
   "source": [
    "#### roof and electricity"
   ]
  },
  {
   "cell_type": "code",
   "execution_count": 33,
   "id": "8009ce6d",
   "metadata": {
    "execution": {
     "iopub.execute_input": "2023-03-11T02:03:25.175511Z",
     "iopub.status.busy": "2023-03-11T02:03:25.174661Z",
     "iopub.status.idle": "2023-03-11T02:03:26.387599Z",
     "shell.execute_reply": "2023-03-11T02:03:26.386119Z"
    },
    "papermill": {
     "duration": 1.252164,
     "end_time": "2023-03-11T02:03:26.391135",
     "exception": false,
     "start_time": "2023-03-11T02:03:25.138971",
     "status": "completed"
    },
    "tags": []
   },
   "outputs": [],
   "source": [
    "df_train['roof_waste_material'] = np.nan\n",
    "df_test['roof_waste_material'] = np.nan\n",
    "df_train['electricity_other'] = np.nan\n",
    "df_test['electricity_other'] = np.nan\n",
    "\n",
    "def fill_roof_exception(x):\n",
    "    if (x['techozinc'] == 0) and (x['techoentrepiso'] == 0) and (x['techocane'] == 0) and (x['techootro'] == 0):\n",
    "        return 1\n",
    "    else:\n",
    "        return 0\n",
    "\n",
    "def fill_no_electricity(x):\n",
    "    if (x['public'] == 0) and (x['planpri'] == 0) and (x['noelec'] == 0) and (x['coopele'] == 0):\n",
    "        return 1\n",
    "    else:\n",
    "        return 0\n",
    "    \n",
    "df_train['roof_waste_material'] = df_train.apply(lambda x : fill_roof_exception(x), axis=1)\n",
    "df_test['roof_waste_material'] = df_test.apply(lambda x : fill_roof_exception(x), axis=1)\n",
    "df_train['electricity_other'] = df_train.apply(lambda x : fill_no_electricity(x), axis=1)\n",
    "df_test['electricity_other'] = df_test.apply(lambda x : fill_no_electricity(x), axis=1)"
   ]
  },
  {
   "cell_type": "markdown",
   "id": "7b16bc3b",
   "metadata": {
    "papermill": {
     "duration": 0.035958,
     "end_time": "2023-03-11T02:03:26.461412",
     "exception": false,
     "start_time": "2023-03-11T02:03:26.425454",
     "status": "completed"
    },
    "tags": []
   },
   "source": [
    "### 2.2 Extract cat features"
   ]
  },
  {
   "cell_type": "markdown",
   "id": "a02d7683",
   "metadata": {
    "papermill": {
     "duration": 0.034474,
     "end_time": "2023-03-11T02:03:26.531408",
     "exception": false,
     "start_time": "2023-03-11T02:03:26.496934",
     "status": "completed"
    },
    "tags": []
   },
   "source": [
    "there are many binary category features"
   ]
  },
  {
   "cell_type": "code",
   "execution_count": 34,
   "id": "92161f99",
   "metadata": {
    "execution": {
     "iopub.execute_input": "2023-03-11T02:03:26.602567Z",
     "iopub.status.busy": "2023-03-11T02:03:26.602074Z",
     "iopub.status.idle": "2023-03-11T02:03:26.618491Z",
     "shell.execute_reply": "2023-03-11T02:03:26.616553Z"
    },
    "papermill": {
     "duration": 0.055992,
     "end_time": "2023-03-11T02:03:26.621635",
     "exception": false,
     "start_time": "2023-03-11T02:03:26.565643",
     "status": "completed"
    },
    "tags": []
   },
   "outputs": [
    {
     "name": "stdout",
     "output_type": "stream",
     "text": [
      "9557\n",
      "157\n",
      "2\n",
      "11\n"
     ]
    }
   ],
   "source": [
    "print(df_train[df_train.columns[0]].value_counts().shape[0])\n",
    "print(df_train[df_train.columns[1]].value_counts().shape[0])\n",
    "print(df_train[df_train.columns[2]].value_counts().shape[0])\n",
    "print(df_train[df_train.columns[3]].value_counts().shape[0])"
   ]
  },
  {
   "cell_type": "markdown",
   "id": "8e044813",
   "metadata": {
    "papermill": {
     "duration": 0.034694,
     "end_time": "2023-03-11T02:03:26.691471",
     "exception": false,
     "start_time": "2023-03-11T02:03:26.656777",
     "status": "completed"
    },
    "tags": []
   },
   "source": [
    "category feature이 2개인 항목이 많나보다"
   ]
  },
  {
   "cell_type": "code",
   "execution_count": 35,
   "id": "d8518ba9",
   "metadata": {
    "execution": {
     "iopub.execute_input": "2023-03-11T02:03:26.762831Z",
     "iopub.status.busy": "2023-03-11T02:03:26.762376Z",
     "iopub.status.idle": "2023-03-11T02:03:26.839630Z",
     "shell.execute_reply": "2023-03-11T02:03:26.838121Z"
    },
    "papermill": {
     "duration": 0.117889,
     "end_time": "2023-03-11T02:03:26.842987",
     "exception": false,
     "start_time": "2023-03-11T02:03:26.725098",
     "status": "completed"
    },
    "tags": []
   },
   "outputs": [],
   "source": [
    "binary_cat_features = [col for col in df_train.columns if df_train[col].value_counts().shape[0] == 2]"
   ]
  },
  {
   "cell_type": "code",
   "execution_count": 36,
   "id": "a8aedd2b",
   "metadata": {
    "execution": {
     "iopub.execute_input": "2023-03-11T02:03:26.912694Z",
     "iopub.status.busy": "2023-03-11T02:03:26.912234Z",
     "iopub.status.idle": "2023-03-11T02:03:26.922758Z",
     "shell.execute_reply": "2023-03-11T02:03:26.921111Z"
    },
    "papermill": {
     "duration": 0.048952,
     "end_time": "2023-03-11T02:03:26.926007",
     "exception": false,
     "start_time": "2023-03-11T02:03:26.877055",
     "status": "completed"
    },
    "tags": []
   },
   "outputs": [
    {
     "data": {
      "text/plain": [
       "['hacdor',\n",
       " 'hacapo',\n",
       " 'v14a',\n",
       " 'refrig',\n",
       " 'v18q',\n",
       " 'paredblolad',\n",
       " 'paredzocalo',\n",
       " 'paredpreb',\n",
       " 'pareddes',\n",
       " 'paredmad',\n",
       " 'paredzinc',\n",
       " 'paredfibras',\n",
       " 'paredother',\n",
       " 'pisomoscer',\n",
       " 'pisocemento',\n",
       " 'pisoother',\n",
       " 'pisonatur',\n",
       " 'pisonotiene',\n",
       " 'pisomadera',\n",
       " 'techozinc',\n",
       " 'techoentrepiso',\n",
       " 'techocane',\n",
       " 'techootro',\n",
       " 'cielorazo',\n",
       " 'abastaguadentro',\n",
       " 'abastaguafuera',\n",
       " 'abastaguano',\n",
       " 'public',\n",
       " 'planpri',\n",
       " 'noelec',\n",
       " 'coopele',\n",
       " 'sanitario1',\n",
       " 'sanitario2',\n",
       " 'sanitario3',\n",
       " 'sanitario5',\n",
       " 'sanitario6',\n",
       " 'energcocinar1',\n",
       " 'energcocinar2',\n",
       " 'energcocinar3',\n",
       " 'energcocinar4',\n",
       " 'elimbasu1',\n",
       " 'elimbasu2',\n",
       " 'elimbasu3',\n",
       " 'elimbasu4',\n",
       " 'elimbasu6',\n",
       " 'epared1',\n",
       " 'epared2',\n",
       " 'epared3',\n",
       " 'etecho1',\n",
       " 'etecho2',\n",
       " 'etecho3',\n",
       " 'eviv1',\n",
       " 'eviv2',\n",
       " 'eviv3',\n",
       " 'dis',\n",
       " 'male',\n",
       " 'female',\n",
       " 'estadocivil1',\n",
       " 'estadocivil2',\n",
       " 'estadocivil3',\n",
       " 'estadocivil4',\n",
       " 'estadocivil5',\n",
       " 'estadocivil6',\n",
       " 'estadocivil7',\n",
       " 'parentesco1',\n",
       " 'parentesco2',\n",
       " 'parentesco3',\n",
       " 'parentesco4',\n",
       " 'parentesco5',\n",
       " 'parentesco6',\n",
       " 'parentesco7',\n",
       " 'parentesco8',\n",
       " 'parentesco9',\n",
       " 'parentesco10',\n",
       " 'parentesco11',\n",
       " 'parentesco12',\n",
       " 'instlevel1',\n",
       " 'instlevel2',\n",
       " 'instlevel3',\n",
       " 'instlevel4',\n",
       " 'instlevel5',\n",
       " 'instlevel6',\n",
       " 'instlevel7',\n",
       " 'instlevel8',\n",
       " 'instlevel9',\n",
       " 'tipovivi1',\n",
       " 'tipovivi2',\n",
       " 'tipovivi3',\n",
       " 'tipovivi4',\n",
       " 'tipovivi5',\n",
       " 'computer',\n",
       " 'television',\n",
       " 'mobilephone',\n",
       " 'lugar1',\n",
       " 'lugar2',\n",
       " 'lugar3',\n",
       " 'lugar4',\n",
       " 'lugar5',\n",
       " 'lugar6',\n",
       " 'area1',\n",
       " 'area2',\n",
       " 'roof_waste_material',\n",
       " 'electricity_other']"
      ]
     },
     "execution_count": 36,
     "metadata": {},
     "output_type": "execute_result"
    }
   ],
   "source": [
    "binary_cat_features"
   ]
  },
  {
   "cell_type": "markdown",
   "id": "027db1e6",
   "metadata": {
    "papermill": {
     "duration": 0.034539,
     "end_time": "2023-03-11T02:03:26.997755",
     "exception": false,
     "start_time": "2023-03-11T02:03:26.963216",
     "status": "completed"
    },
    "tags": []
   },
   "source": [
    "### 2.3 Make new features using continuous feature"
   ]
  },
  {
   "cell_type": "code",
   "execution_count": 37,
   "id": "86f27d03",
   "metadata": {
    "execution": {
     "iopub.execute_input": "2023-03-11T02:03:27.070877Z",
     "iopub.status.busy": "2023-03-11T02:03:27.070415Z",
     "iopub.status.idle": "2023-03-11T02:03:27.077341Z",
     "shell.execute_reply": "2023-03-11T02:03:27.076148Z"
    },
    "papermill": {
     "duration": 0.046856,
     "end_time": "2023-03-11T02:03:27.079835",
     "exception": false,
     "start_time": "2023-03-11T02:03:27.032979",
     "status": "completed"
    },
    "tags": []
   },
   "outputs": [
    {
     "data": {
      "text/plain": [
       "['Id', 'idhogar', 'dependency', 'edjefe', 'edjefa']"
      ]
     },
     "execution_count": 37,
     "metadata": {},
     "output_type": "execute_result"
    }
   ],
   "source": [
    "features_object"
   ]
  },
  {
   "cell_type": "code",
   "execution_count": 38,
   "id": "ee21f933",
   "metadata": {
    "execution": {
     "iopub.execute_input": "2023-03-11T02:03:27.154519Z",
     "iopub.status.busy": "2023-03-11T02:03:27.153605Z",
     "iopub.status.idle": "2023-03-11T02:03:27.159963Z",
     "shell.execute_reply": "2023-03-11T02:03:27.158986Z"
    },
    "papermill": {
     "duration": 0.047883,
     "end_time": "2023-03-11T02:03:27.162864",
     "exception": false,
     "start_time": "2023-03-11T02:03:27.114981",
     "status": "completed"
    },
    "tags": []
   },
   "outputs": [],
   "source": [
    "continuous_features = [col for col in df_train.columns if col not in binary_cat_features]\n",
    "continuous_features = [col for col in continuous_features if col not in features_object]\n",
    "continuous_features = [col for col in continuous_features if col not in ['Id', 'Target', 'idhogar']]"
   ]
  },
  {
   "cell_type": "code",
   "execution_count": 39,
   "id": "0d70969b",
   "metadata": {
    "execution": {
     "iopub.execute_input": "2023-03-11T02:03:27.234293Z",
     "iopub.status.busy": "2023-03-11T02:03:27.233380Z",
     "iopub.status.idle": "2023-03-11T02:03:27.246153Z",
     "shell.execute_reply": "2023-03-11T02:03:27.245077Z"
    },
    "papermill": {
     "duration": 0.051677,
     "end_time": "2023-03-11T02:03:27.248888",
     "exception": false,
     "start_time": "2023-03-11T02:03:27.197211",
     "status": "completed"
    },
    "tags": []
   },
   "outputs": [
    {
     "data": {
      "text/html": [
       "<div>\n",
       "<style scoped>\n",
       "    .dataframe tbody tr th:only-of-type {\n",
       "        vertical-align: middle;\n",
       "    }\n",
       "\n",
       "    .dataframe tbody tr th {\n",
       "        vertical-align: top;\n",
       "    }\n",
       "\n",
       "    .dataframe thead th {\n",
       "        text-align: right;\n",
       "    }\n",
       "</style>\n",
       "<table border=\"1\" class=\"dataframe\">\n",
       "  <thead>\n",
       "    <tr style=\"text-align: right;\">\n",
       "      <th></th>\n",
       "      <th>varname</th>\n",
       "      <th>description</th>\n",
       "    </tr>\n",
       "  </thead>\n",
       "  <tbody>\n",
       "    <tr>\n",
       "      <th>0</th>\n",
       "      <td>v2a1</td>\n",
       "      <td>Monthly rent payment</td>\n",
       "    </tr>\n",
       "    <tr>\n",
       "      <th>1</th>\n",
       "      <td>hacdor</td>\n",
       "      <td>=1 Overcrowding by bedrooms</td>\n",
       "    </tr>\n",
       "    <tr>\n",
       "      <th>2</th>\n",
       "      <td>rooms</td>\n",
       "      <td>number of all rooms in the house</td>\n",
       "    </tr>\n",
       "    <tr>\n",
       "      <th>3</th>\n",
       "      <td>hacapo</td>\n",
       "      <td>=1 Overcrowding by rooms</td>\n",
       "    </tr>\n",
       "    <tr>\n",
       "      <th>4</th>\n",
       "      <td>v14a</td>\n",
       "      <td>=1 has toilet in the household</td>\n",
       "    </tr>\n",
       "    <tr>\n",
       "      <th>...</th>\n",
       "      <td>...</td>\n",
       "      <td>...</td>\n",
       "    </tr>\n",
       "    <tr>\n",
       "      <th>136</th>\n",
       "      <td>SQBhogar_nin</td>\n",
       "      <td>hogar_nin squared</td>\n",
       "    </tr>\n",
       "    <tr>\n",
       "      <th>137</th>\n",
       "      <td>SQBovercrowding</td>\n",
       "      <td>overcrowding squared</td>\n",
       "    </tr>\n",
       "    <tr>\n",
       "      <th>138</th>\n",
       "      <td>SQBdependency</td>\n",
       "      <td>dependency squared</td>\n",
       "    </tr>\n",
       "    <tr>\n",
       "      <th>139</th>\n",
       "      <td>SQBmeaned</td>\n",
       "      <td>meaned squared</td>\n",
       "    </tr>\n",
       "    <tr>\n",
       "      <th>140</th>\n",
       "      <td>agesq</td>\n",
       "      <td>Age squared</td>\n",
       "    </tr>\n",
       "  </tbody>\n",
       "</table>\n",
       "<p>141 rows × 2 columns</p>\n",
       "</div>"
      ],
      "text/plain": [
       "             varname                         description\n",
       "0               v2a1                Monthly rent payment\n",
       "1             hacdor         =1 Overcrowding by bedrooms\n",
       "2              rooms    number of all rooms in the house\n",
       "3             hacapo            =1 Overcrowding by rooms\n",
       "4               v14a      =1 has toilet in the household\n",
       "..               ...                                 ...\n",
       "136     SQBhogar_nin                   hogar_nin squared\n",
       "137  SQBovercrowding                overcrowding squared\n",
       "138    SQBdependency                  dependency squared\n",
       "139        SQBmeaned                      meaned squared\n",
       "140            agesq                         Age squared\n",
       "\n",
       "[141 rows x 2 columns]"
      ]
     },
     "execution_count": 39,
     "metadata": {},
     "output_type": "execute_result"
    }
   ],
   "source": [
    "description"
   ]
  },
  {
   "cell_type": "code",
   "execution_count": 40,
   "id": "9c603af6",
   "metadata": {
    "execution": {
     "iopub.execute_input": "2023-03-11T02:03:27.321288Z",
     "iopub.status.busy": "2023-03-11T02:03:27.320417Z",
     "iopub.status.idle": "2023-03-11T02:03:27.343588Z",
     "shell.execute_reply": "2023-03-11T02:03:27.341692Z"
    },
    "papermill": {
     "duration": 0.06388,
     "end_time": "2023-03-11T02:03:27.347457",
     "exception": false,
     "start_time": "2023-03-11T02:03:27.283577",
     "status": "completed"
    },
    "tags": []
   },
   "outputs": [
    {
     "name": "stdout",
     "output_type": "stream",
     "text": [
      "There are 37 continuous features\n",
      "v2a1: [' Monthly rent payment']\n",
      "rooms: ['  number of all rooms in the house']\n",
      "v18q1: [' number of tablets household owns']\n",
      "r4h1: [' Males younger than 12 years of age']\n",
      "r4h2: [' Males 12 years of age and older']\n",
      "r4h3: [' Total males in the household']\n",
      "r4m1: [' Females younger than 12 years of age']\n",
      "r4m2: [' Females 12 years of age and older']\n",
      "r4m3: [' Total females in the household']\n",
      "r4t1: [' persons younger than 12 years of age']\n",
      "r4t2: [' persons 12 years of age and older']\n",
      "r4t3: [' Total persons in the household']\n",
      "tamhog: [' size of the household']\n",
      "tamviv: [' number of persons living in the household']\n",
      "escolari: [' years of schooling']\n",
      "rez_esc: [' Years behind in school']\n",
      "hhsize: [' household size']\n",
      "elimbasu5: [' =1 if rubbish disposal mainly by throwing in river,   creek or sea']\n",
      "hogar_nin: [' Number of children 0 to 19 in household']\n",
      "hogar_adul: [' Number of adults in household']\n",
      "hogar_mayor: [' # of individuals 65+ in the household']\n",
      "hogar_total: [' # of total individuals in the household']\n",
      "meaneduc: ['average years of education for adults (18+)']\n",
      "bedrooms: [' number of bedrooms']\n",
      "overcrowding: [' # persons per room']\n",
      "qmobilephone: [' # of mobile phones']\n",
      "age: [' Age in years']\n",
      "SQBescolari: [' escolari squared']\n",
      "SQBage: [' age squared']\n",
      "SQBhogar_total: [' hogar_total squared']\n",
      "SQBedjefe: [' edjefe squared']\n",
      "SQBhogar_nin: [' hogar_nin squared']\n",
      "SQBovercrowding: [' overcrowding squared']\n",
      "SQBdependency: [' dependency squared']\n",
      "SQBmeaned: [' meaned squared']\n",
      "agesq: [' Age squared']\n",
      "edjef: []\n"
     ]
    }
   ],
   "source": [
    "print(f'There are {len(continuous_features)} continuous features')\n",
    "for col in continuous_features:\n",
    "    print('{}: {}'.format(col, description.loc[description['varname'] == col, 'description'].values))"
   ]
  },
  {
   "cell_type": "markdown",
   "id": "afcd465f",
   "metadata": {
    "papermill": {
     "duration": 0.035846,
     "end_time": "2023-03-11T02:03:27.419166",
     "exception": false,
     "start_time": "2023-03-11T02:03:27.383320",
     "status": "completed"
    },
    "tags": []
   },
   "source": [
    "- hhsize: household size\n",
    "- tamhog: size of household"
   ]
  },
  {
   "cell_type": "markdown",
   "id": "c5386844",
   "metadata": {
    "papermill": {
     "duration": 0.037616,
     "end_time": "2023-03-11T02:03:27.491331",
     "exception": false,
     "start_time": "2023-03-11T02:03:27.453715",
     "status": "completed"
    },
    "tags": []
   },
   "source": [
    "Difference ?\n",
    "- meaining of two features are same but the exact number are different.\n",
    "- For now, I decided to drop one feature 'tamhog'"
   ]
  },
  {
   "cell_type": "code",
   "execution_count": 41,
   "id": "f1ae9eea",
   "metadata": {
    "execution": {
     "iopub.execute_input": "2023-03-11T02:03:27.568276Z",
     "iopub.status.busy": "2023-03-11T02:03:27.566653Z",
     "iopub.status.idle": "2023-03-11T02:03:27.580170Z",
     "shell.execute_reply": "2023-03-11T02:03:27.578807Z"
    },
    "papermill": {
     "duration": 0.054963,
     "end_time": "2023-03-11T02:03:27.583151",
     "exception": false,
     "start_time": "2023-03-11T02:03:27.528188",
     "status": "completed"
    },
    "tags": []
   },
   "outputs": [
    {
     "data": {
      "text/plain": [
       "6.0     2792\n",
       "11.0    1150\n",
       "9.0      723\n",
       "8.0      474\n",
       "15.0     473\n",
       "3.0      459\n",
       "0.0      435\n",
       "7.0      413\n",
       "4.0      400\n",
       "5.0      398\n",
       "14.0     328\n",
       "17.0     278\n",
       "2.0      278\n",
       "16.0     247\n",
       "10.0     207\n",
       "12.0     185\n",
       "13.0     155\n",
       "1.0       65\n",
       "21.0      48\n",
       "18.0      22\n",
       "19.0      18\n",
       "20.0       9\n",
       "Name: edjef, dtype: int64"
      ]
     },
     "execution_count": 41,
     "metadata": {},
     "output_type": "execute_result"
    }
   ],
   "source": [
    "df_train['edjef'].value_counts()"
   ]
  },
  {
   "cell_type": "code",
   "execution_count": 42,
   "id": "07ffc501",
   "metadata": {
    "execution": {
     "iopub.execute_input": "2023-03-11T02:03:27.655485Z",
     "iopub.status.busy": "2023-03-11T02:03:27.654705Z",
     "iopub.status.idle": "2023-03-11T02:03:27.710628Z",
     "shell.execute_reply": "2023-03-11T02:03:27.709147Z"
    },
    "papermill": {
     "duration": 0.095563,
     "end_time": "2023-03-11T02:03:27.713911",
     "exception": false,
     "start_time": "2023-03-11T02:03:27.618348",
     "status": "completed"
    },
    "tags": []
   },
   "outputs": [],
   "source": [
    "df_train.drop('tamhog', axis=1, inplace=True)\n",
    "df_test.drop('tamhog', axis=1, inplace=True)\n",
    "# 2번 실행해버림"
   ]
  },
  {
   "cell_type": "markdown",
   "id": "3bb2933a",
   "metadata": {
    "papermill": {
     "duration": 0.035537,
     "end_time": "2023-03-11T02:03:27.785341",
     "exception": false,
     "start_time": "2023-03-11T02:03:27.749804",
     "status": "completed"
    },
    "tags": []
   },
   "source": [
    "Squared features\n",
    "- There are many squared features. Since I want to use lightgbm as feature filter model and set entity - embedding as classifier, I will keep them"
   ]
  },
  {
   "cell_type": "markdown",
   "id": "4a4b36d8",
   "metadata": {
    "papermill": {
     "duration": 0.033918,
     "end_time": "2023-03-11T02:03:27.854286",
     "exception": false,
     "start_time": "2023-03-11T02:03:27.820368",
     "status": "completed"
    },
    "tags": []
   },
   "source": [
    "Family features\n",
    "- hogar_nin, hogar_adul, hogar_mayor, hogar_total, r4h1, r4h2, r4h3, r4m1, r4m2, r4m3, r4t1, r4t2, r4t3, tmbhog, tamvid, rez_esc, escolari\n",
    "- Family size features (subtract, ratio)"
   ]
  },
  {
   "cell_type": "markdown",
   "id": "b0135c75",
   "metadata": {
    "papermill": {
     "duration": 0.034054,
     "end_time": "2023-03-11T02:03:27.922715",
     "exception": false,
     "start_time": "2023-03-11T02:03:27.888661",
     "status": "completed"
    },
    "tags": []
   },
   "source": []
  },
  {
   "cell_type": "code",
   "execution_count": 43,
   "id": "44b77cae",
   "metadata": {
    "execution": {
     "iopub.execute_input": "2023-03-11T02:03:27.996533Z",
     "iopub.status.busy": "2023-03-11T02:03:27.994807Z",
     "iopub.status.idle": "2023-03-11T02:03:28.017826Z",
     "shell.execute_reply": "2023-03-11T02:03:28.016789Z"
    },
    "papermill": {
     "duration": 0.062556,
     "end_time": "2023-03-11T02:03:28.020880",
     "exception": false,
     "start_time": "2023-03-11T02:03:27.958324",
     "status": "completed"
    },
    "tags": []
   },
   "outputs": [],
   "source": [
    "df_train['adult'] = df_train['hogar_adul'] - df_train['hogar_mayor']\n",
    "df_train['dependency_count'] = df_train['hogar_nin'] + df_train['hogar_mayor']\n",
    "df_train['dependency'] = df_train['dependency_count'] / df_train['adult']\n",
    "df_train['child_percent'] = df_train['hogar_nin'] / df_train['hogar_total']\n",
    "df_train['elder_percent'] = df_train['hogar_mayor'] / df_train['hogar_total']\n",
    "df_train['adult_percent'] = df_train['hogar_adul'] / df_train['hogar_total']\n",
    "df_train['males_younger_12_years_percent'] = df_train['r4h1'] / df_train['hogar_total']\n",
    "df_train['males_older_12_years_percent'] = df_train['r4h2'] / df_train['hogar_total']\n",
    "df_train['males_percent'] = df_train['r4h3'] / df_train['hogar_total']\n",
    "df_train['females_younger_12_years_percent'] = df_train['r4m1'] / df_train['hogar_total']\n",
    "df_train['females_older_12_years_percent'] = df_train['r4m2'] / df_train['hogar_total']\n",
    "df_train['females_percent'] = df_train['r4m3'] / df_train['hogar_total']\n",
    "df_train['persons_younger_12_years_percent'] = df_train['r4t1'] / df_train['hogar_total']\n",
    "df_train['persons_older_12_years_percent'] = df_train['r4t2'] / df_train['hogar_total']\n",
    "df_train['persons_percent'] = df_train['r4t3'] / df_train['hogar_total']"
   ]
  },
  {
   "cell_type": "code",
   "execution_count": 44,
   "id": "3d8f0303",
   "metadata": {
    "execution": {
     "iopub.execute_input": "2023-03-11T02:03:28.092776Z",
     "iopub.status.busy": "2023-03-11T02:03:28.091579Z",
     "iopub.status.idle": "2023-03-11T02:03:28.115849Z",
     "shell.execute_reply": "2023-03-11T02:03:28.114682Z"
    },
    "papermill": {
     "duration": 0.063674,
     "end_time": "2023-03-11T02:03:28.118939",
     "exception": false,
     "start_time": "2023-03-11T02:03:28.055265",
     "status": "completed"
    },
    "tags": []
   },
   "outputs": [],
   "source": [
    "df_test['adult'] = df_test['hogar_adul'] - df_test['hogar_mayor']\n",
    "df_test['dependency_count'] = df_test['hogar_nin'] + df_test['hogar_mayor']\n",
    "df_test['dependency'] = df_test['dependency_count'] / df_test['adult']\n",
    "df_test['child_percent'] = df_test['hogar_nin'] / df_test['hogar_total']\n",
    "df_test['elder_percent'] = df_test['hogar_mayor'] / df_test['hogar_total']\n",
    "df_test['adult_percent'] = df_test['hogar_adul'] / df_test['hogar_total']\n",
    "df_test['males_younger_12_years_percent'] = df_test['r4h1'] / df_test['hogar_total']\n",
    "df_test['males_older_12_years_percent'] = df_test['r4h2'] / df_test['hogar_total']\n",
    "df_test['males_percent'] = df_test['r4h3'] / df_test['hogar_total']\n",
    "df_test['females_younger_12_years_percent'] = df_test['r4m1'] / df_test['hogar_total']\n",
    "df_test['females_older_12_years_percent'] = df_test['r4m2'] / df_test['hogar_total']\n",
    "df_test['females_percent'] = df_test['r4m3'] / df_test['hogar_total']\n",
    "df_test['persons_younger_12_years_percent'] = df_test['r4t1'] / df_test['hogar_total']\n",
    "df_test['persons_older_12_years_percent'] = df_test['r4t2'] / df_test['hogar_total']\n",
    "df_test['persons_percent'] = df_test['r4t3'] / df_test['hogar_total']"
   ]
  },
  {
   "cell_type": "code",
   "execution_count": 45,
   "id": "d9a73028",
   "metadata": {
    "execution": {
     "iopub.execute_input": "2023-03-11T02:03:28.190716Z",
     "iopub.status.busy": "2023-03-11T02:03:28.189965Z",
     "iopub.status.idle": "2023-03-11T02:03:28.205405Z",
     "shell.execute_reply": "2023-03-11T02:03:28.204050Z"
    },
    "papermill": {
     "duration": 0.055391,
     "end_time": "2023-03-11T02:03:28.208889",
     "exception": false,
     "start_time": "2023-03-11T02:03:28.153498",
     "status": "completed"
    },
    "tags": []
   },
   "outputs": [],
   "source": [
    "df_train['males_younger_12_years_in_household_size'] = df_train['r4h1'] / df_train['hhsize']\n",
    "df_train['males_older_12_years_in_household_size'] = df_train['r4h2'] / df_train['hhsize']\n",
    "df_train['males_in_household_size'] = df_train['r4h3'] / df_train['hhsize']\n",
    "df_train['females_younger_12_years_in_household_size'] = df_train['r4m1'] / df_train['hhsize']\n",
    "df_train['females_older_12_years_in_household_size'] = df_train['r4m2'] / df_train['hhsize']\n",
    "df_train['females_in_household_size'] = df_train['r4m3'] / df_train['hogar_total']\n",
    "df_train['persons_younger_12_years_in_household_size'] = df_train['r4t1'] / df_train['hhsize']\n",
    "df_train['persons_older_12_years_in_household_size'] = df_train['r4t2'] / df_train['hhsize']\n",
    "df_train['persons_in_household_size'] = df_train['r4t3'] / df_train['hhsize']"
   ]
  },
  {
   "cell_type": "code",
   "execution_count": 46,
   "id": "50e4201d",
   "metadata": {
    "execution": {
     "iopub.execute_input": "2023-03-11T02:03:28.280449Z",
     "iopub.status.busy": "2023-03-11T02:03:28.279824Z",
     "iopub.status.idle": "2023-03-11T02:03:28.297536Z",
     "shell.execute_reply": "2023-03-11T02:03:28.296402Z"
    },
    "papermill": {
     "duration": 0.056935,
     "end_time": "2023-03-11T02:03:28.300536",
     "exception": false,
     "start_time": "2023-03-11T02:03:28.243601",
     "status": "completed"
    },
    "tags": []
   },
   "outputs": [],
   "source": [
    "df_test['males_younger_12_years_in_household_size'] = df_test['r4h1'] / df_test['hhsize']\n",
    "df_test['males_older_12_years_in_household_size'] = df_test['r4h2'] / df_test['hhsize']\n",
    "df_test['males_in_household_size'] = df_test['r4h3'] / df_test['hhsize']\n",
    "df_test['females_younger_12_years_in_household_size'] = df_test['r4m1'] / df_test['hhsize']\n",
    "df_test['females_older_12_years_in_household_size'] = df_test['r4m2'] / df_test['hhsize']\n",
    "df_test['females_in_household_size'] = df_test['r4m3'] / df_test['hogar_total']\n",
    "df_test['persons_younger_12_years_in_household_size'] = df_test['r4t1'] / df_test['hhsize']\n",
    "df_test['persons_older_12_years_in_household_size'] = df_test['r4t2'] / df_test['hhsize']\n",
    "df_test['persons_in_household_size'] = df_test['r4t3'] / df_test['hhsize']"
   ]
  },
  {
   "cell_type": "code",
   "execution_count": 47,
   "id": "68154001",
   "metadata": {
    "execution": {
     "iopub.execute_input": "2023-03-11T02:03:28.373913Z",
     "iopub.status.busy": "2023-03-11T02:03:28.372944Z",
     "iopub.status.idle": "2023-03-11T02:03:28.382695Z",
     "shell.execute_reply": "2023-03-11T02:03:28.381419Z"
    },
    "papermill": {
     "duration": 0.050772,
     "end_time": "2023-03-11T02:03:28.385789",
     "exception": false,
     "start_time": "2023-03-11T02:03:28.335017",
     "status": "completed"
    },
    "tags": []
   },
   "outputs": [],
   "source": [
    "df_train['overcrowding_room_and_bedroom'] = (df_train['hacdor'] + df_train['hacapo']) / 2\n",
    "df_test['overcrowding_room_and_bedroom'] = (df_test['hacdor'] + df_test['hacapo']) / 2"
   ]
  },
  {
   "cell_type": "code",
   "execution_count": 48,
   "id": "7153c274",
   "metadata": {
    "execution": {
     "iopub.execute_input": "2023-03-11T02:03:28.458261Z",
     "iopub.status.busy": "2023-03-11T02:03:28.457295Z",
     "iopub.status.idle": "2023-03-11T02:03:28.468699Z",
     "shell.execute_reply": "2023-03-11T02:03:28.467586Z"
    },
    "papermill": {
     "duration": 0.051568,
     "end_time": "2023-03-11T02:03:28.472051",
     "exception": false,
     "start_time": "2023-03-11T02:03:28.420483",
     "status": "completed"
    },
    "tags": []
   },
   "outputs": [],
   "source": [
    "df_train['escolari_age'] = df_train['escolari']/df_train['age']\n",
    "df_test['escolari_age'] = df_test['escolari']/df_test['age']\n",
    "\n",
    "df_train['age_12_19'] = df_train['hogar_nin'] - df_train['r4t1']\n",
    "df_test['age_12_19'] = df_test['hogar_nin'] - df_test['r4t1'] "
   ]
  },
  {
   "cell_type": "code",
   "execution_count": 49,
   "id": "fb3246e2",
   "metadata": {
    "execution": {
     "iopub.execute_input": "2023-03-11T02:03:28.547217Z",
     "iopub.status.busy": "2023-03-11T02:03:28.546309Z",
     "iopub.status.idle": "2023-03-11T02:03:28.557818Z",
     "shell.execute_reply": "2023-03-11T02:03:28.556360Z"
    },
    "papermill": {
     "duration": 0.052628,
     "end_time": "2023-03-11T02:03:28.561204",
     "exception": false,
     "start_time": "2023-03-11T02:03:28.508576",
     "status": "completed"
    },
    "tags": []
   },
   "outputs": [],
   "source": [
    "df_train['phones-per-capita'] = df_train['qmobilephone'] / df_train['tamviv']\n",
    "df_train['tablets-per-capita'] = df_train['v18q1'] / df_train['tamviv']\n",
    "df_train['rooms-per-capita'] = df_train['rooms'] / df_train['tamviv']\n",
    "df_train['rent-per-capita'] = df_train['v2a1'] / df_train['tamviv']"
   ]
  },
  {
   "cell_type": "code",
   "execution_count": 50,
   "id": "97605cc6",
   "metadata": {
    "execution": {
     "iopub.execute_input": "2023-03-11T02:03:28.633447Z",
     "iopub.status.busy": "2023-03-11T02:03:28.632489Z",
     "iopub.status.idle": "2023-03-11T02:03:28.644698Z",
     "shell.execute_reply": "2023-03-11T02:03:28.643098Z"
    },
    "papermill": {
     "duration": 0.052283,
     "end_time": "2023-03-11T02:03:28.647973",
     "exception": false,
     "start_time": "2023-03-11T02:03:28.595690",
     "status": "completed"
    },
    "tags": []
   },
   "outputs": [],
   "source": [
    "df_test['phones-per-capita'] = df_test['qmobilephone'] / df_test['tamviv']\n",
    "df_test['tablets-per-capita'] = df_test['v18q1'] / df_test['tamviv']\n",
    "df_test['rooms-per-capita'] = df_test['rooms'] / df_test['tamviv']\n",
    "df_test['rent-per-capita'] = df_test['v2a1'] / df_test['tamviv']"
   ]
  },
  {
   "cell_type": "code",
   "execution_count": 51,
   "id": "a6224a8a",
   "metadata": {
    "execution": {
     "iopub.execute_input": "2023-03-11T02:03:28.723562Z",
     "iopub.status.busy": "2023-03-11T02:03:28.722759Z",
     "iopub.status.idle": "2023-03-11T02:03:28.732294Z",
     "shell.execute_reply": "2023-03-11T02:03:28.730948Z"
    },
    "papermill": {
     "duration": 0.050028,
     "end_time": "2023-03-11T02:03:28.734925",
     "exception": false,
     "start_time": "2023-03-11T02:03:28.684897",
     "status": "completed"
    },
    "tags": []
   },
   "outputs": [
    {
     "data": {
      "text/plain": [
       "0       1\n",
       "1       1\n",
       "2       1\n",
       "3       4\n",
       "4       4\n",
       "       ..\n",
       "9552    5\n",
       "9553    5\n",
       "9554    5\n",
       "9555    5\n",
       "9556    5\n",
       "Name: hogar_total, Length: 9557, dtype: int64"
      ]
     },
     "execution_count": 51,
     "metadata": {},
     "output_type": "execute_result"
    }
   ],
   "source": [
    "df_train['hogar_total']"
   ]
  },
  {
   "cell_type": "code",
   "execution_count": 52,
   "id": "1be5dd98",
   "metadata": {
    "execution": {
     "iopub.execute_input": "2023-03-11T02:03:28.807812Z",
     "iopub.status.busy": "2023-03-11T02:03:28.807074Z",
     "iopub.status.idle": "2023-03-11T02:03:28.816863Z",
     "shell.execute_reply": "2023-03-11T02:03:28.815135Z"
    },
    "papermill": {
     "duration": 0.050211,
     "end_time": "2023-03-11T02:03:28.819794",
     "exception": false,
     "start_time": "2023-03-11T02:03:28.769583",
     "status": "completed"
    },
    "tags": []
   },
   "outputs": [
    {
     "data": {
      "text/plain": [
       "0       1\n",
       "1       1\n",
       "2       1\n",
       "3       4\n",
       "4       4\n",
       "       ..\n",
       "9552    5\n",
       "9553    5\n",
       "9554    5\n",
       "9555    5\n",
       "9556    5\n",
       "Name: r4t3, Length: 9557, dtype: int64"
      ]
     },
     "execution_count": 52,
     "metadata": {},
     "output_type": "execute_result"
    }
   ],
   "source": [
    "df_train['r4t3']"
   ]
  },
  {
   "cell_type": "code",
   "execution_count": 53,
   "id": "51e6c263",
   "metadata": {
    "execution": {
     "iopub.execute_input": "2023-03-11T02:03:28.891766Z",
     "iopub.status.busy": "2023-03-11T02:03:28.890747Z",
     "iopub.status.idle": "2023-03-11T02:03:28.900218Z",
     "shell.execute_reply": "2023-03-11T02:03:28.898715Z"
    },
    "papermill": {
     "duration": 0.048518,
     "end_time": "2023-03-11T02:03:28.902869",
     "exception": false,
     "start_time": "2023-03-11T02:03:28.854351",
     "status": "completed"
    },
    "tags": []
   },
   "outputs": [
    {
     "data": {
      "text/plain": [
       "9509"
      ]
     },
     "execution_count": 53,
     "metadata": {},
     "output_type": "execute_result"
    }
   ],
   "source": [
    "(df_train['hogar_total'] == df_train['r4t3']).sum()"
   ]
  },
  {
   "cell_type": "markdown",
   "id": "75fe16ee",
   "metadata": {
    "papermill": {
     "duration": 0.034142,
     "end_time": "2023-03-11T02:03:28.971675",
     "exception": false,
     "start_time": "2023-03-11T02:03:28.937533",
     "status": "completed"
    },
    "tags": []
   },
   "source": [
    "- 9557과 9509랑 숫자가 다르다는걸 보니, 'Total persons in the household'와 'total individuals in the household' is differnet"
   ]
  },
  {
   "cell_type": "markdown",
   "id": "ff1df4f0",
   "metadata": {
    "papermill": {
     "duration": 0.125516,
     "end_time": "2023-03-11T02:03:29.132005",
     "exception": false,
     "start_time": "2023-03-11T02:03:29.006489",
     "status": "completed"
    },
    "tags": []
   },
   "source": [
    "#### Rent per family features"
   ]
  },
  {
   "cell_type": "markdown",
   "id": "69d2abec",
   "metadata": {
    "papermill": {
     "duration": 0.034732,
     "end_time": "2023-03-11T02:03:29.203017",
     "exception": false,
     "start_time": "2023-03-11T02:03:29.168285",
     "status": "completed"
    },
    "tags": []
   },
   "source": [
    "- I will reduce the number of features using shap, so let's generate many features !! "
   ]
  },
  {
   "cell_type": "code",
   "execution_count": 54,
   "id": "8a55bbfa",
   "metadata": {
    "execution": {
     "iopub.execute_input": "2023-03-11T02:03:29.278017Z",
     "iopub.status.busy": "2023-03-11T02:03:29.277277Z",
     "iopub.status.idle": "2023-03-11T02:03:29.307780Z",
     "shell.execute_reply": "2023-03-11T02:03:29.306326Z"
    },
    "papermill": {
     "duration": 0.071238,
     "end_time": "2023-03-11T02:03:29.310818",
     "exception": false,
     "start_time": "2023-03-11T02:03:29.239580",
     "status": "completed"
    },
    "tags": []
   },
   "outputs": [],
   "source": [
    "family_size_features = ['adult', 'hogar_adul', 'hogar_mayor', 'hogar_nin', 'hogar_total', 'r4h1', \n",
    "                        'r4h2', 'r4h3', 'r4m1', 'r4m2', 'r4m3', 'r4t1', 'r4t2', 'r4t3', 'hhsize']\n",
    "new_feats = []\n",
    "for col in family_size_features:\n",
    "    new_col_name = 'new_{}_per_{}'.format('v2a1', col)\n",
    "    new_feats.append(new_col_name)\n",
    "    df_train[new_col_name] = df_train['v2a1'] / df_train[col]\n",
    "    df_test[new_col_name] = df_test['v2a1'] / df_test[col]"
   ]
  },
  {
   "cell_type": "code",
   "execution_count": 55,
   "id": "a314071e",
   "metadata": {
    "execution": {
     "iopub.execute_input": "2023-03-11T02:03:29.387309Z",
     "iopub.status.busy": "2023-03-11T02:03:29.386809Z",
     "iopub.status.idle": "2023-03-11T02:03:29.394640Z",
     "shell.execute_reply": "2023-03-11T02:03:29.393277Z"
    },
    "papermill": {
     "duration": 0.049922,
     "end_time": "2023-03-11T02:03:29.397521",
     "exception": false,
     "start_time": "2023-03-11T02:03:29.347599",
     "status": "completed"
    },
    "tags": []
   },
   "outputs": [
    {
     "data": {
      "text/plain": [
       "['new_v2a1_per_adult',\n",
       " 'new_v2a1_per_hogar_adul',\n",
       " 'new_v2a1_per_hogar_mayor',\n",
       " 'new_v2a1_per_hogar_nin',\n",
       " 'new_v2a1_per_hogar_total',\n",
       " 'new_v2a1_per_r4h1',\n",
       " 'new_v2a1_per_r4h2',\n",
       " 'new_v2a1_per_r4h3',\n",
       " 'new_v2a1_per_r4m1',\n",
       " 'new_v2a1_per_r4m2',\n",
       " 'new_v2a1_per_r4m3',\n",
       " 'new_v2a1_per_r4t1',\n",
       " 'new_v2a1_per_r4t2',\n",
       " 'new_v2a1_per_r4t3',\n",
       " 'new_v2a1_per_hhsize']"
      ]
     },
     "execution_count": 55,
     "metadata": {},
     "output_type": "execute_result"
    }
   ],
   "source": [
    "new_feats"
   ]
  },
  {
   "cell_type": "markdown",
   "id": "67c5b25a",
   "metadata": {
    "papermill": {
     "duration": 0.035799,
     "end_time": "2023-03-11T02:03:29.469099",
     "exception": false,
     "start_time": "2023-03-11T02:03:29.433300",
     "status": "completed"
    },
    "tags": []
   },
   "source": [
    "- Ration feature can have infinite features. Fill with 0"
   ]
  },
  {
   "cell_type": "code",
   "execution_count": 56,
   "id": "a0a56efe",
   "metadata": {
    "execution": {
     "iopub.execute_input": "2023-03-11T02:03:29.543928Z",
     "iopub.status.busy": "2023-03-11T02:03:29.543345Z",
     "iopub.status.idle": "2023-03-11T02:03:29.570790Z",
     "shell.execute_reply": "2023-03-11T02:03:29.568947Z"
    },
    "papermill": {
     "duration": 0.06964,
     "end_time": "2023-03-11T02:03:29.575416",
     "exception": false,
     "start_time": "2023-03-11T02:03:29.505776",
     "status": "completed"
    },
    "tags": []
   },
   "outputs": [],
   "source": [
    "for col in new_feats:\n",
    "    df_train[col].replace([np.inf], np.nan, inplace=True)\n",
    "    df_train[col].fillna(0, inplace=True)\n",
    "    \n",
    "    df_test[col].replace([np.inf], np.nan, inplace=True)\n",
    "    df_test[col].fillna(0, inplace=True)"
   ]
  },
  {
   "cell_type": "code",
   "execution_count": 57,
   "id": "a85c649b",
   "metadata": {
    "execution": {
     "iopub.execute_input": "2023-03-11T02:03:29.689306Z",
     "iopub.status.busy": "2023-03-11T02:03:29.688779Z",
     "iopub.status.idle": "2023-03-11T02:03:29.699960Z",
     "shell.execute_reply": "2023-03-11T02:03:29.698501Z"
    },
    "papermill": {
     "duration": 0.067914,
     "end_time": "2023-03-11T02:03:29.702879",
     "exception": false,
     "start_time": "2023-03-11T02:03:29.634965",
     "status": "completed"
    },
    "tags": []
   },
   "outputs": [
    {
     "data": {
      "text/plain": [
       "0       190000.0\n",
       "1            0.0\n",
       "2            0.0\n",
       "3        90000.0\n",
       "4        90000.0\n",
       "          ...   \n",
       "9552     20000.0\n",
       "9553     20000.0\n",
       "9554     20000.0\n",
       "9555     20000.0\n",
       "9556     20000.0\n",
       "Name: new_v2a1_per_adult, Length: 9557, dtype: float64"
      ]
     },
     "execution_count": 57,
     "metadata": {},
     "output_type": "execute_result"
    }
   ],
   "source": [
    "df_train['new_v2a1_per_adult']"
   ]
  },
  {
   "cell_type": "markdown",
   "id": "839ef6da",
   "metadata": {
    "papermill": {
     "duration": 0.034984,
     "end_time": "2023-03-11T02:03:29.773566",
     "exception": false,
     "start_time": "2023-03-11T02:03:29.738582",
     "status": "completed"
    },
    "tags": []
   },
   "source": [
    "#### BedRoom per family features"
   ]
  },
  {
   "cell_type": "code",
   "execution_count": 58,
   "id": "6eaa6412",
   "metadata": {
    "execution": {
     "iopub.execute_input": "2023-03-11T02:03:29.848209Z",
     "iopub.status.busy": "2023-03-11T02:03:29.847631Z",
     "iopub.status.idle": "2023-03-11T02:03:29.897213Z",
     "shell.execute_reply": "2023-03-11T02:03:29.895792Z"
    },
    "papermill": {
     "duration": 0.090171,
     "end_time": "2023-03-11T02:03:29.900356",
     "exception": false,
     "start_time": "2023-03-11T02:03:29.810185",
     "status": "completed"
    },
    "tags": []
   },
   "outputs": [],
   "source": [
    "new_feats = []\n",
    "for col in family_size_features:\n",
    "    new_col_name = 'new_bedrooms_per_{}'.format(col)\n",
    "    new_feats.append(new_col_name)\n",
    "    df_train[new_col_name] = df_train['bedrooms'] / df_train[col]\n",
    "    df_test[new_col_name] = df_test['bedrooms'] / df_test[col]\n",
    "    \n",
    "for col in new_feats:\n",
    "    df_train[col].replace([np.inf], np.nan, inplace=True)\n",
    "    df_train[col].fillna(0, inplace=True)\n",
    "    \n",
    "    df_test[col].replace([np.inf], np.nan, inplace=True)\n",
    "    df_test[col].fillna(0, inplace=True)"
   ]
  },
  {
   "cell_type": "code",
   "execution_count": 59,
   "id": "d83e89f0",
   "metadata": {
    "execution": {
     "iopub.execute_input": "2023-03-11T02:03:29.978223Z",
     "iopub.status.busy": "2023-03-11T02:03:29.977067Z",
     "iopub.status.idle": "2023-03-11T02:03:29.984112Z",
     "shell.execute_reply": "2023-03-11T02:03:29.982755Z"
    },
    "papermill": {
     "duration": 0.049212,
     "end_time": "2023-03-11T02:03:29.987527",
     "exception": false,
     "start_time": "2023-03-11T02:03:29.938315",
     "status": "completed"
    },
    "tags": []
   },
   "outputs": [
    {
     "name": "stdout",
     "output_type": "stream",
     "text": [
      "(9557, 205) (23856, 204)\n"
     ]
    }
   ],
   "source": [
    "print(df_train.shape, df_test.shape) # To check the same number of features between train and test (target is there in train)"
   ]
  },
  {
   "cell_type": "markdown",
   "id": "39cc9153",
   "metadata": {
    "papermill": {
     "duration": 0.03527,
     "end_time": "2023-03-11T02:03:30.061150",
     "exception": false,
     "start_time": "2023-03-11T02:03:30.025880",
     "status": "completed"
    },
    "tags": []
   },
   "source": [
    "#### Tabulet per family features"
   ]
  },
  {
   "cell_type": "code",
   "execution_count": 60,
   "id": "1b64e5ba",
   "metadata": {
    "execution": {
     "iopub.execute_input": "2023-03-11T02:03:30.134998Z",
     "iopub.status.busy": "2023-03-11T02:03:30.133820Z",
     "iopub.status.idle": "2023-03-11T02:03:30.180699Z",
     "shell.execute_reply": "2023-03-11T02:03:30.179120Z"
    },
    "papermill": {
     "duration": 0.0872,
     "end_time": "2023-03-11T02:03:30.184004",
     "exception": false,
     "start_time": "2023-03-11T02:03:30.096804",
     "status": "completed"
    },
    "tags": []
   },
   "outputs": [],
   "source": [
    "new_feats = []\n",
    "for col in family_size_features:\n",
    "    new_col_name = 'new_v18q1_per_{}'.format(col)\n",
    "    new_feats.append(new_col_name)\n",
    "    df_train[new_col_name] = df_train['v18q1'] / df_train[col]\n",
    "    df_test[new_col_name] = df_test['v18q1'] / df_test[col]\n",
    "    \n",
    "for col in new_feats:\n",
    "    df_train[col].replace([np.inf], np.nan, inplace=True)\n",
    "    df_train[col].fillna(0, inplace=True)\n",
    "    \n",
    "    df_test[col].replace([np.inf], np.nan, inplace=True)\n",
    "    df_test[col].fillna(0, inplace=True)"
   ]
  },
  {
   "cell_type": "markdown",
   "id": "4f62bc5a",
   "metadata": {
    "papermill": {
     "duration": 0.035217,
     "end_time": "2023-03-11T02:03:30.254975",
     "exception": false,
     "start_time": "2023-03-11T02:03:30.219758",
     "status": "completed"
    },
    "tags": []
   },
   "source": [
    "phone per family features"
   ]
  },
  {
   "cell_type": "code",
   "execution_count": 61,
   "id": "642f3732",
   "metadata": {
    "execution": {
     "iopub.execute_input": "2023-03-11T02:03:30.329842Z",
     "iopub.status.busy": "2023-03-11T02:03:30.329331Z",
     "iopub.status.idle": "2023-03-11T02:03:30.379106Z",
     "shell.execute_reply": "2023-03-11T02:03:30.377794Z"
    },
    "papermill": {
     "duration": 0.09192,
     "end_time": "2023-03-11T02:03:30.382324",
     "exception": false,
     "start_time": "2023-03-11T02:03:30.290404",
     "status": "completed"
    },
    "tags": []
   },
   "outputs": [],
   "source": [
    "new_feats = []\n",
    "for col in family_size_features:\n",
    "    new_col_name = 'new_qmobilephone_per_{}'.format(col)\n",
    "    new_feats.append(new_col_name)\n",
    "    df_train[new_col_name] = df_train['qmobilephone'] / df_train[col]\n",
    "    df_test[new_col_name] = df_test['qmobilephone'] / df_test[col]\n",
    "\n",
    "for col in new_feats:\n",
    "    df_train[col].replace([np.inf], np.nan, inplace=True)\n",
    "    df_train[col].fillna(0, inplace=True)\n",
    "    \n",
    "    df_test[col].replace([np.inf], np.nan, inplace=True)\n",
    "    df_test[col].fillna(0, inplace=True)"
   ]
  },
  {
   "cell_type": "markdown",
   "id": "7c08f6fa",
   "metadata": {
    "papermill": {
     "duration": 0.03748,
     "end_time": "2023-03-11T02:03:30.456207",
     "exception": false,
     "start_time": "2023-03-11T02:03:30.418727",
     "status": "completed"
    },
    "tags": []
   },
   "source": [
    "rez_esc(Years behind in school) per family features"
   ]
  },
  {
   "cell_type": "code",
   "execution_count": 62,
   "id": "68057f46",
   "metadata": {
    "execution": {
     "iopub.execute_input": "2023-03-11T02:03:30.531227Z",
     "iopub.status.busy": "2023-03-11T02:03:30.530751Z",
     "iopub.status.idle": "2023-03-11T02:03:30.581411Z",
     "shell.execute_reply": "2023-03-11T02:03:30.579929Z"
    },
    "papermill": {
     "duration": 0.091403,
     "end_time": "2023-03-11T02:03:30.584595",
     "exception": false,
     "start_time": "2023-03-11T02:03:30.493192",
     "status": "completed"
    },
    "tags": []
   },
   "outputs": [],
   "source": [
    "new_feats = []\n",
    "for col in family_size_features:\n",
    "    new_col_name = 'new_{}_per_{}'.format('rez_esc', col)\n",
    "    new_feats.append(new_col_name)\n",
    "    df_train[new_col_name] = df_train['rez_esc'] / df_train[col]\n",
    "    df_test[new_col_name] = df_test['rez_esc'] / df_test[col]\n",
    "\n",
    "for col in new_feats:\n",
    "    df_train[col].replace([np.inf], np.nan, inplace=True)\n",
    "    df_train[col].fillna(0, inplace=True)\n",
    "    \n",
    "    df_test[col].replace([np.inf], np.nan, inplace=True)\n",
    "    df_test[col].fillna(0, inplace=True)"
   ]
  },
  {
   "cell_type": "code",
   "execution_count": 63,
   "id": "342ff572",
   "metadata": {
    "execution": {
     "iopub.execute_input": "2023-03-11T02:03:30.658976Z",
     "iopub.status.busy": "2023-03-11T02:03:30.658053Z",
     "iopub.status.idle": "2023-03-11T02:03:30.671481Z",
     "shell.execute_reply": "2023-03-11T02:03:30.670021Z"
    },
    "papermill": {
     "duration": 0.05556,
     "end_time": "2023-03-11T02:03:30.675768",
     "exception": false,
     "start_time": "2023-03-11T02:03:30.620208",
     "status": "completed"
    },
    "tags": []
   },
   "outputs": [],
   "source": [
    "df_train['rez_esc_age'] = df_train['rez_esc'] / df_train['age']\n",
    "df_train['rez_esc_escolari'] = df_train['rez_esc'] / df_train['escolari']\n",
    "\n",
    "df_test['rez_esc_age'] = df_test['rez_esc'] / df_test['age']\n",
    "df_test['rez_esc_escolari'] = df_test['rez_esc'] / df_test['escolari']"
   ]
  },
  {
   "cell_type": "markdown",
   "id": "b7d84d52",
   "metadata": {
    "papermill": {
     "duration": 0.03695,
     "end_time": "2023-03-11T02:03:30.748729",
     "exception": false,
     "start_time": "2023-03-11T02:03:30.711779",
     "status": "completed"
    },
    "tags": []
   },
   "source": [
    "prediction: the richer, the larger number of phones & tabulet"
   ]
  },
  {
   "cell_type": "code",
   "execution_count": 64,
   "id": "44ee5abb",
   "metadata": {
    "execution": {
     "iopub.execute_input": "2023-03-11T02:03:30.822247Z",
     "iopub.status.busy": "2023-03-11T02:03:30.821762Z",
     "iopub.status.idle": "2023-03-11T02:03:30.831061Z",
     "shell.execute_reply": "2023-03-11T02:03:30.829881Z"
    },
    "papermill": {
     "duration": 0.049186,
     "end_time": "2023-03-11T02:03:30.833570",
     "exception": false,
     "start_time": "2023-03-11T02:03:30.784384",
     "status": "completed"
    },
    "tags": []
   },
   "outputs": [],
   "source": [
    "df_train['tabulet_x_qmobilephone'] = df_train['v18q1'] * df_train['qmobilephone']\n",
    "df_test['tabulet_x_qmobilephone'] = df_test['v18q1'] * df_test['qmobilephone']"
   ]
  },
  {
   "cell_type": "markdown",
   "id": "6c924f96",
   "metadata": {
    "papermill": {
     "duration": 0.035238,
     "end_time": "2023-03-11T02:03:30.904373",
     "exception": false,
     "start_time": "2023-03-11T02:03:30.869135",
     "status": "completed"
    },
    "tags": []
   },
   "source": [
    "- wall, roof, floor may be key factor\n",
    "- multiply"
   ]
  },
  {
   "cell_type": "code",
   "execution_count": 65,
   "id": "05164ba4",
   "metadata": {
    "execution": {
     "iopub.execute_input": "2023-03-11T02:03:30.978720Z",
     "iopub.status.busy": "2023-03-11T02:03:30.978217Z",
     "iopub.status.idle": "2023-03-11T02:03:31.037493Z",
     "shell.execute_reply": "2023-03-11T02:03:31.036041Z"
    },
    "papermill": {
     "duration": 0.099909,
     "end_time": "2023-03-11T02:03:31.040696",
     "exception": false,
     "start_time": "2023-03-11T02:03:30.940787",
     "status": "completed"
    },
    "tags": []
   },
   "outputs": [],
   "source": [
    "# wall and roof\n",
    "for col1 in ['epared1', 'epared2', 'epared3']:\n",
    "    for col2 in ['etecho1', 'etecho2', 'etecho3']:\n",
    "        new_col_name = 'new_{}_x_{}'.format(col1, col2)\n",
    "        df_train[new_col_name] = df_train[col1] * df_train[col2]\n",
    "        df_test[new_col_name] = df_test[col1] * df_test[col2]\n",
    "        \n",
    "# wall and floor\n",
    "for col1 in ['epared1', 'epared2', 'epared3']:\n",
    "    for col2 in ['eviv1', 'eviv2', 'eviv3']:\n",
    "        new_col_name = 'new_{}_x_{}'.format(col1, col2)\n",
    "        df_train[new_col_name] = df_train[col1] * df_train[col2]\n",
    "        df_test[new_col_name] = df_test[col1] * df_test[col2]\n",
    "\n",
    "# roof and floor\n",
    "for col1 in ['etecho1', 'etecho2', 'etecho3']:\n",
    "    for col2 in ['eviv1', 'eviv2', 'eviv3']:\n",
    "        new_col_name = 'new_{}_x_{}'.format(col1, col2)\n",
    "        df_train[new_col_name] = df_train[col1] * df_train[col2]\n",
    "        df_test[new_col_name] = df_test[col1] * df_test[col2]"
   ]
  },
  {
   "cell_type": "code",
   "execution_count": 66,
   "id": "1eed50d0",
   "metadata": {
    "execution": {
     "iopub.execute_input": "2023-03-11T02:03:31.115061Z",
     "iopub.status.busy": "2023-03-11T02:03:31.114538Z",
     "iopub.status.idle": "2023-03-11T02:03:31.212331Z",
     "shell.execute_reply": "2023-03-11T02:03:31.211014Z"
    },
    "papermill": {
     "duration": 0.138253,
     "end_time": "2023-03-11T02:03:31.215469",
     "exception": false,
     "start_time": "2023-03-11T02:03:31.077216",
     "status": "completed"
    },
    "tags": []
   },
   "outputs": [],
   "source": [
    "for col1 in ['epared1', 'epared2', 'epared3']:\n",
    "    for col2 in ['etecho1', 'etecho2', 'etecho3']:\n",
    "        for col3 in ['eviv1', 'eviv2', 'eviv3']:\n",
    "            new_col_name = 'new_{}_x_{}_x_{}'.format(col1, col2, col3)\n",
    "            df_train[new_col_name] = df_train[col1] * df_train[col2] * df_train[col3]\n",
    "            df_test[new_col_name] = df_test[col1] * df_test[col2] * df_train[col3]"
   ]
  },
  {
   "cell_type": "code",
   "execution_count": 67,
   "id": "7f8dea77",
   "metadata": {
    "execution": {
     "iopub.execute_input": "2023-03-11T02:03:31.289587Z",
     "iopub.status.busy": "2023-03-11T02:03:31.289149Z",
     "iopub.status.idle": "2023-03-11T02:03:31.295712Z",
     "shell.execute_reply": "2023-03-11T02:03:31.294234Z"
    },
    "papermill": {
     "duration": 0.046883,
     "end_time": "2023-03-11T02:03:31.298957",
     "exception": false,
     "start_time": "2023-03-11T02:03:31.252074",
     "status": "completed"
    },
    "tags": []
   },
   "outputs": [
    {
     "name": "stdout",
     "output_type": "stream",
     "text": [
      "(9557, 307) (23856, 306)\n"
     ]
    }
   ],
   "source": [
    "print(df_train.shape, df_test.shape)"
   ]
  },
  {
   "cell_type": "markdown",
   "id": "7e0d2dc8",
   "metadata": {
    "papermill": {
     "duration": 0.035599,
     "end_time": "2023-03-11T02:03:31.371576",
     "exception": false,
     "start_time": "2023-03-11T02:03:31.335977",
     "status": "completed"
    },
    "tags": []
   },
   "source": [
    "mix electricity and energy features -> energy features"
   ]
  },
  {
   "cell_type": "code",
   "execution_count": 68,
   "id": "5c6617c3",
   "metadata": {
    "execution": {
     "iopub.execute_input": "2023-03-11T02:03:31.450865Z",
     "iopub.status.busy": "2023-03-11T02:03:31.449859Z",
     "iopub.status.idle": "2023-03-11T02:03:31.491229Z",
     "shell.execute_reply": "2023-03-11T02:03:31.489329Z"
    },
    "papermill": {
     "duration": 0.085583,
     "end_time": "2023-03-11T02:03:31.494709",
     "exception": false,
     "start_time": "2023-03-11T02:03:31.409126",
     "status": "completed"
    },
    "tags": []
   },
   "outputs": [],
   "source": [
    "for col1 in ['public', 'planpri', 'noelec', 'coopele']:\n",
    "    for col2 in ['energcocinar1', 'energcocinar2', 'energcocinar3', 'energcocinar4']:\n",
    "        new_col_name = 'new_{}_x_{}'.format(col1, col2)\n",
    "        df_train[new_col_name] = df_train[col1] * df_train[col2]\n",
    "        df_test[new_col_name] = df_test[col1] * df_test[col2]"
   ]
  },
  {
   "cell_type": "markdown",
   "id": "553f6fb4",
   "metadata": {
    "papermill": {
     "duration": 0.036613,
     "end_time": "2023-03-11T02:03:31.566893",
     "exception": false,
     "start_time": "2023-03-11T02:03:31.530280",
     "status": "completed"
    },
    "tags": []
   },
   "source": [
    "mix toilet and rubbish disposal features -> other_infra features"
   ]
  },
  {
   "cell_type": "code",
   "execution_count": 69,
   "id": "325a4330",
   "metadata": {
    "execution": {
     "iopub.execute_input": "2023-03-11T02:03:31.642681Z",
     "iopub.status.busy": "2023-03-11T02:03:31.642208Z",
     "iopub.status.idle": "2023-03-11T02:03:31.707276Z",
     "shell.execute_reply": "2023-03-11T02:03:31.705808Z"
    },
    "papermill": {
     "duration": 0.106815,
     "end_time": "2023-03-11T02:03:31.710486",
     "exception": false,
     "start_time": "2023-03-11T02:03:31.603671",
     "status": "completed"
    },
    "tags": []
   },
   "outputs": [],
   "source": [
    "for col1 in ['sanitario1', 'sanitario2', 'sanitario3', 'sanitario5', 'sanitario6']:\n",
    "    for col2 in ['elimbasu1', 'elimbasu2', 'elimbasu3', 'elimbasu4', 'elimbasu5', 'elimbasu6']:\n",
    "        new_col_name = 'new_{}_x_{}'.format(col1, col2)\n",
    "        df_train[new_col_name] = df_train[col1] * df_train[col2]\n",
    "        df_test[new_col_name] = df_test[col1] * df_test[col2]"
   ]
  },
  {
   "cell_type": "markdown",
   "id": "75f86fd5",
   "metadata": {
    "papermill": {
     "duration": 0.03691,
     "end_time": "2023-03-11T02:03:31.783926",
     "exception": false,
     "start_time": "2023-03-11T02:03:31.747016",
     "status": "completed"
    },
    "tags": []
   },
   "source": [
    "mix toilet and water provision features -> water features"
   ]
  },
  {
   "cell_type": "code",
   "execution_count": 70,
   "id": "097a6056",
   "metadata": {
    "execution": {
     "iopub.execute_input": "2023-03-11T02:03:31.857431Z",
     "iopub.status.busy": "2023-03-11T02:03:31.856951Z",
     "iopub.status.idle": "2023-03-11T02:03:31.890238Z",
     "shell.execute_reply": "2023-03-11T02:03:31.888691Z"
    },
    "papermill": {
     "duration": 0.074012,
     "end_time": "2023-03-11T02:03:31.893541",
     "exception": false,
     "start_time": "2023-03-11T02:03:31.819529",
     "status": "completed"
    },
    "tags": []
   },
   "outputs": [],
   "source": [
    "for col1 in ['abastaguadentro', 'abastaguafuera', 'abastaguano']:\n",
    "    for col2 in ['sanitario1', 'sanitario2', 'sanitario3', 'sanitario5', 'sanitario6']:\n",
    "        new_col_name = 'new_{}_x_{}'.format(col1, col2)\n",
    "        df_train[new_col_name] = df_train[col1] * df_train[col2]\n",
    "        df_test[new_col_name] = df_test[col1] * df_test[col2]"
   ]
  },
  {
   "cell_type": "code",
   "execution_count": 71,
   "id": "8db86551",
   "metadata": {
    "execution": {
     "iopub.execute_input": "2023-03-11T02:03:31.968717Z",
     "iopub.status.busy": "2023-03-11T02:03:31.968236Z",
     "iopub.status.idle": "2023-03-11T02:03:31.974439Z",
     "shell.execute_reply": "2023-03-11T02:03:31.973082Z"
    },
    "papermill": {
     "duration": 0.047756,
     "end_time": "2023-03-11T02:03:31.977702",
     "exception": false,
     "start_time": "2023-03-11T02:03:31.929946",
     "status": "completed"
    },
    "tags": []
   },
   "outputs": [
    {
     "name": "stdout",
     "output_type": "stream",
     "text": [
      "(9557, 368) (23856, 367)\n"
     ]
    }
   ],
   "source": [
    "print(df_train.shape, df_test.shape)"
   ]
  },
  {
   "cell_type": "markdown",
   "id": "7390d0cc",
   "metadata": {
    "papermill": {
     "duration": 0.036019,
     "end_time": "2023-03-11T02:03:32.049322",
     "exception": false,
     "start_time": "2023-03-11T02:03:32.013303",
     "status": "completed"
    },
    "tags": []
   },
   "source": [
    "mix education and area features -> education_zone_features"
   ]
  },
  {
   "cell_type": "code",
   "execution_count": 72,
   "id": "ee8b05a7",
   "metadata": {
    "execution": {
     "iopub.execute_input": "2023-03-11T02:03:32.124592Z",
     "iopub.status.busy": "2023-03-11T02:03:32.124115Z",
     "iopub.status.idle": "2023-03-11T02:03:32.166398Z",
     "shell.execute_reply": "2023-03-11T02:03:32.165308Z"
    },
    "papermill": {
     "duration": 0.083904,
     "end_time": "2023-03-11T02:03:32.169329",
     "exception": false,
     "start_time": "2023-03-11T02:03:32.085425",
     "status": "completed"
    },
    "tags": []
   },
   "outputs": [],
   "source": [
    "for col1 in ['area1', 'area2']:\n",
    "    for col2 in ['instlevel1', 'instlevel2', 'instlevel3', 'instlevel4', 'instlevel5', 'instlevel6', 'instlevel7', 'instlevel8', 'instlevel9']:\n",
    "        new_col_name = 'new_{}_x_{}'.format(col1, col2)\n",
    "        df_train[new_col_name] = df_train[col1] * df_train[col2]\n",
    "        df_test[new_col_name] = df_test[col1] * df_test[col2]"
   ]
  },
  {
   "cell_type": "markdown",
   "id": "6e969330",
   "metadata": {
    "papermill": {
     "duration": 0.03635,
     "end_time": "2023-03-11T02:03:32.243482",
     "exception": false,
     "start_time": "2023-03-11T02:03:32.207132",
     "status": "completed"
    },
    "tags": []
   },
   "source": [
    "- Mix region and education"
   ]
  },
  {
   "cell_type": "code",
   "execution_count": 73,
   "id": "0b8411b0",
   "metadata": {
    "execution": {
     "iopub.execute_input": "2023-03-11T02:03:32.316889Z",
     "iopub.status.busy": "2023-03-11T02:03:32.316065Z",
     "iopub.status.idle": "2023-03-11T02:03:32.415681Z",
     "shell.execute_reply": "2023-03-11T02:03:32.414710Z"
    },
    "papermill": {
     "duration": 0.139709,
     "end_time": "2023-03-11T02:03:32.418622",
     "exception": false,
     "start_time": "2023-03-11T02:03:32.278913",
     "status": "completed"
    },
    "tags": []
   },
   "outputs": [],
   "source": [
    "for col1 in ['lugar1', 'lugar2', 'lugar3', 'lugar4', 'lugar5', 'lugar6']:\n",
    "    for col2 in ['instlevel1', 'instlevel2', 'instlevel3', 'instlevel4', 'instlevel5', 'instlevel6', 'instlevel7', 'instlevel8', 'instlevel9']:\n",
    "        new_col_name = 'new_{}_x_{}'.format(col1, col2)\n",
    "        df_train[new_col_name] = df_train[col1] * df_train[col2]\n",
    "        df_test[new_col_name] = df_test[col1] * df_test[col2]"
   ]
  },
  {
   "cell_type": "code",
   "execution_count": 74,
   "id": "3646bfd3",
   "metadata": {
    "execution": {
     "iopub.execute_input": "2023-03-11T02:03:32.494991Z",
     "iopub.status.busy": "2023-03-11T02:03:32.494157Z",
     "iopub.status.idle": "2023-03-11T02:03:32.500196Z",
     "shell.execute_reply": "2023-03-11T02:03:32.499139Z"
    },
    "papermill": {
     "duration": 0.047514,
     "end_time": "2023-03-11T02:03:32.503567",
     "exception": false,
     "start_time": "2023-03-11T02:03:32.456053",
     "status": "completed"
    },
    "tags": []
   },
   "outputs": [
    {
     "name": "stdout",
     "output_type": "stream",
     "text": [
      "(9557, 440) (23856, 439)\n"
     ]
    }
   ],
   "source": [
    "print(df_train.shape, df_test.shape)"
   ]
  },
  {
   "cell_type": "markdown",
   "id": "b8a43421",
   "metadata": {
    "papermill": {
     "duration": 0.036027,
     "end_time": "2023-03-11T02:03:32.577295",
     "exception": false,
     "start_time": "2023-03-11T02:03:32.541268",
     "status": "completed"
    },
    "tags": []
   },
   "source": [
    "#### Remove feature with only one value"
   ]
  },
  {
   "cell_type": "code",
   "execution_count": 75,
   "id": "1e7bfc49",
   "metadata": {
    "execution": {
     "iopub.execute_input": "2023-03-11T02:03:32.652734Z",
     "iopub.status.busy": "2023-03-11T02:03:32.651832Z",
     "iopub.status.idle": "2023-03-11T02:03:33.133279Z",
     "shell.execute_reply": "2023-03-11T02:03:33.131449Z"
    },
    "papermill": {
     "duration": 0.523742,
     "end_time": "2023-03-11T02:03:33.137258",
     "exception": false,
     "start_time": "2023-03-11T02:03:32.613516",
     "status": "completed"
    },
    "tags": []
   },
   "outputs": [
    {
     "name": "stdout",
     "output_type": "stream",
     "text": [
      "elimbasu5\n",
      "new_planpri_x_energcocinar1\n",
      "new_planpri_x_energcocinar2\n",
      "new_planpri_x_energcocinar3\n",
      "new_planpri_x_energcocinar4\n",
      "new_noelec_x_energcocinar2\n",
      "new_sanitario1_x_elimbasu4\n",
      "new_sanitario1_x_elimbasu5\n",
      "new_sanitario1_x_elimbasu6\n",
      "new_sanitario2_x_elimbasu4\n",
      "new_sanitario2_x_elimbasu5\n",
      "new_sanitario2_x_elimbasu6\n",
      "new_sanitario3_x_elimbasu5\n",
      "new_sanitario5_x_elimbasu4\n",
      "new_sanitario5_x_elimbasu5\n",
      "new_sanitario5_x_elimbasu6\n",
      "new_sanitario6_x_elimbasu2\n",
      "new_sanitario6_x_elimbasu4\n",
      "new_sanitario6_x_elimbasu5\n",
      "new_sanitario6_x_elimbasu6\n",
      "new_abastaguafuera_x_sanitario6\n",
      "new_abastaguano_x_sanitario2\n",
      "new_abastaguano_x_sanitario6\n"
     ]
    }
   ],
   "source": [
    "cols_with_only_one_value = []\n",
    "for col in df_train.columns:\n",
    "    if col == 'Target':\n",
    "        continue\n",
    "    if df_train[col].value_counts().shape[0] == 1 or df_test[col].value_counts().shape[0] == 1:\n",
    "        print(col)\n",
    "        cols_with_only_one_value.append(col)"
   ]
  },
  {
   "cell_type": "markdown",
   "id": "3b2ec593",
   "metadata": {
    "papermill": {
     "duration": 0.035505,
     "end_time": "2023-03-11T02:03:33.210149",
     "exception": false,
     "start_time": "2023-03-11T02:03:33.174644",
     "status": "completed"
    },
    "tags": []
   },
   "source": [
    "- remove them!"
   ]
  },
  {
   "cell_type": "code",
   "execution_count": 76,
   "id": "8fcd869e",
   "metadata": {
    "execution": {
     "iopub.execute_input": "2023-03-11T02:03:33.286013Z",
     "iopub.status.busy": "2023-03-11T02:03:33.285580Z",
     "iopub.status.idle": "2023-03-11T02:03:33.504506Z",
     "shell.execute_reply": "2023-03-11T02:03:33.502965Z"
    },
    "papermill": {
     "duration": 0.261496,
     "end_time": "2023-03-11T02:03:33.508097",
     "exception": false,
     "start_time": "2023-03-11T02:03:33.246601",
     "status": "completed"
    },
    "tags": []
   },
   "outputs": [],
   "source": [
    "df_train.drop(cols_with_only_one_value, axis=1, inplace=True)\n",
    "df_test.drop(cols_with_only_one_value, axis=1, inplace=True)"
   ]
  },
  {
   "cell_type": "markdown",
   "id": "72e882f3",
   "metadata": {
    "papermill": {
     "duration": 0.035773,
     "end_time": "2023-03-11T02:03:33.582184",
     "exception": false,
     "start_time": "2023-03-11T02:03:33.546411",
     "status": "completed"
    },
    "tags": []
   },
   "source": [
    "#### Check whether both rain and test have same features"
   ]
  },
  {
   "cell_type": "code",
   "execution_count": 77,
   "id": "d2ef2033",
   "metadata": {
    "execution": {
     "iopub.execute_input": "2023-03-11T02:03:33.657881Z",
     "iopub.status.busy": "2023-03-11T02:03:33.657391Z",
     "iopub.status.idle": "2023-03-11T02:03:33.663935Z",
     "shell.execute_reply": "2023-03-11T02:03:33.662965Z"
    },
    "papermill": {
     "duration": 0.048035,
     "end_time": "2023-03-11T02:03:33.666262",
     "exception": false,
     "start_time": "2023-03-11T02:03:33.618227",
     "status": "completed"
    },
    "tags": []
   },
   "outputs": [],
   "source": [
    "cols_train = np.array(sorted([col for col in df_train.columns if col != 'Target']))\n",
    "cols_test = np.array(sorted(df_test.columns))"
   ]
  },
  {
   "cell_type": "code",
   "execution_count": 78,
   "id": "6c17be22",
   "metadata": {
    "execution": {
     "iopub.execute_input": "2023-03-11T02:03:33.740233Z",
     "iopub.status.busy": "2023-03-11T02:03:33.739751Z",
     "iopub.status.idle": "2023-03-11T02:03:33.747629Z",
     "shell.execute_reply": "2023-03-11T02:03:33.746568Z"
    },
    "papermill": {
     "duration": 0.047854,
     "end_time": "2023-03-11T02:03:33.750257",
     "exception": false,
     "start_time": "2023-03-11T02:03:33.702403",
     "status": "completed"
    },
    "tags": []
   },
   "outputs": [
    {
     "data": {
      "text/plain": [
       "True"
      ]
     },
     "execution_count": 78,
     "metadata": {},
     "output_type": "execute_result"
    }
   ],
   "source": [
    "(cols_train == cols_test).sum() == len(cols_train)"
   ]
  },
  {
   "cell_type": "markdown",
   "id": "afc69e9c",
   "metadata": {
    "papermill": {
     "duration": 0.035319,
     "end_time": "2023-03-11T02:03:33.822287",
     "exception": false,
     "start_time": "2023-03-11T02:03:33.786968",
     "status": "completed"
    },
    "tags": []
   },
   "source": [
    "#### 2.4 aggregation features"
   ]
  },
  {
   "cell_type": "code",
   "execution_count": 79,
   "id": "116f9544",
   "metadata": {
    "execution": {
     "iopub.execute_input": "2023-03-11T02:03:33.895683Z",
     "iopub.status.busy": "2023-03-11T02:03:33.895194Z",
     "iopub.status.idle": "2023-03-11T02:03:33.900291Z",
     "shell.execute_reply": "2023-03-11T02:03:33.899277Z"
    },
    "papermill": {
     "duration": 0.044964,
     "end_time": "2023-03-11T02:03:33.902799",
     "exception": false,
     "start_time": "2023-03-11T02:03:33.857835",
     "status": "completed"
    },
    "tags": []
   },
   "outputs": [],
   "source": [
    "def max_min(x):\n",
    "    return x.max() - x.min()"
   ]
  },
  {
   "cell_type": "code",
   "execution_count": 80,
   "id": "c6735d18",
   "metadata": {
    "execution": {
     "iopub.execute_input": "2023-03-11T02:03:33.977872Z",
     "iopub.status.busy": "2023-03-11T02:03:33.977367Z",
     "iopub.status.idle": "2023-03-11T02:03:49.789012Z",
     "shell.execute_reply": "2023-03-11T02:03:49.787165Z"
    },
    "papermill": {
     "duration": 15.854942,
     "end_time": "2023-03-11T02:03:49.793813",
     "exception": false,
     "start_time": "2023-03-11T02:03:33.938871",
     "status": "completed"
    },
    "tags": []
   },
   "outputs": [
    {
     "name": "stderr",
     "output_type": "stream",
     "text": [
      "100%|██████████| 15/15 [00:15<00:00,  1.05s/it]"
     ]
    },
    {
     "name": "stdout",
     "output_type": "stream",
     "text": [
      "new aggregate train set has 2988 rows, and 105 features\n",
      "new aggregate test set has 7352 rows, and 105 features\n"
     ]
    },
    {
     "name": "stderr",
     "output_type": "stream",
     "text": [
      "\n"
     ]
    }
   ],
   "source": [
    "agg_train = pd.DataFrame()\n",
    "agg_test = pd.DataFrame()\n",
    "\n",
    "for item in tqdm(family_size_features):\n",
    "    for i, function in enumerate(['mean', 'std', 'min', 'max', 'sum', 'count', max_min]):\n",
    "        group_train = df_train[item].groupby(df_train['idhogar']).agg(function)\n",
    "        group_test = df_test[item].groupby(df_test['idhogar']).agg(function)\n",
    "        if i == 6:\n",
    "            new_col = item + '_new_' + 'max_min'\n",
    "        else:\n",
    "            new_col = item + '_new_' + function\n",
    "        agg_train[new_col] = group_train\n",
    "        agg_test[new_col] = group_test\n",
    "        \n",
    "print('new aggregate train set has {} rows, and {} features'.format(agg_train.shape[0], agg_train.shape[1]))\n",
    "print('new aggregate test set has {} rows, and {} features'.format(agg_test.shape[0], agg_test.shape[1]))"
   ]
  },
  {
   "cell_type": "code",
   "execution_count": 81,
   "id": "8f08ffa2",
   "metadata": {
    "execution": {
     "iopub.execute_input": "2023-03-11T02:03:49.873597Z",
     "iopub.status.busy": "2023-03-11T02:03:49.873146Z",
     "iopub.status.idle": "2023-03-11T02:03:51.425442Z",
     "shell.execute_reply": "2023-03-11T02:03:51.423533Z"
    },
    "papermill": {
     "duration": 1.597107,
     "end_time": "2023-03-11T02:03:51.429516",
     "exception": false,
     "start_time": "2023-03-11T02:03:49.832409",
     "status": "completed"
    },
    "tags": []
   },
   "outputs": [
    {
     "name": "stderr",
     "output_type": "stream",
     "text": [
      "100%|██████████| 47/47 [00:01<00:00, 30.65it/s]"
     ]
    },
    {
     "name": "stdout",
     "output_type": "stream",
     "text": [
      "new aggregate train set has 2988 rows, and 199 features\n",
      "new aggregate test set has 7352 rows, and 199 features\n"
     ]
    },
    {
     "name": "stderr",
     "output_type": "stream",
     "text": [
      "\n"
     ]
    }
   ],
   "source": [
    "aggr_list = ['rez_esc', 'dis', 'male', 'female', \n",
    "              'estadocivil1', 'estadocivil2', 'estadocivil3', 'estadocivil4', 'estadocivil5', 'estadocivil6', 'estadocivil7', \n",
    "              'parentesco2', 'parentesco3', 'parentesco4', 'parentesco5', 'parentesco6', 'parentesco7', 'parentesco8', 'parentesco9', 'parentesco10', \n",
    "              'parentesco11', 'parentesco12',\n",
    "              'instlevel1', 'instlevel2', 'instlevel3', 'instlevel4', 'instlevel5', 'instlevel6', 'instlevel7', 'instlevel8', 'instlevel9',\n",
    "             'epared1', 'epared2', 'epared3', 'etecho1', 'etecho2', 'etecho3', 'eviv1', 'eviv2', 'eviv3', 'refrig', 'television', 'mobilephone',\n",
    "             'area1', 'area2', 'v18q', 'edjef']\n",
    "for item in tqdm(aggr_list):\n",
    "    for function in ['count', 'sum']:\n",
    "        group_train = df_train[item].groupby(df_train['idhogar']).agg(function)\n",
    "        group_test = df_test[item].groupby(df_test['idhogar']).agg(function)\n",
    "        new_col = item + '_new1_' + function\n",
    "        agg_train[new_col] = group_train\n",
    "        agg_test[new_col] = group_test\n",
    "print('new aggregate train set has {} rows, and {} features'.format(agg_train.shape[0], agg_train.shape[1]))\n",
    "print('new aggregate test set has {} rows, and {} features'.format(agg_test.shape[0], agg_test.shape[1]))"
   ]
  },
  {
   "cell_type": "code",
   "execution_count": 82,
   "id": "329fc35a",
   "metadata": {
    "execution": {
     "iopub.execute_input": "2023-03-11T02:03:51.514876Z",
     "iopub.status.busy": "2023-03-11T02:03:51.513317Z",
     "iopub.status.idle": "2023-03-11T02:04:01.684173Z",
     "shell.execute_reply": "2023-03-11T02:04:01.682844Z"
    },
    "papermill": {
     "duration": 10.22052,
     "end_time": "2023-03-11T02:04:01.689943",
     "exception": false,
     "start_time": "2023-03-11T02:03:51.469423",
     "status": "completed"
    },
    "tags": []
   },
   "outputs": [
    {
     "name": "stderr",
     "output_type": "stream",
     "text": [
      "100%|██████████| 9/9 [00:10<00:00,  1.13s/it]"
     ]
    },
    {
     "name": "stdout",
     "output_type": "stream",
     "text": [
      "new aggregate train set has 2988 rows, and 208 features\n",
      "new aggregate test set has 7352 rows, and 208 features\n"
     ]
    },
    {
     "name": "stderr",
     "output_type": "stream",
     "text": [
      "\n"
     ]
    }
   ],
   "source": [
    "aggr_list = ['escolari', 'age', 'escolari_age', 'dependency', 'bedrooms', 'overcrowding', 'rooms', 'qmobilephone', 'v18q1']\n",
    "\n",
    "for item in tqdm(aggr_list):\n",
    "    for function in ['mean','std','min','max','sum', 'count', max_min]:\n",
    "        group_train = df_train[item].groupby(df_train['idhogar']).agg(function)\n",
    "        group_test = df_test[item].groupby(df_test['idhogar']).agg(function)\n",
    "        if i == 6:\n",
    "            new_col = item + '_new2_' + 'max_min'\n",
    "        else:\n",
    "            new_col = item + '_new2_' + function\n",
    "        agg_train[new_col] = group_train\n",
    "        agg_test[new_col] = group_test\n",
    "\n",
    "print('new aggregate train set has {} rows, and {} features'.format(agg_train.shape[0], agg_train.shape[1]))\n",
    "print('new aggregate test set has {} rows, and {} features'.format(agg_test.shape[0], agg_test.shape[1]))"
   ]
  },
  {
   "cell_type": "code",
   "execution_count": 83,
   "id": "d0154c34",
   "metadata": {
    "execution": {
     "iopub.execute_input": "2023-03-11T02:04:01.771023Z",
     "iopub.status.busy": "2023-03-11T02:04:01.770575Z",
     "iopub.status.idle": "2023-03-11T02:04:03.083437Z",
     "shell.execute_reply": "2023-03-11T02:04:03.081737Z"
    },
    "papermill": {
     "duration": 1.357986,
     "end_time": "2023-03-11T02:04:03.087940",
     "exception": false,
     "start_time": "2023-03-11T02:04:01.729954",
     "status": "completed"
    },
    "tags": []
   },
   "outputs": [
    {
     "name": "stdout",
     "output_type": "stream",
     "text": [
      "train shape: (9557, 625) test shape: (23856, 624)\n"
     ]
    }
   ],
   "source": [
    "agg_test = agg_test.reset_index()\n",
    "agg_train = agg_train.reset_index()\n",
    "\n",
    "train_agg = pd.merge(df_train, agg_train, on='idhogar')\n",
    "test = pd.merge(df_test, agg_test, on='idhogar')\n",
    "\n",
    "#fill all na as 0\n",
    "train_agg.fillna(value=0, inplace=True)\n",
    "test.fillna(value=0, inplace=True)\n",
    "\n",
    "print('train shape:', train_agg.shape, 'test shape:', test.shape)"
   ]
  },
  {
   "cell_type": "code",
   "execution_count": 84,
   "id": "5cf16a10",
   "metadata": {
    "execution": {
     "iopub.execute_input": "2023-03-11T02:04:03.169582Z",
     "iopub.status.busy": "2023-03-11T02:04:03.169098Z",
     "iopub.status.idle": "2023-03-11T02:04:07.001302Z",
     "shell.execute_reply": "2023-03-11T02:04:06.998477Z"
    },
    "papermill": {
     "duration": 3.878012,
     "end_time": "2023-03-11T02:04:07.006410",
     "exception": false,
     "start_time": "2023-03-11T02:04:03.128398",
     "status": "completed"
    },
    "tags": []
   },
   "outputs": [
    {
     "name": "stdout",
     "output_type": "stream",
     "text": [
      "train shape: (9557, 907) test shape: (23856, 906)\n"
     ]
    }
   ],
   "source": [
    "aggr_list = ['rez_esc', 'dis', 'male', 'female', \n",
    "                  'estadocivil1', 'estadocivil2', 'estadocivil3', 'estadocivil4', 'estadocivil5', 'estadocivil6', 'estadocivil7', \n",
    "                  'parentesco2', 'parentesco3', 'parentesco4', 'parentesco5', 'parentesco6', 'parentesco7', 'parentesco8', 'parentesco9', 'parentesco10', \n",
    "                  'parentesco11', 'parentesco12',\n",
    "                  'instlevel1', 'instlevel2', 'instlevel3', 'instlevel4', 'instlevel5', 'instlevel6', 'instlevel7', 'instlevel8', 'instlevel9',\n",
    "                 'epared1', 'epared2', 'epared3', 'etecho1', 'etecho2', 'etecho3', 'eviv1', 'eviv2', 'eviv3', 'refrig', 'television', 'mobilephone',\n",
    "            'area1', 'area2', 'v18q', 'edjef']\n",
    "    \n",
    "for lugar in ['lugar1', 'lugar2', 'lugar3', 'lugar4', 'lugar5', 'lugar6']:\n",
    "    group_train = df_train[[lugar, 'idhogar'] + aggr_list].groupby([lugar, 'idhogar']).sum().reset_index()\n",
    "    group_train.columns = [lugar, 'idhogar'] + ['new3_{}_idhogar_{}'.format(lugar, col) for col in group_train][2:]\n",
    "\n",
    "    group_test = df_test[[lugar, 'idhogar'] + aggr_list].groupby([lugar, 'idhogar']).sum().reset_index()\n",
    "    group_test.columns = [lugar, 'idhogar'] + ['new3_{}_idhogar_{}'.format(lugar, col) for col in group_test][2:]\n",
    "\n",
    "    train_agg = pd.merge(train_agg, group_train, on=[lugar, 'idhogar'])\n",
    "    test = pd.merge(test, group_test, on=[lugar, 'idhogar'])\n",
    "    \n",
    "print('train shape:', train_agg.shape, 'test shape:', test.shape)"
   ]
  },
  {
   "cell_type": "code",
   "execution_count": 85,
   "id": "beadaf8d",
   "metadata": {
    "execution": {
     "iopub.execute_input": "2023-03-11T02:04:07.095308Z",
     "iopub.status.busy": "2023-03-11T02:04:07.094795Z",
     "iopub.status.idle": "2023-03-11T02:04:08.498895Z",
     "shell.execute_reply": "2023-03-11T02:04:08.496932Z"
    },
    "papermill": {
     "duration": 1.45319,
     "end_time": "2023-03-11T02:04:08.502270",
     "exception": false,
     "start_time": "2023-03-11T02:04:07.049080",
     "status": "completed"
    },
    "tags": []
   },
   "outputs": [
    {
     "name": "stdout",
     "output_type": "stream",
     "text": [
      "train shape: (9557, 1189) test shape: (23856, 1188)\n"
     ]
    }
   ],
   "source": [
    "aggr_list = ['rez_esc', 'dis', 'male', 'female', \n",
    "                  'estadocivil1', 'estadocivil2', 'estadocivil3', 'estadocivil4', 'estadocivil5', 'estadocivil6', 'estadocivil7', \n",
    "                  'parentesco2', 'parentesco3', 'parentesco4', 'parentesco5', 'parentesco6', 'parentesco7', 'parentesco8', 'parentesco9', 'parentesco10', \n",
    "                  'parentesco11', 'parentesco12',\n",
    "                  'instlevel1', 'instlevel2', 'instlevel3', 'instlevel4', 'instlevel5', 'instlevel6', 'instlevel7', 'instlevel8', 'instlevel9',\n",
    "                 'epared1', 'epared2', 'epared3', 'etecho1', 'etecho2', 'etecho3', 'eviv1', 'eviv2', 'eviv3', 'refrig', 'television', 'mobilephone',\n",
    "            'area1', 'area2', 'v18q', 'edjef']\n",
    "    \n",
    "for lugar in ['lugar1', 'lugar2', 'lugar3', 'lugar4', 'lugar5', 'lugar6']:\n",
    "    group_train = df_train[[lugar, 'idhogar'] + aggr_list].groupby([lugar, 'idhogar']).sum().reset_index()\n",
    "    group_train.columns = [lugar, 'idhogar'] + ['new4_{}_idhogar_{}'.format(lugar, col) for col in group_train][2:]\n",
    "\n",
    "    group_test = df_test[[lugar, 'idhogar'] + aggr_list].groupby([lugar, 'idhogar']).sum().reset_index()\n",
    "    group_test.columns = [lugar, 'idhogar'] + ['new4_{}_idhogar_{}'.format(lugar, col) for col in group_test][2:]\n",
    "\n",
    "    train_agg = pd.merge(train_agg, group_train, on=[lugar, 'idhogar'])\n",
    "    test = pd.merge(test, group_test, on=[lugar, 'idhogar'])\n",
    "    \n",
    "print('train shape:', train_agg.shape, 'test shape:', test.shape)"
   ]
  },
  {
   "cell_type": "code",
   "execution_count": 86,
   "id": "d0e79fde",
   "metadata": {
    "execution": {
     "iopub.execute_input": "2023-03-11T02:04:08.584711Z",
     "iopub.status.busy": "2023-03-11T02:04:08.584210Z",
     "iopub.status.idle": "2023-03-11T02:08:49.110091Z",
     "shell.execute_reply": "2023-03-11T02:08:49.108588Z"
    },
    "papermill": {
     "duration": 280.613757,
     "end_time": "2023-03-11T02:08:49.156176",
     "exception": false,
     "start_time": "2023-03-11T02:04:08.542419",
     "status": "completed"
    },
    "tags": []
   },
   "outputs": [
    {
     "name": "stderr",
     "output_type": "stream",
     "text": [
      "100%|██████████| 7/7 [04:40<00:00, 40.07s/it]"
     ]
    },
    {
     "name": "stdout",
     "output_type": "stream",
     "text": [
      "train shape: (9557, 3163) test shape: (23856, 3162)\n"
     ]
    },
    {
     "name": "stderr",
     "output_type": "stream",
     "text": [
      "\n"
     ]
    }
   ],
   "source": [
    "cols_nums = ['age', 'meaneduc', 'dependency', \n",
    "             'hogar_nin', 'hogar_adul', 'hogar_mayor', 'hogar_total',\n",
    "             'bedrooms', 'overcrowding']\n",
    "\n",
    "for function in tqdm(['mean','std','min','max','sum', 'count', max_min]):\n",
    "    for lugar in ['lugar1', 'lugar2', 'lugar3', 'lugar4', 'lugar5', 'lugar6']:\n",
    "        group_train = df_train[[lugar, 'idhogar'] + aggr_list].groupby([lugar, 'idhogar']).agg(function).reset_index()\n",
    "        group_train.columns = [lugar, 'idhogar'] + ['new5_{}_idhogar_{}_{}'.format(lugar, col, function) for col in group_train][2:]\n",
    "\n",
    "        group_test = df_test[[lugar, 'idhogar'] + aggr_list].groupby([lugar, 'idhogar']).agg(function).reset_index()\n",
    "        group_test.columns = [lugar, 'idhogar'] + ['new5_{}_idhogar_{}_{}'.format(lugar, col, function) for col in group_test][2:]\n",
    "\n",
    "        train_agg = pd.merge(train_agg, group_train, on=[lugar, 'idhogar'])\n",
    "        test = pd.merge(test, group_test, on=[lugar, 'idhogar'])\n",
    "        \n",
    "print('train shape:', train_agg.shape, 'test shape:', test.shape)"
   ]
  },
  {
   "cell_type": "markdown",
   "id": "c9005cc6",
   "metadata": {
    "papermill": {
     "duration": 0.039947,
     "end_time": "2023-03-11T02:08:49.236361",
     "exception": false,
     "start_time": "2023-03-11T02:08:49.196414",
     "status": "completed"
    },
    "tags": []
   },
   "source": [
    "왜안되지 ??"
   ]
  },
  {
   "cell_type": "code",
   "execution_count": 87,
   "id": "7a241adb",
   "metadata": {
    "execution": {
     "iopub.execute_input": "2023-03-11T02:08:49.325805Z",
     "iopub.status.busy": "2023-03-11T02:08:49.324868Z",
     "iopub.status.idle": "2023-03-11T02:08:50.170970Z",
     "shell.execute_reply": "2023-03-11T02:08:50.169252Z"
    },
    "papermill": {
     "duration": 0.893737,
     "end_time": "2023-03-11T02:08:50.174331",
     "exception": false,
     "start_time": "2023-03-11T02:08:49.280594",
     "status": "completed"
    },
    "tags": []
   },
   "outputs": [],
   "source": [
    "train = train_agg.query('parentesco1==1')"
   ]
  },
  {
   "cell_type": "markdown",
   "id": "650cfe67",
   "metadata": {
    "papermill": {
     "duration": 0.042265,
     "end_time": "2023-03-11T02:08:50.258681",
     "exception": false,
     "start_time": "2023-03-11T02:08:50.216416",
     "status": "completed"
    },
    "tags": []
   },
   "source": [
    "**Q.query란 ??**"
   ]
  },
  {
   "cell_type": "code",
   "execution_count": 88,
   "id": "24a628a5",
   "metadata": {
    "execution": {
     "iopub.execute_input": "2023-03-11T02:08:50.344372Z",
     "iopub.status.busy": "2023-03-11T02:08:50.343844Z",
     "iopub.status.idle": "2023-03-11T02:08:50.353407Z",
     "shell.execute_reply": "2023-03-11T02:08:50.352016Z"
    },
    "papermill": {
     "duration": 0.057056,
     "end_time": "2023-03-11T02:08:50.357067",
     "exception": false,
     "start_time": "2023-03-11T02:08:50.300011",
     "status": "completed"
    },
    "tags": []
   },
   "outputs": [],
   "source": [
    "train['dependency'].replace(np.inf, 0, inplace=True)\n",
    "test['dependency'].replace(np.inf, 0, inplace=True)"
   ]
  },
  {
   "cell_type": "code",
   "execution_count": 89,
   "id": "8c82eaec",
   "metadata": {
    "execution": {
     "iopub.execute_input": "2023-03-11T02:08:50.442081Z",
     "iopub.status.busy": "2023-03-11T02:08:50.440810Z",
     "iopub.status.idle": "2023-03-11T02:10:10.803346Z",
     "shell.execute_reply": "2023-03-11T02:10:10.801705Z"
    },
    "papermill": {
     "duration": 80.409468,
     "end_time": "2023-03-11T02:10:10.807013",
     "exception": false,
     "start_time": "2023-03-11T02:08:50.397545",
     "status": "completed"
    },
    "tags": []
   },
   "outputs": [],
   "source": [
    "submission = test[['Id']]\n",
    "\n",
    "#Remove useless feature to reduce dimension\n",
    "train.drop(columns=['idhogar','Id', 'agesq', 'hogar_adul', 'SQBescolari', 'SQBage', 'SQBhogar_total', 'SQBedjefe', 'SQBhogar_nin', 'SQBovercrowding', 'SQBdependency', 'SQBmeaned'], inplace=True)\n",
    "test.drop(columns=['idhogar','Id',  'agesq', 'hogar_adul', 'SQBescolari', 'SQBage', 'SQBhogar_total', 'SQBedjefe', 'SQBhogar_nin', 'SQBovercrowding', 'SQBdependency', 'SQBmeaned'], inplace=True)\n",
    "\n",
    "correlation = train.corr()\n",
    "correlation = correlation['Target'].sort_values(ascending=False)"
   ]
  },
  {
   "cell_type": "code",
   "execution_count": 90,
   "id": "e8af1394",
   "metadata": {
    "execution": {
     "iopub.execute_input": "2023-03-11T02:10:10.893419Z",
     "iopub.status.busy": "2023-03-11T02:10:10.892885Z",
     "iopub.status.idle": "2023-03-11T02:10:10.899598Z",
     "shell.execute_reply": "2023-03-11T02:10:10.898137Z"
    },
    "papermill": {
     "duration": 0.053892,
     "end_time": "2023-03-11T02:10:10.902629",
     "exception": false,
     "start_time": "2023-03-11T02:10:10.848737",
     "status": "completed"
    },
    "tags": []
   },
   "outputs": [
    {
     "name": "stdout",
     "output_type": "stream",
     "text": [
      "final_data size (2973, 3151) (23856, 3150)\n"
     ]
    }
   ],
   "source": [
    "print('final_data size', train.shape, test.shape)"
   ]
  },
  {
   "cell_type": "code",
   "execution_count": 91,
   "id": "16522c3e",
   "metadata": {
    "execution": {
     "iopub.execute_input": "2023-03-11T02:10:10.991401Z",
     "iopub.status.busy": "2023-03-11T02:10:10.990229Z",
     "iopub.status.idle": "2023-03-11T02:10:10.999980Z",
     "shell.execute_reply": "2023-03-11T02:10:10.997823Z"
    },
    "papermill": {
     "duration": 0.055808,
     "end_time": "2023-03-11T02:10:11.003342",
     "exception": false,
     "start_time": "2023-03-11T02:10:10.947534",
     "status": "completed"
    },
    "tags": []
   },
   "outputs": [
    {
     "name": "stdout",
     "output_type": "stream",
     "text": [
      "The most 20 positive feature: \n",
      "Target                                1.000000\n",
      "new5_lugar5_idhogar_edjef_max         0.334254\n",
      "new5_lugar1_idhogar_edjef_max         0.334254\n",
      "new5_lugar6_idhogar_edjef_max         0.334254\n",
      "new5_lugar3_idhogar_edjef_max         0.334254\n",
      "new5_lugar2_idhogar_edjef_max         0.334254\n",
      "new5_lugar4_idhogar_edjef_max         0.334254\n",
      "new5_lugar1_idhogar_edjef_mean        0.333873\n",
      "new5_lugar4_idhogar_edjef_mean        0.333873\n",
      "new5_lugar2_idhogar_edjef_mean        0.333873\n",
      "new5_lugar3_idhogar_edjef_mean        0.333873\n",
      "new5_lugar5_idhogar_edjef_mean        0.333873\n",
      "new5_lugar6_idhogar_edjef_mean        0.333873\n",
      "edjef                                 0.333791\n",
      "new5_lugar4_idhogar_edjef_min         0.333791\n",
      "new5_lugar3_idhogar_edjef_min         0.333791\n",
      "new5_lugar2_idhogar_edjef_min         0.333791\n",
      "new5_lugar1_idhogar_edjef_min         0.333791\n",
      "new5_lugar5_idhogar_edjef_min         0.333791\n",
      "new5_lugar6_idhogar_edjef_min         0.333791\n",
      "escolari                              0.333791\n",
      "meaneduc                              0.331489\n",
      "new5_lugar3_idhogar_instlevel8_max    0.317815\n",
      "new5_lugar6_idhogar_instlevel8_max    0.317815\n",
      "new5_lugar5_idhogar_instlevel8_max    0.317815\n",
      "new5_lugar4_idhogar_instlevel8_max    0.317815\n",
      "new5_lugar2_idhogar_instlevel8_max    0.317815\n",
      "new5_lugar1_idhogar_instlevel8_max    0.317815\n",
      "phones-per-capita                     0.299026\n",
      "new5_lugar6_idhogar_instlevel8_std    0.298251\n",
      "new5_lugar4_idhogar_instlevel8_std    0.298251\n",
      "new5_lugar2_idhogar_instlevel8_std    0.298251\n",
      "new5_lugar5_idhogar_instlevel8_std    0.298251\n",
      "new5_lugar3_idhogar_instlevel8_std    0.298251\n",
      "new5_lugar1_idhogar_instlevel8_std    0.298251\n",
      "new_epared3_x_eviv3                   0.298196\n",
      "cielorazo                             0.295249\n",
      "new5_lugar1_idhogar_instlevel8_sum    0.294277\n",
      "new5_lugar4_idhogar_instlevel8_sum    0.294277\n",
      "instlevel8_new1_sum                   0.294277\n",
      "Name: Target, dtype: float64\n"
     ]
    }
   ],
   "source": [
    "print(f'The most 20 positive feature: \\n{correlation.head(40)}')"
   ]
  },
  {
   "cell_type": "code",
   "execution_count": 92,
   "id": "543f994d",
   "metadata": {
    "execution": {
     "iopub.execute_input": "2023-03-11T02:10:11.086488Z",
     "iopub.status.busy": "2023-03-11T02:10:11.086016Z",
     "iopub.status.idle": "2023-03-11T02:10:11.093710Z",
     "shell.execute_reply": "2023-03-11T02:10:11.092300Z"
    },
    "papermill": {
     "duration": 0.053106,
     "end_time": "2023-03-11T02:10:11.096962",
     "exception": false,
     "start_time": "2023-03-11T02:10:11.043856",
     "status": "completed"
    },
    "tags": []
   },
   "outputs": [
    {
     "name": "stdout",
     "output_type": "stream",
     "text": [
      "The most 20 negative feature: \n",
      "new5_lugar5_idhogar_television_<function max_min at 0x7ff650a12cb0>    NaN\n",
      "new5_lugar5_idhogar_mobilephone_<function max_min at 0x7ff650a12cb0>   NaN\n",
      "new5_lugar5_idhogar_area1_<function max_min at 0x7ff650a12cb0>         NaN\n",
      "new5_lugar5_idhogar_area2_<function max_min at 0x7ff650a12cb0>         NaN\n",
      "new5_lugar5_idhogar_v18q_<function max_min at 0x7ff650a12cb0>          NaN\n",
      "new5_lugar6_idhogar_epared1_<function max_min at 0x7ff650a12cb0>       NaN\n",
      "new5_lugar6_idhogar_epared2_<function max_min at 0x7ff650a12cb0>       NaN\n",
      "new5_lugar6_idhogar_epared3_<function max_min at 0x7ff650a12cb0>       NaN\n",
      "new5_lugar6_idhogar_etecho1_<function max_min at 0x7ff650a12cb0>       NaN\n",
      "new5_lugar6_idhogar_etecho2_<function max_min at 0x7ff650a12cb0>       NaN\n",
      "new5_lugar6_idhogar_etecho3_<function max_min at 0x7ff650a12cb0>       NaN\n",
      "new5_lugar6_idhogar_eviv1_<function max_min at 0x7ff650a12cb0>         NaN\n",
      "new5_lugar6_idhogar_eviv2_<function max_min at 0x7ff650a12cb0>         NaN\n",
      "new5_lugar6_idhogar_eviv3_<function max_min at 0x7ff650a12cb0>         NaN\n",
      "new5_lugar6_idhogar_refrig_<function max_min at 0x7ff650a12cb0>        NaN\n",
      "new5_lugar6_idhogar_television_<function max_min at 0x7ff650a12cb0>    NaN\n",
      "new5_lugar6_idhogar_mobilephone_<function max_min at 0x7ff650a12cb0>   NaN\n",
      "new5_lugar6_idhogar_area1_<function max_min at 0x7ff650a12cb0>         NaN\n",
      "new5_lugar6_idhogar_area2_<function max_min at 0x7ff650a12cb0>         NaN\n",
      "new5_lugar6_idhogar_v18q_<function max_min at 0x7ff650a12cb0>          NaN\n",
      "Name: Target, dtype: float64\n"
     ]
    }
   ],
   "source": [
    "print(f'The most 20 negative feature: \\n{correlation.tail(20)}')"
   ]
  },
  {
   "cell_type": "markdown",
   "id": "58489b3b",
   "metadata": {
    "papermill": {
     "duration": 0.043637,
     "end_time": "2023-03-11T02:10:11.182014",
     "exception": false,
     "start_time": "2023-03-11T02:10:11.138377",
     "status": "completed"
    },
    "tags": []
   },
   "source": [
    "# 4. Feature selection using shap"
   ]
  },
  {
   "cell_type": "code",
   "execution_count": 93,
   "id": "b581bf6a",
   "metadata": {
    "execution": {
     "iopub.execute_input": "2023-03-11T02:10:11.269039Z",
     "iopub.status.busy": "2023-03-11T02:10:11.268535Z",
     "iopub.status.idle": "2023-03-11T02:10:12.464148Z",
     "shell.execute_reply": "2023-03-11T02:10:12.462550Z"
    },
    "papermill": {
     "duration": 1.243928,
     "end_time": "2023-03-11T02:10:12.467502",
     "exception": false,
     "start_time": "2023-03-11T02:10:11.223574",
     "status": "completed"
    },
    "tags": []
   },
   "outputs": [],
   "source": [
    "binary_cat_features = [col for col in train.columns if train[col].value_counts().shape[0] == 2]\n",
    "object_features = ['edjefe', 'edjefa']\n",
    "\n",
    "categorical_feats = binary_cat_features + object_features"
   ]
  },
  {
   "cell_type": "code",
   "execution_count": 94,
   "id": "28ae534d",
   "metadata": {
    "execution": {
     "iopub.execute_input": "2023-03-11T02:10:12.551670Z",
     "iopub.status.busy": "2023-03-11T02:10:12.551212Z",
     "iopub.status.idle": "2023-03-11T02:10:12.558226Z",
     "shell.execute_reply": "2023-03-11T02:10:12.556601Z"
    },
    "papermill": {
     "duration": 0.053366,
     "end_time": "2023-03-11T02:10:12.561079",
     "exception": false,
     "start_time": "2023-03-11T02:10:12.507713",
     "status": "completed"
    },
    "tags": []
   },
   "outputs": [],
   "source": [
    "def evaluate_macroF1_lgb(truth, predictions):  \n",
    "    # this follows the discussion in https://github.com/Microsoft/LightGBM/issues/1483\n",
    "    pred_labels = predictions.reshape(len(np.unique(truth)),-1).argmax(axis=0)\n",
    "    f1 = f1_score(truth, pred_labels, average='macro')\n",
    "    return ('macroF1', f1, True) "
   ]
  },
  {
   "cell_type": "code",
   "execution_count": 95,
   "id": "7e55513d",
   "metadata": {
    "execution": {
     "iopub.execute_input": "2023-03-11T02:10:12.647666Z",
     "iopub.status.busy": "2023-03-11T02:10:12.647216Z",
     "iopub.status.idle": "2023-03-11T02:10:12.690515Z",
     "shell.execute_reply": "2023-03-11T02:10:12.688632Z"
    },
    "papermill": {
     "duration": 0.089486,
     "end_time": "2023-03-11T02:10:12.693645",
     "exception": false,
     "start_time": "2023-03-11T02:10:12.604159",
     "status": "completed"
    },
    "tags": []
   },
   "outputs": [],
   "source": [
    "y = train['Target']\n",
    "train.drop(columns=['Target'], inplace=True)"
   ]
  },
  {
   "cell_type": "code",
   "execution_count": 96,
   "id": "04d301ae",
   "metadata": {
    "execution": {
     "iopub.execute_input": "2023-03-11T02:10:12.780176Z",
     "iopub.status.busy": "2023-03-11T02:10:12.779707Z",
     "iopub.status.idle": "2023-03-11T02:10:12.787096Z",
     "shell.execute_reply": "2023-03-11T02:10:12.785182Z"
    },
    "papermill": {
     "duration": 0.053318,
     "end_time": "2023-03-11T02:10:12.789901",
     "exception": false,
     "start_time": "2023-03-11T02:10:12.736583",
     "status": "completed"
    },
    "tags": []
   },
   "outputs": [],
   "source": [
    "def print_execution_time(start):\n",
    "    end = time.time()\n",
    "    hours, rem = divmod(end-start, 3600)\n",
    "    minutes, seconds = divmod(rem, 60)\n",
    "    print('*'*20, \"Execution ended in {:0>2}h {:0>2}m {:05.2f}s\".format(int(hours),int(minutes),seconds), '*'*20)"
   ]
  },
  {
   "cell_type": "code",
   "execution_count": 97,
   "id": "957bb5df",
   "metadata": {
    "execution": {
     "iopub.execute_input": "2023-03-11T02:10:12.873337Z",
     "iopub.status.busy": "2023-03-11T02:10:12.872420Z",
     "iopub.status.idle": "2023-03-11T02:10:12.887459Z",
     "shell.execute_reply": "2023-03-11T02:10:12.886347Z"
    },
    "papermill": {
     "duration": 0.059257,
     "end_time": "2023-03-11T02:10:12.890067",
     "exception": false,
     "start_time": "2023-03-11T02:10:12.830810",
     "status": "completed"
    },
    "tags": []
   },
   "outputs": [],
   "source": [
    "def extract_good_features_using_shap_LGB(params, SEED):\n",
    "    clf = lgb.LGBMClassifier(objective='multiclass',\n",
    "                             random_state=1989,\n",
    "                             max_depth=params['max_depth'], \n",
    "                             learning_rate=params['learning_rate'],  \n",
    "                             silent=True, \n",
    "                             metric='multi_logloss',\n",
    "                             n_jobs=-1, n_estimators=10000, \n",
    "                             class_weight='balanced',\n",
    "                             colsample_bytree = params['colsample_bytree'], \n",
    "                             min_split_gain= params['min_split_gain'], \n",
    "                             bagging_freq = params['bagging_freq'],\n",
    "                             min_child_weight=params['min_child_weight'],\n",
    "                             num_leaves = params['num_leaves'], \n",
    "                             subsample = params['subsample'],\n",
    "                             reg_alpha= params['reg_alpha'],\n",
    "                             reg_lambda= params['reg_lambda'],\n",
    "                             num_class=len(np.unique(y)),\n",
    "                             bagging_seed=SEED,\n",
    "                             seed=SEED,\n",
    "                            )\n",
    "\n",
    "    kfold = 5\n",
    "    kf = StratifiedKFold(n_splits=kfold, shuffle=True)\n",
    "    feat_importance_df  = pd.DataFrame()\n",
    "\n",
    "    for i, (train_index, test_index) in enumerate(kf.split(train, y)):\n",
    "        print('='*30, '{} of {} folds'.format(i+1, kfold), '='*30)\n",
    "        start = time.time()\n",
    "        X_train, X_val = train.iloc[train_index], train.iloc[test_index]\n",
    "        y_train, y_val = y.iloc[train_index], y.iloc[test_index]\n",
    "        clf.fit(X_train, y_train, eval_set=[(X_train, y_train), (X_val, y_val)], eval_metric=evaluate_macroF1_lgb, categorical_feature=categorical_feats,\n",
    "                early_stopping_rounds=500, verbose=500)\n",
    "        shap_values = shap.TreeExplainer(clf.booster_).shap_values(X_train)\n",
    "        fold_importance_df  = pd.DataFrame()\n",
    "        fold_importance_df['feature'] = X_train.columns\n",
    "        fold_importance_df['shap_values'] = abs(np.array(shap_values)[:, :].mean(1).mean(0))\n",
    "        fold_importance_df['feat_imp'] = clf.feature_importances_\n",
    "        feat_importance_df = pd.concat([feat_importance_df, fold_importance_df])\n",
    "        print_execution_time(start)\n",
    "\n",
    "    feat_importance_df_shap = feat_importance_df.groupby('feature').mean().sort_values('shap_values', ascending=False).reset_index()\n",
    "#     feat_importance_df_shap['shap_cumsum'] = feat_importance_df_shap['shap_values'].cumsum() / feat_importance_df_shap['shap_values'].sum()\n",
    "#     good_features = feat_importance_df_shap.loc[feat_importance_df_shap['shap_cumsum'] < 0.999].feature\n",
    "    return feat_importance_df_shap"
   ]
  },
  {
   "cell_type": "code",
   "execution_count": 98,
   "id": "69620147",
   "metadata": {
    "execution": {
     "iopub.execute_input": "2023-03-11T02:10:12.974382Z",
     "iopub.status.busy": "2023-03-11T02:10:12.973714Z",
     "iopub.status.idle": "2023-03-11T05:36:47.629965Z",
     "shell.execute_reply": "2023-03-11T05:36:47.628047Z"
    },
    "papermill": {
     "duration": 12394.701109,
     "end_time": "2023-03-11T05:36:47.633176",
     "exception": false,
     "start_time": "2023-03-11T02:10:12.932067",
     "status": "completed"
    },
    "tags": []
   },
   "outputs": [
    {
     "name": "stdout",
     "output_type": "stream",
     "text": [
      "######################################## 1 of 50 iterations ########################################\n",
      "============================== 1 of 5 folds ==============================\n",
      "[LightGBM] [Warning] seed is set=0, random_state=1989 will be ignored. Current value: seed=0\n",
      "[LightGBM] [Warning] bagging_freq is set=1, subsample_freq=0 will be ignored. Current value: bagging_freq=1\n",
      "[500]\ttraining's multi_logloss: 1.11379\ttraining's macroF1: 0.485107\tvalid_1's multi_logloss: 1.1027\tvalid_1's macroF1: 0.372485\n",
      "******************** Execution ended in 00h 00m 38.14s ********************\n",
      "============================== 2 of 5 folds ==============================\n",
      "[LightGBM] [Warning] seed is set=0, random_state=1989 will be ignored. Current value: seed=0\n",
      "[LightGBM] [Warning] bagging_freq is set=1, subsample_freq=0 will be ignored. Current value: bagging_freq=1\n",
      "[500]\ttraining's multi_logloss: 1.12813\ttraining's macroF1: 0.488939\tvalid_1's multi_logloss: 1.10145\tvalid_1's macroF1: 0.378255\n",
      "******************** Execution ended in 00h 00m 41.28s ********************\n",
      "============================== 3 of 5 folds ==============================\n",
      "[LightGBM] [Warning] seed is set=0, random_state=1989 will be ignored. Current value: seed=0\n",
      "[LightGBM] [Warning] bagging_freq is set=1, subsample_freq=0 will be ignored. Current value: bagging_freq=1\n",
      "[500]\ttraining's multi_logloss: 1.12701\ttraining's macroF1: 0.484891\tvalid_1's multi_logloss: 1.08415\tvalid_1's macroF1: 0.428775\n",
      "******************** Execution ended in 00h 00m 50.01s ********************\n",
      "============================== 4 of 5 folds ==============================\n",
      "[LightGBM] [Warning] seed is set=0, random_state=1989 will be ignored. Current value: seed=0\n",
      "[LightGBM] [Warning] bagging_freq is set=1, subsample_freq=0 will be ignored. Current value: bagging_freq=1\n",
      "[500]\ttraining's multi_logloss: 1.11775\ttraining's macroF1: 0.488179\tvalid_1's multi_logloss: 1.13192\tvalid_1's macroF1: 0.353184\n",
      "******************** Execution ended in 00h 00m 38.42s ********************\n",
      "============================== 5 of 5 folds ==============================\n",
      "[LightGBM] [Warning] seed is set=0, random_state=1989 will be ignored. Current value: seed=0\n",
      "[LightGBM] [Warning] bagging_freq is set=1, subsample_freq=0 will be ignored. Current value: bagging_freq=1\n",
      "[500]\ttraining's multi_logloss: 1.12709\ttraining's macroF1: 0.478989\tvalid_1's multi_logloss: 1.07928\tvalid_1's macroF1: 0.393755\n",
      "[1000]\ttraining's multi_logloss: 1.05202\ttraining's macroF1: 0.522406\tvalid_1's multi_logloss: 1.05404\tvalid_1's macroF1: 0.388704\n",
      "******************** Execution ended in 00h 00m 59.67s ********************\n",
      "######################################## 2 of 50 iterations ########################################\n",
      "============================== 1 of 5 folds ==============================\n",
      "[LightGBM] [Warning] seed is set=1, random_state=1989 will be ignored. Current value: seed=1\n",
      "[LightGBM] [Warning] bagging_freq is set=2, subsample_freq=0 will be ignored. Current value: bagging_freq=2\n",
      "[500]\ttraining's multi_logloss: 1.10618\ttraining's macroF1: 0.49242\tvalid_1's multi_logloss: 1.13595\tvalid_1's macroF1: 0.381944\n",
      "******************** Execution ended in 00h 00m 41.70s ********************\n",
      "============================== 2 of 5 folds ==============================\n",
      "[LightGBM] [Warning] seed is set=1, random_state=1989 will be ignored. Current value: seed=1\n",
      "[LightGBM] [Warning] bagging_freq is set=2, subsample_freq=0 will be ignored. Current value: bagging_freq=2\n",
      "[500]\ttraining's multi_logloss: 1.10872\ttraining's macroF1: 0.499862\tvalid_1's multi_logloss: 1.07069\tvalid_1's macroF1: 0.388887\n",
      "******************** Execution ended in 00h 00m 38.89s ********************\n",
      "============================== 3 of 5 folds ==============================\n",
      "[LightGBM] [Warning] seed is set=1, random_state=1989 will be ignored. Current value: seed=1\n",
      "[LightGBM] [Warning] bagging_freq is set=2, subsample_freq=0 will be ignored. Current value: bagging_freq=2\n",
      "[500]\ttraining's multi_logloss: 1.10092\ttraining's macroF1: 0.485778\tvalid_1's multi_logloss: 1.09627\tvalid_1's macroF1: 0.388543\n",
      "******************** Execution ended in 00h 00m 26.80s ********************\n",
      "============================== 4 of 5 folds ==============================\n",
      "[LightGBM] [Warning] seed is set=1, random_state=1989 will be ignored. Current value: seed=1\n",
      "[LightGBM] [Warning] bagging_freq is set=2, subsample_freq=0 will be ignored. Current value: bagging_freq=2\n",
      "[500]\ttraining's multi_logloss: 1.10328\ttraining's macroF1: 0.487105\tvalid_1's multi_logloss: 1.06873\tvalid_1's macroF1: 0.407769\n",
      "[1000]\ttraining's multi_logloss: 1.04056\ttraining's macroF1: 0.510525\tvalid_1's multi_logloss: 1.05396\tvalid_1's macroF1: 0.418441\n",
      "******************** Execution ended in 00h 01m 06.61s ********************\n",
      "============================== 5 of 5 folds ==============================\n",
      "[LightGBM] [Warning] seed is set=1, random_state=1989 will be ignored. Current value: seed=1\n",
      "[LightGBM] [Warning] bagging_freq is set=2, subsample_freq=0 will be ignored. Current value: bagging_freq=2\n",
      "[500]\ttraining's multi_logloss: 1.10838\ttraining's macroF1: 0.474034\tvalid_1's multi_logloss: 1.0697\tvalid_1's macroF1: 0.396511\n",
      "******************** Execution ended in 00h 00m 30.82s ********************\n",
      "######################################## 3 of 50 iterations ########################################\n",
      "============================== 1 of 5 folds ==============================\n",
      "[LightGBM] [Warning] seed is set=2, random_state=1989 will be ignored. Current value: seed=2\n",
      "[LightGBM] [Warning] bagging_freq is set=4, subsample_freq=0 will be ignored. Current value: bagging_freq=4\n",
      "[500]\ttraining's multi_logloss: 0.578406\ttraining's macroF1: 0.790547\tvalid_1's multi_logloss: 1.04475\tvalid_1's macroF1: 0.397685\n",
      "******************** Execution ended in 00h 00m 45.92s ********************\n",
      "============================== 2 of 5 folds ==============================\n",
      "[LightGBM] [Warning] seed is set=2, random_state=1989 will be ignored. Current value: seed=2\n",
      "[LightGBM] [Warning] bagging_freq is set=4, subsample_freq=0 will be ignored. Current value: bagging_freq=4\n",
      "[500]\ttraining's multi_logloss: 0.572735\ttraining's macroF1: 0.785759\tvalid_1's multi_logloss: 1.03832\tvalid_1's macroF1: 0.381195\n",
      "******************** Execution ended in 00h 01m 12.78s ********************\n",
      "============================== 3 of 5 folds ==============================\n",
      "[LightGBM] [Warning] seed is set=2, random_state=1989 will be ignored. Current value: seed=2\n",
      "[LightGBM] [Warning] bagging_freq is set=4, subsample_freq=0 will be ignored. Current value: bagging_freq=4\n",
      "[500]\ttraining's multi_logloss: 0.573676\ttraining's macroF1: 0.780717\tvalid_1's multi_logloss: 0.970599\tvalid_1's macroF1: 0.430319\n",
      "******************** Execution ended in 00h 00m 58.85s ********************\n",
      "============================== 4 of 5 folds ==============================\n",
      "[LightGBM] [Warning] seed is set=2, random_state=1989 will be ignored. Current value: seed=2\n",
      "[LightGBM] [Warning] bagging_freq is set=4, subsample_freq=0 will be ignored. Current value: bagging_freq=4\n",
      "[500]\ttraining's multi_logloss: 0.574526\ttraining's macroF1: 0.803762\tvalid_1's multi_logloss: 0.977809\tvalid_1's macroF1: 0.397118\n",
      "******************** Execution ended in 00h 00m 53.51s ********************\n",
      "============================== 5 of 5 folds ==============================\n",
      "[LightGBM] [Warning] seed is set=2, random_state=1989 will be ignored. Current value: seed=2\n",
      "[LightGBM] [Warning] bagging_freq is set=4, subsample_freq=0 will be ignored. Current value: bagging_freq=4\n",
      "[500]\ttraining's multi_logloss: 0.577619\ttraining's macroF1: 0.790579\tvalid_1's multi_logloss: 0.995439\tvalid_1's macroF1: 0.397088\n",
      "******************** Execution ended in 00h 00m 41.82s ********************\n",
      "######################################## 4 of 50 iterations ########################################\n",
      "============================== 1 of 5 folds ==============================\n",
      "[LightGBM] [Warning] seed is set=3, random_state=1989 will be ignored. Current value: seed=3\n",
      "[LightGBM] [Warning] bagging_freq is set=1, subsample_freq=0 will be ignored. Current value: bagging_freq=1\n",
      "[500]\ttraining's multi_logloss: 1.06827\ttraining's macroF1: 0.496351\tvalid_1's multi_logloss: 1.05454\tvalid_1's macroF1: 0.414536\n",
      "[1000]\ttraining's multi_logloss: 1.00218\ttraining's macroF1: 0.524501\tvalid_1's multi_logloss: 1.04425\tvalid_1's macroF1: 0.421475\n",
      "******************** Execution ended in 00h 01m 05.57s ********************\n",
      "============================== 2 of 5 folds ==============================\n",
      "[LightGBM] [Warning] seed is set=3, random_state=1989 will be ignored. Current value: seed=3\n",
      "[LightGBM] [Warning] bagging_freq is set=1, subsample_freq=0 will be ignored. Current value: bagging_freq=1\n",
      "[500]\ttraining's multi_logloss: 1.05888\ttraining's macroF1: 0.509953\tvalid_1's multi_logloss: 1.09709\tvalid_1's macroF1: 0.382693\n",
      "******************** Execution ended in 00h 00m 28.58s ********************\n",
      "============================== 3 of 5 folds ==============================\n",
      "[LightGBM] [Warning] seed is set=3, random_state=1989 will be ignored. Current value: seed=3\n",
      "[LightGBM] [Warning] bagging_freq is set=1, subsample_freq=0 will be ignored. Current value: bagging_freq=1\n",
      "[500]\ttraining's multi_logloss: 1.06535\ttraining's macroF1: 0.508048\tvalid_1's multi_logloss: 1.08424\tvalid_1's macroF1: 0.378306\n",
      "******************** Execution ended in 00h 00m 33.83s ********************\n",
      "============================== 4 of 5 folds ==============================\n",
      "[LightGBM] [Warning] seed is set=3, random_state=1989 will be ignored. Current value: seed=3\n",
      "[LightGBM] [Warning] bagging_freq is set=1, subsample_freq=0 will be ignored. Current value: bagging_freq=1\n",
      "[500]\ttraining's multi_logloss: 1.05749\ttraining's macroF1: 0.522752\tvalid_1's multi_logloss: 1.08537\tvalid_1's macroF1: 0.356353\n",
      "******************** Execution ended in 00h 00m 35.85s ********************\n",
      "============================== 5 of 5 folds ==============================\n",
      "[LightGBM] [Warning] seed is set=3, random_state=1989 will be ignored. Current value: seed=3\n",
      "[LightGBM] [Warning] bagging_freq is set=1, subsample_freq=0 will be ignored. Current value: bagging_freq=1\n",
      "[500]\ttraining's multi_logloss: 1.06105\ttraining's macroF1: 0.4988\tvalid_1's multi_logloss: 1.08873\tvalid_1's macroF1: 0.368162\n",
      "******************** Execution ended in 00h 00m 36.00s ********************\n",
      "######################################## 5 of 50 iterations ########################################\n",
      "============================== 1 of 5 folds ==============================\n",
      "[LightGBM] [Warning] seed is set=4, random_state=1989 will be ignored. Current value: seed=4\n",
      "[LightGBM] [Warning] bagging_freq is set=2, subsample_freq=0 will be ignored. Current value: bagging_freq=2\n",
      "[500]\ttraining's multi_logloss: 1.12594\ttraining's macroF1: 0.470751\tvalid_1's multi_logloss: 1.10801\tvalid_1's macroF1: 0.388906\n",
      "******************** Execution ended in 00h 00m 21.09s ********************\n",
      "============================== 2 of 5 folds ==============================\n",
      "[LightGBM] [Warning] seed is set=4, random_state=1989 will be ignored. Current value: seed=4\n",
      "[LightGBM] [Warning] bagging_freq is set=2, subsample_freq=0 will be ignored. Current value: bagging_freq=2\n",
      "[500]\ttraining's multi_logloss: 1.13246\ttraining's macroF1: 0.471179\tvalid_1's multi_logloss: 1.09806\tvalid_1's macroF1: 0.38082\n",
      "******************** Execution ended in 00h 00m 26.20s ********************\n",
      "============================== 3 of 5 folds ==============================\n",
      "[LightGBM] [Warning] seed is set=4, random_state=1989 will be ignored. Current value: seed=4\n",
      "[LightGBM] [Warning] bagging_freq is set=2, subsample_freq=0 will be ignored. Current value: bagging_freq=2\n",
      "[500]\ttraining's multi_logloss: 1.11779\ttraining's macroF1: 0.476\tvalid_1's multi_logloss: 1.10884\tvalid_1's macroF1: 0.366158\n",
      "******************** Execution ended in 00h 00m 21.58s ********************\n",
      "============================== 4 of 5 folds ==============================\n",
      "[LightGBM] [Warning] seed is set=4, random_state=1989 will be ignored. Current value: seed=4\n",
      "[LightGBM] [Warning] bagging_freq is set=2, subsample_freq=0 will be ignored. Current value: bagging_freq=2\n",
      "[500]\ttraining's multi_logloss: 1.13457\ttraining's macroF1: 0.46522\tvalid_1's multi_logloss: 1.10541\tvalid_1's macroF1: 0.401746\n",
      "******************** Execution ended in 00h 00m 19.00s ********************\n",
      "============================== 5 of 5 folds ==============================\n",
      "[LightGBM] [Warning] seed is set=4, random_state=1989 will be ignored. Current value: seed=4\n",
      "[LightGBM] [Warning] bagging_freq is set=2, subsample_freq=0 will be ignored. Current value: bagging_freq=2\n",
      "[500]\ttraining's multi_logloss: 1.132\ttraining's macroF1: 0.470323\tvalid_1's multi_logloss: 1.07798\tvalid_1's macroF1: 0.390288\n",
      "******************** Execution ended in 00h 00m 31.56s ********************\n",
      "######################################## 6 of 50 iterations ########################################\n",
      "============================== 1 of 5 folds ==============================\n",
      "[LightGBM] [Warning] seed is set=5, random_state=1989 will be ignored. Current value: seed=5\n",
      "[LightGBM] [Warning] bagging_freq is set=3, subsample_freq=0 will be ignored. Current value: bagging_freq=3\n",
      "[500]\ttraining's multi_logloss: 1.15988\ttraining's macroF1: 0.501667\tvalid_1's multi_logloss: 1.14423\tvalid_1's macroF1: 0.360456\n",
      "******************** Execution ended in 00h 00m 29.67s ********************\n",
      "============================== 2 of 5 folds ==============================\n",
      "[LightGBM] [Warning] seed is set=5, random_state=1989 will be ignored. Current value: seed=5\n",
      "[LightGBM] [Warning] bagging_freq is set=3, subsample_freq=0 will be ignored. Current value: bagging_freq=3\n",
      "[500]\ttraining's multi_logloss: 1.17213\ttraining's macroF1: 0.507429\tvalid_1's multi_logloss: 1.13004\tvalid_1's macroF1: 0.387256\n",
      "[1000]\ttraining's multi_logloss: 1.0819\ttraining's macroF1: 0.536508\tvalid_1's multi_logloss: 1.06467\tvalid_1's macroF1: 0.408771\n",
      "[1500]\ttraining's multi_logloss: 1.02788\ttraining's macroF1: 0.561264\tvalid_1's multi_logloss: 1.04404\tvalid_1's macroF1: 0.414863\n",
      "******************** Execution ended in 00h 01m 35.42s ********************\n",
      "============================== 3 of 5 folds ==============================\n",
      "[LightGBM] [Warning] seed is set=5, random_state=1989 will be ignored. Current value: seed=5\n",
      "[LightGBM] [Warning] bagging_freq is set=3, subsample_freq=0 will be ignored. Current value: bagging_freq=3\n",
      "[500]\ttraining's multi_logloss: 1.16986\ttraining's macroF1: 0.508207\tvalid_1's multi_logloss: 1.12123\tvalid_1's macroF1: 0.396213\n",
      "[1000]\ttraining's multi_logloss: 1.08041\ttraining's macroF1: 0.530192\tvalid_1's multi_logloss: 1.05113\tvalid_1's macroF1: 0.399677\n",
      "******************** Execution ended in 00h 01m 02.66s ********************\n",
      "============================== 4 of 5 folds ==============================\n",
      "[LightGBM] [Warning] seed is set=5, random_state=1989 will be ignored. Current value: seed=5\n",
      "[LightGBM] [Warning] bagging_freq is set=3, subsample_freq=0 will be ignored. Current value: bagging_freq=3\n",
      "[500]\ttraining's multi_logloss: 1.17273\ttraining's macroF1: 0.484643\tvalid_1's multi_logloss: 1.14638\tvalid_1's macroF1: 0.410671\n",
      "[1000]\ttraining's multi_logloss: 1.0837\ttraining's macroF1: 0.522877\tvalid_1's multi_logloss: 1.08524\tvalid_1's macroF1: 0.408625\n",
      "[1500]\ttraining's multi_logloss: 1.03027\ttraining's macroF1: 0.53806\tvalid_1's multi_logloss: 1.0648\tvalid_1's macroF1: 0.421141\n",
      "******************** Execution ended in 00h 01m 42.59s ********************\n",
      "============================== 5 of 5 folds ==============================\n",
      "[LightGBM] [Warning] seed is set=5, random_state=1989 will be ignored. Current value: seed=5\n",
      "[LightGBM] [Warning] bagging_freq is set=3, subsample_freq=0 will be ignored. Current value: bagging_freq=3\n",
      "[500]\ttraining's multi_logloss: 1.16234\ttraining's macroF1: 0.507803\tvalid_1's multi_logloss: 1.15284\tvalid_1's macroF1: 0.40882\n",
      "[1000]\ttraining's multi_logloss: 1.06836\ttraining's macroF1: 0.530571\tvalid_1's multi_logloss: 1.09647\tvalid_1's macroF1: 0.416067\n",
      "******************** Execution ended in 00h 01m 15.18s ********************\n",
      "######################################## 7 of 50 iterations ########################################\n",
      "============================== 1 of 5 folds ==============================\n",
      "[LightGBM] [Warning] seed is set=6, random_state=1989 will be ignored. Current value: seed=6\n",
      "[LightGBM] [Warning] bagging_freq is set=2, subsample_freq=0 will be ignored. Current value: bagging_freq=2\n",
      "[500]\ttraining's multi_logloss: 1.05199\ttraining's macroF1: 0.602765\tvalid_1's multi_logloss: 1.08544\tvalid_1's macroF1: 0.422413\n",
      "******************** Execution ended in 00h 01m 13.68s ********************\n",
      "============================== 2 of 5 folds ==============================\n",
      "[LightGBM] [Warning] seed is set=6, random_state=1989 will be ignored. Current value: seed=6\n",
      "[LightGBM] [Warning] bagging_freq is set=2, subsample_freq=0 will be ignored. Current value: bagging_freq=2\n",
      "[500]\ttraining's multi_logloss: 1.04626\ttraining's macroF1: 0.599871\tvalid_1's multi_logloss: 1.12822\tvalid_1's macroF1: 0.381921\n",
      "******************** Execution ended in 00h 00m 45.51s ********************\n",
      "============================== 3 of 5 folds ==============================\n",
      "[LightGBM] [Warning] seed is set=6, random_state=1989 will be ignored. Current value: seed=6\n",
      "[LightGBM] [Warning] bagging_freq is set=2, subsample_freq=0 will be ignored. Current value: bagging_freq=2\n",
      "[500]\ttraining's multi_logloss: 1.05474\ttraining's macroF1: 0.580624\tvalid_1's multi_logloss: 1.09401\tvalid_1's macroF1: 0.414445\n",
      "[1000]\ttraining's multi_logloss: 0.906405\ttraining's macroF1: 0.634361\tvalid_1's multi_logloss: 1.02806\tvalid_1's macroF1: 0.419912\n",
      "[1500]\ttraining's multi_logloss: 0.809762\ttraining's macroF1: 0.669079\tvalid_1's multi_logloss: 1.00803\tvalid_1's macroF1: 0.430579\n",
      "[2000]\ttraining's multi_logloss: 0.735898\ttraining's macroF1: 0.707796\tvalid_1's multi_logloss: 0.997509\tvalid_1's macroF1: 0.443597\n",
      "[2500]\ttraining's multi_logloss: 0.676398\ttraining's macroF1: 0.744543\tvalid_1's multi_logloss: 0.990849\tvalid_1's macroF1: 0.438887\n",
      "******************** Execution ended in 00h 03m 53.29s ********************\n",
      "============================== 4 of 5 folds ==============================\n",
      "[LightGBM] [Warning] seed is set=6, random_state=1989 will be ignored. Current value: seed=6\n",
      "[LightGBM] [Warning] bagging_freq is set=2, subsample_freq=0 will be ignored. Current value: bagging_freq=2\n",
      "[500]\ttraining's multi_logloss: 1.04479\ttraining's macroF1: 0.588793\tvalid_1's multi_logloss: 1.10312\tvalid_1's macroF1: 0.398821\n",
      "******************** Execution ended in 00h 00m 46.14s ********************\n",
      "============================== 5 of 5 folds ==============================\n",
      "[LightGBM] [Warning] seed is set=6, random_state=1989 will be ignored. Current value: seed=6\n",
      "[LightGBM] [Warning] bagging_freq is set=2, subsample_freq=0 will be ignored. Current value: bagging_freq=2\n",
      "[500]\ttraining's multi_logloss: 1.0417\ttraining's macroF1: 0.602469\tvalid_1's multi_logloss: 1.09152\tvalid_1's macroF1: 0.407579\n",
      "******************** Execution ended in 00h 00m 48.64s ********************\n",
      "######################################## 8 of 50 iterations ########################################\n",
      "============================== 1 of 5 folds ==============================\n",
      "[LightGBM] [Warning] seed is set=7, random_state=1989 will be ignored. Current value: seed=7\n",
      "[LightGBM] [Warning] bagging_freq is set=1, subsample_freq=0 will be ignored. Current value: bagging_freq=1\n",
      "[500]\ttraining's multi_logloss: 1.0959\ttraining's macroF1: 0.513903\tvalid_1's multi_logloss: 1.09813\tvalid_1's macroF1: 0.405195\n",
      "[1000]\ttraining's multi_logloss: 1.01068\ttraining's macroF1: 0.546246\tvalid_1's multi_logloss: 1.07654\tvalid_1's macroF1: 0.419843\n",
      "******************** Execution ended in 00h 01m 42.49s ********************\n",
      "============================== 2 of 5 folds ==============================\n",
      "[LightGBM] [Warning] seed is set=7, random_state=1989 will be ignored. Current value: seed=7\n",
      "[LightGBM] [Warning] bagging_freq is set=1, subsample_freq=0 will be ignored. Current value: bagging_freq=1\n",
      "[500]\ttraining's multi_logloss: 1.08082\ttraining's macroF1: 0.518963\tvalid_1's multi_logloss: 1.10656\tvalid_1's macroF1: 0.398856\n",
      "******************** Execution ended in 00h 00m 53.55s ********************\n",
      "============================== 3 of 5 folds ==============================\n",
      "[LightGBM] [Warning] seed is set=7, random_state=1989 will be ignored. Current value: seed=7\n",
      "[LightGBM] [Warning] bagging_freq is set=1, subsample_freq=0 will be ignored. Current value: bagging_freq=1\n",
      "[500]\ttraining's multi_logloss: 1.09299\ttraining's macroF1: 0.508587\tvalid_1's multi_logloss: 1.06098\tvalid_1's macroF1: 0.411585\n",
      "[1000]\ttraining's multi_logloss: 1.00525\ttraining's macroF1: 0.548689\tvalid_1's multi_logloss: 1.02696\tvalid_1's macroF1: 0.424366\n",
      "******************** Execution ended in 00h 01m 39.62s ********************\n",
      "============================== 4 of 5 folds ==============================\n",
      "[LightGBM] [Warning] seed is set=7, random_state=1989 will be ignored. Current value: seed=7\n",
      "[LightGBM] [Warning] bagging_freq is set=1, subsample_freq=0 will be ignored. Current value: bagging_freq=1\n",
      "[500]\ttraining's multi_logloss: 1.08587\ttraining's macroF1: 0.521779\tvalid_1's multi_logloss: 1.09329\tvalid_1's macroF1: 0.398516\n",
      "[1000]\ttraining's multi_logloss: 0.999511\ttraining's macroF1: 0.561004\tvalid_1's multi_logloss: 1.06123\tvalid_1's macroF1: 0.394784\n",
      "******************** Execution ended in 00h 01m 19.92s ********************\n",
      "============================== 5 of 5 folds ==============================\n",
      "[LightGBM] [Warning] seed is set=7, random_state=1989 will be ignored. Current value: seed=7\n",
      "[LightGBM] [Warning] bagging_freq is set=1, subsample_freq=0 will be ignored. Current value: bagging_freq=1\n",
      "[500]\ttraining's multi_logloss: 1.0985\ttraining's macroF1: 0.515499\tvalid_1's multi_logloss: 1.04218\tvalid_1's macroF1: 0.426576\n",
      "[1000]\ttraining's multi_logloss: 1.01209\ttraining's macroF1: 0.54848\tvalid_1's multi_logloss: 1.00825\tvalid_1's macroF1: 0.415485\n",
      "******************** Execution ended in 00h 01m 15.96s ********************\n",
      "######################################## 9 of 50 iterations ########################################\n",
      "============================== 1 of 5 folds ==============================\n",
      "[LightGBM] [Warning] seed is set=8, random_state=1989 will be ignored. Current value: seed=8\n",
      "[LightGBM] [Warning] bagging_freq is set=3, subsample_freq=0 will be ignored. Current value: bagging_freq=3\n",
      "[500]\ttraining's multi_logloss: 0.968131\ttraining's macroF1: 0.554564\tvalid_1's multi_logloss: 1.07874\tvalid_1's macroF1: 0.394038\n",
      "******************** Execution ended in 00h 00m 51.28s ********************\n",
      "============================== 2 of 5 folds ==============================\n",
      "[LightGBM] [Warning] seed is set=8, random_state=1989 will be ignored. Current value: seed=8\n",
      "[LightGBM] [Warning] bagging_freq is set=3, subsample_freq=0 will be ignored. Current value: bagging_freq=3\n",
      "[500]\ttraining's multi_logloss: 0.982513\ttraining's macroF1: 0.548895\tvalid_1's multi_logloss: 1.01398\tvalid_1's macroF1: 0.42537\n",
      "[1000]\ttraining's multi_logloss: 0.884115\ttraining's macroF1: 0.609511\tvalid_1's multi_logloss: 1.00914\tvalid_1's macroF1: 0.4174\n",
      "******************** Execution ended in 00h 01m 02.62s ********************\n",
      "============================== 3 of 5 folds ==============================\n",
      "[LightGBM] [Warning] seed is set=8, random_state=1989 will be ignored. Current value: seed=8\n",
      "[LightGBM] [Warning] bagging_freq is set=3, subsample_freq=0 will be ignored. Current value: bagging_freq=3\n",
      "[500]\ttraining's multi_logloss: 0.972683\ttraining's macroF1: 0.555895\tvalid_1's multi_logloss: 1.08264\tvalid_1's macroF1: 0.404176\n",
      "******************** Execution ended in 00h 00m 31.50s ********************\n",
      "============================== 4 of 5 folds ==============================\n",
      "[LightGBM] [Warning] seed is set=8, random_state=1989 will be ignored. Current value: seed=8\n",
      "[LightGBM] [Warning] bagging_freq is set=3, subsample_freq=0 will be ignored. Current value: bagging_freq=3\n",
      "[500]\ttraining's multi_logloss: 0.974385\ttraining's macroF1: 0.567301\tvalid_1's multi_logloss: 1.07638\tvalid_1's macroF1: 0.381605\n",
      "[1000]\ttraining's multi_logloss: 0.873859\ttraining's macroF1: 0.607382\tvalid_1's multi_logloss: 1.07604\tvalid_1's macroF1: 0.389503\n",
      "******************** Execution ended in 00h 01m 10.99s ********************\n",
      "============================== 5 of 5 folds ==============================\n",
      "[LightGBM] [Warning] seed is set=8, random_state=1989 will be ignored. Current value: seed=8\n",
      "[LightGBM] [Warning] bagging_freq is set=3, subsample_freq=0 will be ignored. Current value: bagging_freq=3\n",
      "[500]\ttraining's multi_logloss: 0.972424\ttraining's macroF1: 0.563294\tvalid_1's multi_logloss: 1.06065\tvalid_1's macroF1: 0.414932\n",
      "******************** Execution ended in 00h 00m 40.61s ********************\n",
      "######################################## 10 of 50 iterations ########################################\n",
      "============================== 1 of 5 folds ==============================\n",
      "[LightGBM] [Warning] seed is set=9, random_state=1989 will be ignored. Current value: seed=9\n",
      "[LightGBM] [Warning] bagging_freq is set=1, subsample_freq=0 will be ignored. Current value: bagging_freq=1\n",
      "[500]\ttraining's multi_logloss: 1.05346\ttraining's macroF1: 0.52792\tvalid_1's multi_logloss: 1.08761\tvalid_1's macroF1: 0.389964\n",
      "******************** Execution ended in 00h 00m 20.87s ********************\n",
      "============================== 2 of 5 folds ==============================\n",
      "[LightGBM] [Warning] seed is set=9, random_state=1989 will be ignored. Current value: seed=9\n",
      "[LightGBM] [Warning] bagging_freq is set=1, subsample_freq=0 will be ignored. Current value: bagging_freq=1\n",
      "[500]\ttraining's multi_logloss: 1.05314\ttraining's macroF1: 0.525472\tvalid_1's multi_logloss: 1.0469\tvalid_1's macroF1: 0.40266\n",
      "[1000]\ttraining's multi_logloss: 0.975081\ttraining's macroF1: 0.567313\tvalid_1's multi_logloss: 1.04384\tvalid_1's macroF1: 0.419969\n",
      "[1500]\ttraining's multi_logloss: 0.92306\ttraining's macroF1: 0.592311\tvalid_1's multi_logloss: 1.04332\tvalid_1's macroF1: 0.423291\n",
      "******************** Execution ended in 00h 01m 09.28s ********************\n",
      "============================== 3 of 5 folds ==============================\n",
      "[LightGBM] [Warning] seed is set=9, random_state=1989 will be ignored. Current value: seed=9\n",
      "[LightGBM] [Warning] bagging_freq is set=1, subsample_freq=0 will be ignored. Current value: bagging_freq=1\n",
      "[500]\ttraining's multi_logloss: 1.05354\ttraining's macroF1: 0.513515\tvalid_1's multi_logloss: 1.08119\tvalid_1's macroF1: 0.362086\n",
      "******************** Execution ended in 00h 00m 28.02s ********************\n",
      "============================== 4 of 5 folds ==============================\n",
      "[LightGBM] [Warning] seed is set=9, random_state=1989 will be ignored. Current value: seed=9\n",
      "[LightGBM] [Warning] bagging_freq is set=1, subsample_freq=0 will be ignored. Current value: bagging_freq=1\n",
      "[500]\ttraining's multi_logloss: 1.05055\ttraining's macroF1: 0.511283\tvalid_1's multi_logloss: 1.08314\tvalid_1's macroF1: 0.354459\n",
      "******************** Execution ended in 00h 00m 21.04s ********************\n",
      "============================== 5 of 5 folds ==============================\n",
      "[LightGBM] [Warning] seed is set=9, random_state=1989 will be ignored. Current value: seed=9\n",
      "[LightGBM] [Warning] bagging_freq is set=1, subsample_freq=0 will be ignored. Current value: bagging_freq=1\n",
      "[500]\ttraining's multi_logloss: 1.05793\ttraining's macroF1: 0.506908\tvalid_1's multi_logloss: 1.06824\tvalid_1's macroF1: 0.429965\n",
      "******************** Execution ended in 00h 00m 41.03s ********************\n",
      "######################################## 11 of 50 iterations ########################################\n",
      "============================== 1 of 5 folds ==============================\n",
      "[LightGBM] [Warning] seed is set=10, random_state=1989 will be ignored. Current value: seed=10\n",
      "[LightGBM] [Warning] bagging_freq is set=4, subsample_freq=0 will be ignored. Current value: bagging_freq=4\n",
      "[500]\ttraining's multi_logloss: 0.870343\ttraining's macroF1: 0.634135\tvalid_1's multi_logloss: 1.03306\tvalid_1's macroF1: 0.410734\n",
      "******************** Execution ended in 00h 00m 47.36s ********************\n",
      "============================== 2 of 5 folds ==============================\n",
      "[LightGBM] [Warning] seed is set=10, random_state=1989 will be ignored. Current value: seed=10\n",
      "[LightGBM] [Warning] bagging_freq is set=4, subsample_freq=0 will be ignored. Current value: bagging_freq=4\n",
      "[500]\ttraining's multi_logloss: 0.857724\ttraining's macroF1: 0.638404\tvalid_1's multi_logloss: 1.06082\tvalid_1's macroF1: 0.396924\n",
      "******************** Execution ended in 00h 00m 37.56s ********************\n",
      "============================== 3 of 5 folds ==============================\n",
      "[LightGBM] [Warning] seed is set=10, random_state=1989 will be ignored. Current value: seed=10\n",
      "[LightGBM] [Warning] bagging_freq is set=4, subsample_freq=0 will be ignored. Current value: bagging_freq=4\n",
      "[500]\ttraining's multi_logloss: 0.855937\ttraining's macroF1: 0.631949\tvalid_1's multi_logloss: 1.03089\tvalid_1's macroF1: 0.411546\n",
      "[1000]\ttraining's multi_logloss: 0.709513\ttraining's macroF1: 0.718489\tvalid_1's multi_logloss: 1.01831\tvalid_1's macroF1: 0.40649\n",
      "******************** Execution ended in 00h 01m 13.27s ********************\n",
      "============================== 4 of 5 folds ==============================\n",
      "[LightGBM] [Warning] seed is set=10, random_state=1989 will be ignored. Current value: seed=10\n",
      "[LightGBM] [Warning] bagging_freq is set=4, subsample_freq=0 will be ignored. Current value: bagging_freq=4\n",
      "[500]\ttraining's multi_logloss: 0.85971\ttraining's macroF1: 0.62992\tvalid_1's multi_logloss: 1.02638\tvalid_1's macroF1: 0.423256\n",
      "[1000]\ttraining's multi_logloss: 0.713406\ttraining's macroF1: 0.707388\tvalid_1's multi_logloss: 1.00845\tvalid_1's macroF1: 0.436212\n",
      "******************** Execution ended in 00h 01m 02.56s ********************\n",
      "============================== 5 of 5 folds ==============================\n",
      "[LightGBM] [Warning] seed is set=10, random_state=1989 will be ignored. Current value: seed=10\n",
      "[LightGBM] [Warning] bagging_freq is set=4, subsample_freq=0 will be ignored. Current value: bagging_freq=4\n",
      "[500]\ttraining's multi_logloss: 0.871768\ttraining's macroF1: 0.656134\tvalid_1's multi_logloss: 0.993819\tvalid_1's macroF1: 0.421983\n",
      "[1000]\ttraining's multi_logloss: 0.724208\ttraining's macroF1: 0.715201\tvalid_1's multi_logloss: 0.986726\tvalid_1's macroF1: 0.413445\n",
      "******************** Execution ended in 00h 01m 06.32s ********************\n",
      "######################################## 12 of 50 iterations ########################################\n",
      "============================== 1 of 5 folds ==============================\n",
      "[LightGBM] [Warning] seed is set=11, random_state=1989 will be ignored. Current value: seed=11\n",
      "[LightGBM] [Warning] bagging_freq is set=1, subsample_freq=0 will be ignored. Current value: bagging_freq=1\n",
      "[500]\ttraining's multi_logloss: 1.04597\ttraining's macroF1: 0.525181\tvalid_1's multi_logloss: 1.10748\tvalid_1's macroF1: 0.37239\n",
      "******************** Execution ended in 00h 00m 47.28s ********************\n",
      "============================== 2 of 5 folds ==============================\n",
      "[LightGBM] [Warning] seed is set=11, random_state=1989 will be ignored. Current value: seed=11\n",
      "[LightGBM] [Warning] bagging_freq is set=1, subsample_freq=0 will be ignored. Current value: bagging_freq=1\n",
      "[500]\ttraining's multi_logloss: 1.05466\ttraining's macroF1: 0.518893\tvalid_1's multi_logloss: 1.06415\tvalid_1's macroF1: 0.392017\n",
      "[1000]\ttraining's multi_logloss: 0.975116\ttraining's macroF1: 0.555625\tvalid_1's multi_logloss: 1.06031\tvalid_1's macroF1: 0.394356\n",
      "******************** Execution ended in 00h 01m 00.34s ********************\n",
      "============================== 3 of 5 folds ==============================\n",
      "[LightGBM] [Warning] seed is set=11, random_state=1989 will be ignored. Current value: seed=11\n",
      "[LightGBM] [Warning] bagging_freq is set=1, subsample_freq=0 will be ignored. Current value: bagging_freq=1\n",
      "[500]\ttraining's multi_logloss: 1.06728\ttraining's macroF1: 0.512528\tvalid_1's multi_logloss: 1.06341\tvalid_1's macroF1: 0.419777\n",
      "******************** Execution ended in 00h 00m 36.77s ********************\n",
      "============================== 4 of 5 folds ==============================\n",
      "[LightGBM] [Warning] seed is set=11, random_state=1989 will be ignored. Current value: seed=11\n",
      "[LightGBM] [Warning] bagging_freq is set=1, subsample_freq=0 will be ignored. Current value: bagging_freq=1\n",
      "[500]\ttraining's multi_logloss: 1.06365\ttraining's macroF1: 0.507873\tvalid_1's multi_logloss: 1.0541\tvalid_1's macroF1: 0.395331\n",
      "******************** Execution ended in 00h 00m 37.03s ********************\n",
      "============================== 5 of 5 folds ==============================\n",
      "[LightGBM] [Warning] seed is set=11, random_state=1989 will be ignored. Current value: seed=11\n",
      "[LightGBM] [Warning] bagging_freq is set=1, subsample_freq=0 will be ignored. Current value: bagging_freq=1\n",
      "[500]\ttraining's multi_logloss: 1.06646\ttraining's macroF1: 0.510929\tvalid_1's multi_logloss: 1.04362\tvalid_1's macroF1: 0.422628\n",
      "******************** Execution ended in 00h 00m 34.08s ********************\n",
      "######################################## 13 of 50 iterations ########################################\n",
      "============================== 1 of 5 folds ==============================\n",
      "[LightGBM] [Warning] seed is set=12, random_state=1989 will be ignored. Current value: seed=12\n",
      "[LightGBM] [Warning] bagging_freq is set=2, subsample_freq=0 will be ignored. Current value: bagging_freq=2\n",
      "[500]\ttraining's multi_logloss: 1.03747\ttraining's macroF1: 0.517383\tvalid_1's multi_logloss: 1.06631\tvalid_1's macroF1: 0.408942\n",
      "******************** Execution ended in 00h 00m 39.42s ********************\n",
      "============================== 2 of 5 folds ==============================\n",
      "[LightGBM] [Warning] seed is set=12, random_state=1989 will be ignored. Current value: seed=12\n",
      "[LightGBM] [Warning] bagging_freq is set=2, subsample_freq=0 will be ignored. Current value: bagging_freq=2\n",
      "[500]\ttraining's multi_logloss: 1.04421\ttraining's macroF1: 0.519453\tvalid_1's multi_logloss: 1.08769\tvalid_1's macroF1: 0.411771\n",
      "[1000]\ttraining's multi_logloss: 0.964994\ttraining's macroF1: 0.559013\tvalid_1's multi_logloss: 1.08465\tvalid_1's macroF1: 0.404867\n",
      "******************** Execution ended in 00h 00m 56.11s ********************\n",
      "============================== 3 of 5 folds ==============================\n",
      "[LightGBM] [Warning] seed is set=12, random_state=1989 will be ignored. Current value: seed=12\n",
      "[LightGBM] [Warning] bagging_freq is set=2, subsample_freq=0 will be ignored. Current value: bagging_freq=2\n",
      "[500]\ttraining's multi_logloss: 1.0336\ttraining's macroF1: 0.523427\tvalid_1's multi_logloss: 1.11096\tvalid_1's macroF1: 0.364428\n",
      "******************** Execution ended in 00h 00m 32.23s ********************\n",
      "============================== 4 of 5 folds ==============================\n",
      "[LightGBM] [Warning] seed is set=12, random_state=1989 will be ignored. Current value: seed=12\n",
      "[LightGBM] [Warning] bagging_freq is set=2, subsample_freq=0 will be ignored. Current value: bagging_freq=2\n",
      "[500]\ttraining's multi_logloss: 1.03865\ttraining's macroF1: 0.525769\tvalid_1's multi_logloss: 1.0574\tvalid_1's macroF1: 0.400579\n",
      "******************** Execution ended in 00h 00m 42.88s ********************\n",
      "============================== 5 of 5 folds ==============================\n",
      "[LightGBM] [Warning] seed is set=12, random_state=1989 will be ignored. Current value: seed=12\n",
      "[LightGBM] [Warning] bagging_freq is set=2, subsample_freq=0 will be ignored. Current value: bagging_freq=2\n",
      "[500]\ttraining's multi_logloss: 1.03367\ttraining's macroF1: 0.513149\tvalid_1's multi_logloss: 1.07838\tvalid_1's macroF1: 0.413781\n",
      "******************** Execution ended in 00h 00m 56.05s ********************\n",
      "######################################## 14 of 50 iterations ########################################\n",
      "============================== 1 of 5 folds ==============================\n",
      "[LightGBM] [Warning] seed is set=13, random_state=1989 will be ignored. Current value: seed=13\n",
      "[LightGBM] [Warning] bagging_freq is set=4, subsample_freq=0 will be ignored. Current value: bagging_freq=4\n",
      "[500]\ttraining's multi_logloss: 1.04477\ttraining's macroF1: 0.527896\tvalid_1's multi_logloss: 1.13573\tvalid_1's macroF1: 0.359928\n",
      "[1000]\ttraining's multi_logloss: 0.965398\ttraining's macroF1: 0.565752\tvalid_1's multi_logloss: 1.13249\tvalid_1's macroF1: 0.378384\n",
      "******************** Execution ended in 00h 00m 54.93s ********************\n",
      "============================== 2 of 5 folds ==============================\n",
      "[LightGBM] [Warning] seed is set=13, random_state=1989 will be ignored. Current value: seed=13\n",
      "[LightGBM] [Warning] bagging_freq is set=4, subsample_freq=0 will be ignored. Current value: bagging_freq=4\n",
      "[500]\ttraining's multi_logloss: 1.0626\ttraining's macroF1: 0.51568\tvalid_1's multi_logloss: 1.03835\tvalid_1's macroF1: 0.393826\n",
      "******************** Execution ended in 00h 00m 24.43s ********************\n",
      "============================== 3 of 5 folds ==============================\n",
      "[LightGBM] [Warning] seed is set=13, random_state=1989 will be ignored. Current value: seed=13\n",
      "[LightGBM] [Warning] bagging_freq is set=4, subsample_freq=0 will be ignored. Current value: bagging_freq=4\n",
      "[500]\ttraining's multi_logloss: 1.05134\ttraining's macroF1: 0.52058\tvalid_1's multi_logloss: 1.07377\tvalid_1's macroF1: 0.398348\n",
      "[1000]\ttraining's multi_logloss: 0.972098\ttraining's macroF1: 0.556788\tvalid_1's multi_logloss: 1.07329\tvalid_1's macroF1: 0.39848\n",
      "******************** Execution ended in 00h 00m 46.20s ********************\n",
      "============================== 4 of 5 folds ==============================\n",
      "[LightGBM] [Warning] seed is set=13, random_state=1989 will be ignored. Current value: seed=13\n",
      "[LightGBM] [Warning] bagging_freq is set=4, subsample_freq=0 will be ignored. Current value: bagging_freq=4\n",
      "[500]\ttraining's multi_logloss: 1.05052\ttraining's macroF1: 0.517852\tvalid_1's multi_logloss: 1.04415\tvalid_1's macroF1: 0.396773\n",
      "[1000]\ttraining's multi_logloss: 0.968536\ttraining's macroF1: 0.557905\tvalid_1's multi_logloss: 1.03098\tvalid_1's macroF1: 0.395188\n",
      "******************** Execution ended in 00h 00m 50.13s ********************\n",
      "============================== 5 of 5 folds ==============================\n",
      "[LightGBM] [Warning] seed is set=13, random_state=1989 will be ignored. Current value: seed=13\n",
      "[LightGBM] [Warning] bagging_freq is set=4, subsample_freq=0 will be ignored. Current value: bagging_freq=4\n",
      "[500]\ttraining's multi_logloss: 1.05803\ttraining's macroF1: 0.503753\tvalid_1's multi_logloss: 1.07186\tvalid_1's macroF1: 0.41917\n",
      "******************** Execution ended in 00h 00m 44.22s ********************\n",
      "######################################## 15 of 50 iterations ########################################\n",
      "============================== 1 of 5 folds ==============================\n",
      "[LightGBM] [Warning] seed is set=14, random_state=1989 will be ignored. Current value: seed=14\n",
      "[LightGBM] [Warning] bagging_freq is set=2, subsample_freq=0 will be ignored. Current value: bagging_freq=2\n",
      "[500]\ttraining's multi_logloss: 1.04512\ttraining's macroF1: 0.524138\tvalid_1's multi_logloss: 1.07321\tvalid_1's macroF1: 0.36222\n",
      "******************** Execution ended in 00h 00m 29.57s ********************\n",
      "============================== 2 of 5 folds ==============================\n",
      "[LightGBM] [Warning] seed is set=14, random_state=1989 will be ignored. Current value: seed=14\n",
      "[LightGBM] [Warning] bagging_freq is set=2, subsample_freq=0 will be ignored. Current value: bagging_freq=2\n",
      "[500]\ttraining's multi_logloss: 1.05498\ttraining's macroF1: 0.509422\tvalid_1's multi_logloss: 1.06739\tvalid_1's macroF1: 0.39245\n",
      "******************** Execution ended in 00h 00m 23.82s ********************\n",
      "============================== 3 of 5 folds ==============================\n",
      "[LightGBM] [Warning] seed is set=14, random_state=1989 will be ignored. Current value: seed=14\n",
      "[LightGBM] [Warning] bagging_freq is set=2, subsample_freq=0 will be ignored. Current value: bagging_freq=2\n",
      "[500]\ttraining's multi_logloss: 1.06921\ttraining's macroF1: 0.509853\tvalid_1's multi_logloss: 1.04465\tvalid_1's macroF1: 0.405711\n",
      "[1000]\ttraining's multi_logloss: 0.999668\ttraining's macroF1: 0.541213\tvalid_1's multi_logloss: 1.02709\tvalid_1's macroF1: 0.417313\n",
      "[1500]\ttraining's multi_logloss: 0.952356\ttraining's macroF1: 0.564069\tvalid_1's multi_logloss: 1.02047\tvalid_1's macroF1: 0.416032\n",
      "******************** Execution ended in 00h 01m 08.97s ********************\n",
      "============================== 4 of 5 folds ==============================\n",
      "[LightGBM] [Warning] seed is set=14, random_state=1989 will be ignored. Current value: seed=14\n",
      "[LightGBM] [Warning] bagging_freq is set=2, subsample_freq=0 will be ignored. Current value: bagging_freq=2\n",
      "[500]\ttraining's multi_logloss: 1.04627\ttraining's macroF1: 0.517215\tvalid_1's multi_logloss: 1.12287\tvalid_1's macroF1: 0.374123\n",
      "******************** Execution ended in 00h 00m 29.10s ********************\n",
      "============================== 5 of 5 folds ==============================\n",
      "[LightGBM] [Warning] seed is set=14, random_state=1989 will be ignored. Current value: seed=14\n",
      "[LightGBM] [Warning] bagging_freq is set=2, subsample_freq=0 will be ignored. Current value: bagging_freq=2\n",
      "[500]\ttraining's multi_logloss: 1.05367\ttraining's macroF1: 0.508556\tvalid_1's multi_logloss: 1.10076\tvalid_1's macroF1: 0.387571\n",
      "******************** Execution ended in 00h 00m 24.58s ********************\n",
      "######################################## 16 of 50 iterations ########################################\n",
      "============================== 1 of 5 folds ==============================\n",
      "[LightGBM] [Warning] seed is set=15, random_state=1989 will be ignored. Current value: seed=15\n",
      "[LightGBM] [Warning] bagging_freq is set=4, subsample_freq=0 will be ignored. Current value: bagging_freq=4\n",
      "[500]\ttraining's multi_logloss: 1.00652\ttraining's macroF1: 0.534615\tvalid_1's multi_logloss: 1.09512\tvalid_1's macroF1: 0.376772\n",
      "******************** Execution ended in 00h 00m 34.78s ********************\n",
      "============================== 2 of 5 folds ==============================\n",
      "[LightGBM] [Warning] seed is set=15, random_state=1989 will be ignored. Current value: seed=15\n",
      "[LightGBM] [Warning] bagging_freq is set=4, subsample_freq=0 will be ignored. Current value: bagging_freq=4\n",
      "[500]\ttraining's multi_logloss: 1.01628\ttraining's macroF1: 0.528696\tvalid_1's multi_logloss: 1.06709\tvalid_1's macroF1: 0.381232\n",
      "******************** Execution ended in 00h 00m 28.13s ********************\n",
      "============================== 3 of 5 folds ==============================\n",
      "[LightGBM] [Warning] seed is set=15, random_state=1989 will be ignored. Current value: seed=15\n",
      "[LightGBM] [Warning] bagging_freq is set=4, subsample_freq=0 will be ignored. Current value: bagging_freq=4\n",
      "[500]\ttraining's multi_logloss: 1.02239\ttraining's macroF1: 0.533429\tvalid_1's multi_logloss: 1.04241\tvalid_1's macroF1: 0.405377\n",
      "******************** Execution ended in 00h 00m 32.65s ********************\n",
      "============================== 4 of 5 folds ==============================\n",
      "[LightGBM] [Warning] seed is set=15, random_state=1989 will be ignored. Current value: seed=15\n",
      "[LightGBM] [Warning] bagging_freq is set=4, subsample_freq=0 will be ignored. Current value: bagging_freq=4\n",
      "[500]\ttraining's multi_logloss: 1.01034\ttraining's macroF1: 0.536829\tvalid_1's multi_logloss: 1.13051\tvalid_1's macroF1: 0.382907\n",
      "******************** Execution ended in 00h 00m 31.93s ********************\n",
      "============================== 5 of 5 folds ==============================\n",
      "[LightGBM] [Warning] seed is set=15, random_state=1989 will be ignored. Current value: seed=15\n",
      "[LightGBM] [Warning] bagging_freq is set=4, subsample_freq=0 will be ignored. Current value: bagging_freq=4\n",
      "[500]\ttraining's multi_logloss: 1.01485\ttraining's macroF1: 0.536167\tvalid_1's multi_logloss: 1.03845\tvalid_1's macroF1: 0.393194\n",
      "******************** Execution ended in 00h 00m 34.78s ********************\n",
      "######################################## 17 of 50 iterations ########################################\n",
      "============================== 1 of 5 folds ==============================\n",
      "[LightGBM] [Warning] seed is set=16, random_state=1989 will be ignored. Current value: seed=16\n",
      "[LightGBM] [Warning] bagging_freq is set=3, subsample_freq=0 will be ignored. Current value: bagging_freq=3\n",
      "[500]\ttraining's multi_logloss: 1.16334\ttraining's macroF1: 0.466845\tvalid_1's multi_logloss: 1.13725\tvalid_1's macroF1: 0.376556\n",
      "[1000]\ttraining's multi_logloss: 1.10153\ttraining's macroF1: 0.49235\tvalid_1's multi_logloss: 1.10179\tvalid_1's macroF1: 0.386466\n",
      "[1500]\ttraining's multi_logloss: 1.06601\ttraining's macroF1: 0.503481\tvalid_1's multi_logloss: 1.09428\tvalid_1's macroF1: 0.392969\n",
      "******************** Execution ended in 00h 01m 27.69s ********************\n",
      "============================== 2 of 5 folds ==============================\n",
      "[LightGBM] [Warning] seed is set=16, random_state=1989 will be ignored. Current value: seed=16\n",
      "[LightGBM] [Warning] bagging_freq is set=3, subsample_freq=0 will be ignored. Current value: bagging_freq=3\n",
      "[500]\ttraining's multi_logloss: 1.16228\ttraining's macroF1: 0.467892\tvalid_1's multi_logloss: 1.10207\tvalid_1's macroF1: 0.40249\n",
      "******************** Execution ended in 00h 00m 36.23s ********************\n",
      "============================== 3 of 5 folds ==============================\n",
      "[LightGBM] [Warning] seed is set=16, random_state=1989 will be ignored. Current value: seed=16\n",
      "[LightGBM] [Warning] bagging_freq is set=3, subsample_freq=0 will be ignored. Current value: bagging_freq=3\n",
      "[500]\ttraining's multi_logloss: 1.16889\ttraining's macroF1: 0.464529\tvalid_1's multi_logloss: 1.13161\tvalid_1's macroF1: 0.365446\n",
      "******************** Execution ended in 00h 00m 29.74s ********************\n",
      "============================== 4 of 5 folds ==============================\n",
      "[LightGBM] [Warning] seed is set=16, random_state=1989 will be ignored. Current value: seed=16\n",
      "[LightGBM] [Warning] bagging_freq is set=3, subsample_freq=0 will be ignored. Current value: bagging_freq=3\n",
      "[500]\ttraining's multi_logloss: 1.15951\ttraining's macroF1: 0.470016\tvalid_1's multi_logloss: 1.1391\tvalid_1's macroF1: 0.371053\n",
      "[1000]\ttraining's multi_logloss: 1.09482\ttraining's macroF1: 0.497347\tvalid_1's multi_logloss: 1.10551\tvalid_1's macroF1: 0.362683\n",
      "******************** Execution ended in 00h 00m 44.40s ********************\n",
      "============================== 5 of 5 folds ==============================\n",
      "[LightGBM] [Warning] seed is set=16, random_state=1989 will be ignored. Current value: seed=16\n",
      "[LightGBM] [Warning] bagging_freq is set=3, subsample_freq=0 will be ignored. Current value: bagging_freq=3\n",
      "[500]\ttraining's multi_logloss: 1.16973\ttraining's macroF1: 0.463203\tvalid_1's multi_logloss: 1.10987\tvalid_1's macroF1: 0.399844\n",
      "[1000]\ttraining's multi_logloss: 1.10424\ttraining's macroF1: 0.493705\tvalid_1's multi_logloss: 1.07281\tvalid_1's macroF1: 0.399444\n",
      "******************** Execution ended in 00h 01m 00.49s ********************\n",
      "######################################## 18 of 50 iterations ########################################\n",
      "============================== 1 of 5 folds ==============================\n",
      "[LightGBM] [Warning] seed is set=17, random_state=1989 will be ignored. Current value: seed=17\n",
      "[LightGBM] [Warning] bagging_freq is set=3, subsample_freq=0 will be ignored. Current value: bagging_freq=3\n",
      "[500]\ttraining's multi_logloss: 1.01395\ttraining's macroF1: 0.530603\tvalid_1's multi_logloss: 1.07309\tvalid_1's macroF1: 0.370761\n",
      "******************** Execution ended in 00h 00m 33.37s ********************\n",
      "============================== 2 of 5 folds ==============================\n",
      "[LightGBM] [Warning] seed is set=17, random_state=1989 will be ignored. Current value: seed=17\n",
      "[LightGBM] [Warning] bagging_freq is set=3, subsample_freq=0 will be ignored. Current value: bagging_freq=3\n",
      "[500]\ttraining's multi_logloss: 1.02035\ttraining's macroF1: 0.535681\tvalid_1's multi_logloss: 1.02994\tvalid_1's macroF1: 0.413149\n",
      "******************** Execution ended in 00h 00m 38.57s ********************\n",
      "============================== 3 of 5 folds ==============================\n",
      "[LightGBM] [Warning] seed is set=17, random_state=1989 will be ignored. Current value: seed=17\n",
      "[LightGBM] [Warning] bagging_freq is set=3, subsample_freq=0 will be ignored. Current value: bagging_freq=3\n",
      "[500]\ttraining's multi_logloss: 1.01578\ttraining's macroF1: 0.529274\tvalid_1's multi_logloss: 1.0753\tvalid_1's macroF1: 0.396266\n",
      "[1000]\ttraining's multi_logloss: 0.931236\ttraining's macroF1: 0.578589\tvalid_1's multi_logloss: 1.06432\tvalid_1's macroF1: 0.37485\n",
      "******************** Execution ended in 00h 00m 51.17s ********************\n",
      "============================== 4 of 5 folds ==============================\n",
      "[LightGBM] [Warning] seed is set=17, random_state=1989 will be ignored. Current value: seed=17\n",
      "[LightGBM] [Warning] bagging_freq is set=3, subsample_freq=0 will be ignored. Current value: bagging_freq=3\n",
      "[500]\ttraining's multi_logloss: 1.01631\ttraining's macroF1: 0.539011\tvalid_1's multi_logloss: 1.06236\tvalid_1's macroF1: 0.40636\n",
      "******************** Execution ended in 00h 00m 40.30s ********************\n",
      "============================== 5 of 5 folds ==============================\n",
      "[LightGBM] [Warning] seed is set=17, random_state=1989 will be ignored. Current value: seed=17\n",
      "[LightGBM] [Warning] bagging_freq is set=3, subsample_freq=0 will be ignored. Current value: bagging_freq=3\n",
      "[500]\ttraining's multi_logloss: 1.00761\ttraining's macroF1: 0.5367\tvalid_1's multi_logloss: 1.10778\tvalid_1's macroF1: 0.402476\n",
      "[1000]\ttraining's multi_logloss: 0.918986\ttraining's macroF1: 0.574303\tvalid_1's multi_logloss: 1.11262\tvalid_1's macroF1: 0.398231\n",
      "******************** Execution ended in 00h 00m 49.22s ********************\n",
      "######################################## 19 of 50 iterations ########################################\n",
      "============================== 1 of 5 folds ==============================\n",
      "[LightGBM] [Warning] seed is set=18, random_state=1989 will be ignored. Current value: seed=18\n",
      "[LightGBM] [Warning] bagging_freq is set=3, subsample_freq=0 will be ignored. Current value: bagging_freq=3\n",
      "[500]\ttraining's multi_logloss: 1.02279\ttraining's macroF1: 0.537663\tvalid_1's multi_logloss: 1.01809\tvalid_1's macroF1: 0.453732\n",
      "******************** Execution ended in 00h 00m 28.70s ********************\n",
      "============================== 2 of 5 folds ==============================\n",
      "[LightGBM] [Warning] seed is set=18, random_state=1989 will be ignored. Current value: seed=18\n",
      "[LightGBM] [Warning] bagging_freq is set=3, subsample_freq=0 will be ignored. Current value: bagging_freq=3\n",
      "[500]\ttraining's multi_logloss: 1.00437\ttraining's macroF1: 0.544961\tvalid_1's multi_logloss: 1.06994\tvalid_1's macroF1: 0.387132\n",
      "[1000]\ttraining's multi_logloss: 0.909593\ttraining's macroF1: 0.594499\tvalid_1's multi_logloss: 1.07204\tvalid_1's macroF1: 0.369531\n",
      "******************** Execution ended in 00h 00m 45.23s ********************\n",
      "============================== 3 of 5 folds ==============================\n",
      "[LightGBM] [Warning] seed is set=18, random_state=1989 will be ignored. Current value: seed=18\n",
      "[LightGBM] [Warning] bagging_freq is set=3, subsample_freq=0 will be ignored. Current value: bagging_freq=3\n",
      "[500]\ttraining's multi_logloss: 1.0187\ttraining's macroF1: 0.542761\tvalid_1's multi_logloss: 1.03021\tvalid_1's macroF1: 0.413683\n",
      "******************** Execution ended in 00h 00m 31.26s ********************\n",
      "============================== 4 of 5 folds ==============================\n",
      "[LightGBM] [Warning] seed is set=18, random_state=1989 will be ignored. Current value: seed=18\n",
      "[LightGBM] [Warning] bagging_freq is set=3, subsample_freq=0 will be ignored. Current value: bagging_freq=3\n",
      "[500]\ttraining's multi_logloss: 1.01803\ttraining's macroF1: 0.542907\tvalid_1's multi_logloss: 1.09045\tvalid_1's macroF1: 0.394424\n",
      "[1000]\ttraining's multi_logloss: 0.927199\ttraining's macroF1: 0.580254\tvalid_1's multi_logloss: 1.08104\tvalid_1's macroF1: 0.38669\n",
      "******************** Execution ended in 00h 00m 52.74s ********************\n",
      "============================== 5 of 5 folds ==============================\n",
      "[LightGBM] [Warning] seed is set=18, random_state=1989 will be ignored. Current value: seed=18\n",
      "[LightGBM] [Warning] bagging_freq is set=3, subsample_freq=0 will be ignored. Current value: bagging_freq=3\n",
      "[500]\ttraining's multi_logloss: 1.00071\ttraining's macroF1: 0.54083\tvalid_1's multi_logloss: 1.07333\tvalid_1's macroF1: 0.398585\n",
      "[1000]\ttraining's multi_logloss: 0.905957\ttraining's macroF1: 0.588465\tvalid_1's multi_logloss: 1.07523\tvalid_1's macroF1: 0.399311\n",
      "******************** Execution ended in 00h 00m 50.92s ********************\n",
      "######################################## 20 of 50 iterations ########################################\n",
      "============================== 1 of 5 folds ==============================\n",
      "[LightGBM] [Warning] seed is set=19, random_state=1989 will be ignored. Current value: seed=19\n",
      "[LightGBM] [Warning] bagging_freq is set=4, subsample_freq=0 will be ignored. Current value: bagging_freq=4\n",
      "[500]\ttraining's multi_logloss: 0.86793\ttraining's macroF1: 0.620988\tvalid_1's multi_logloss: 1.01895\tvalid_1's macroF1: 0.399319\n",
      "******************** Execution ended in 00h 00m 53.01s ********************\n",
      "============================== 2 of 5 folds ==============================\n",
      "[LightGBM] [Warning] seed is set=19, random_state=1989 will be ignored. Current value: seed=19\n",
      "[LightGBM] [Warning] bagging_freq is set=4, subsample_freq=0 will be ignored. Current value: bagging_freq=4\n",
      "[500]\ttraining's multi_logloss: 0.858038\ttraining's macroF1: 0.634789\tvalid_1's multi_logloss: 1.07126\tvalid_1's macroF1: 0.381368\n",
      "******************** Execution ended in 00h 00m 30.04s ********************\n",
      "============================== 3 of 5 folds ==============================\n",
      "[LightGBM] [Warning] seed is set=19, random_state=1989 will be ignored. Current value: seed=19\n",
      "[LightGBM] [Warning] bagging_freq is set=4, subsample_freq=0 will be ignored. Current value: bagging_freq=4\n",
      "[500]\ttraining's multi_logloss: 0.863912\ttraining's macroF1: 0.622805\tvalid_1's multi_logloss: 1.0416\tvalid_1's macroF1: 0.403288\n",
      "******************** Execution ended in 00h 00m 41.89s ********************\n",
      "============================== 4 of 5 folds ==============================\n",
      "[LightGBM] [Warning] seed is set=19, random_state=1989 will be ignored. Current value: seed=19\n",
      "[LightGBM] [Warning] bagging_freq is set=4, subsample_freq=0 will be ignored. Current value: bagging_freq=4\n",
      "[500]\ttraining's multi_logloss: 0.861549\ttraining's macroF1: 0.639073\tvalid_1's multi_logloss: 1.02262\tvalid_1's macroF1: 0.404699\n",
      "[1000]\ttraining's multi_logloss: 0.736698\ttraining's macroF1: 0.697727\tvalid_1's multi_logloss: 1.02022\tvalid_1's macroF1: 0.414356\n",
      "[1500]\ttraining's multi_logloss: 0.658694\ttraining's macroF1: 0.737129\tvalid_1's multi_logloss: 1.02089\tvalid_1's macroF1: 0.412283\n",
      "******************** Execution ended in 00h 01m 20.78s ********************\n",
      "============================== 5 of 5 folds ==============================\n",
      "[LightGBM] [Warning] seed is set=19, random_state=1989 will be ignored. Current value: seed=19\n",
      "[LightGBM] [Warning] bagging_freq is set=4, subsample_freq=0 will be ignored. Current value: bagging_freq=4\n",
      "[500]\ttraining's multi_logloss: 0.875194\ttraining's macroF1: 0.602997\tvalid_1's multi_logloss: 1.05224\tvalid_1's macroF1: 0.419146\n",
      "******************** Execution ended in 00h 00m 57.19s ********************\n",
      "######################################## 21 of 50 iterations ########################################\n",
      "============================== 1 of 5 folds ==============================\n",
      "[LightGBM] [Warning] seed is set=20, random_state=1989 will be ignored. Current value: seed=20\n",
      "[LightGBM] [Warning] bagging_freq is set=4, subsample_freq=0 will be ignored. Current value: bagging_freq=4\n",
      "[500]\ttraining's multi_logloss: 1.18635\ttraining's macroF1: 0.464928\tvalid_1's multi_logloss: 1.15782\tvalid_1's macroF1: 0.398267\n",
      "[1000]\ttraining's multi_logloss: 1.11927\ttraining's macroF1: 0.486586\tvalid_1's multi_logloss: 1.11206\tvalid_1's macroF1: 0.404221\n",
      "******************** Execution ended in 00h 01m 02.23s ********************\n",
      "============================== 2 of 5 folds ==============================\n",
      "[LightGBM] [Warning] seed is set=20, random_state=1989 will be ignored. Current value: seed=20\n",
      "[LightGBM] [Warning] bagging_freq is set=4, subsample_freq=0 will be ignored. Current value: bagging_freq=4\n",
      "[500]\ttraining's multi_logloss: 1.19406\ttraining's macroF1: 0.458452\tvalid_1's multi_logloss: 1.13916\tvalid_1's macroF1: 0.439859\n",
      "******************** Execution ended in 00h 00m 51.66s ********************\n",
      "============================== 3 of 5 folds ==============================\n",
      "[LightGBM] [Warning] seed is set=20, random_state=1989 will be ignored. Current value: seed=20\n",
      "[LightGBM] [Warning] bagging_freq is set=4, subsample_freq=0 will be ignored. Current value: bagging_freq=4\n",
      "[500]\ttraining's multi_logloss: 1.18982\ttraining's macroF1: 0.456913\tvalid_1's multi_logloss: 1.12937\tvalid_1's macroF1: 0.398808\n",
      "[1000]\ttraining's multi_logloss: 1.12249\ttraining's macroF1: 0.486097\tvalid_1's multi_logloss: 1.07141\tvalid_1's macroF1: 0.407856\n",
      "[1500]\ttraining's multi_logloss: 1.08383\ttraining's macroF1: 0.495463\tvalid_1's multi_logloss: 1.05345\tvalid_1's macroF1: 0.403414\n",
      "[2000]\ttraining's multi_logloss: 1.05614\ttraining's macroF1: 0.510591\tvalid_1's multi_logloss: 1.04623\tvalid_1's macroF1: 0.416753\n",
      "******************** Execution ended in 00h 02m 03.90s ********************\n",
      "============================== 4 of 5 folds ==============================\n",
      "[LightGBM] [Warning] seed is set=20, random_state=1989 will be ignored. Current value: seed=20\n",
      "[LightGBM] [Warning] bagging_freq is set=4, subsample_freq=0 will be ignored. Current value: bagging_freq=4\n",
      "[500]\ttraining's multi_logloss: 1.19198\ttraining's macroF1: 0.453407\tvalid_1's multi_logloss: 1.15996\tvalid_1's macroF1: 0.365105\n",
      "******************** Execution ended in 00h 00m 39.78s ********************\n",
      "============================== 5 of 5 folds ==============================\n",
      "[LightGBM] [Warning] seed is set=20, random_state=1989 will be ignored. Current value: seed=20\n",
      "[LightGBM] [Warning] bagging_freq is set=4, subsample_freq=0 will be ignored. Current value: bagging_freq=4\n",
      "[500]\ttraining's multi_logloss: 1.1947\ttraining's macroF1: 0.458948\tvalid_1's multi_logloss: 1.1376\tvalid_1's macroF1: 0.394107\n",
      "******************** Execution ended in 00h 00m 31.02s ********************\n",
      "######################################## 22 of 50 iterations ########################################\n",
      "============================== 1 of 5 folds ==============================\n",
      "[LightGBM] [Warning] seed is set=21, random_state=1989 will be ignored. Current value: seed=21\n",
      "[LightGBM] [Warning] bagging_freq is set=3, subsample_freq=0 will be ignored. Current value: bagging_freq=3\n",
      "[500]\ttraining's multi_logloss: 1.0494\ttraining's macroF1: 0.505453\tvalid_1's multi_logloss: 1.09353\tvalid_1's macroF1: 0.353282\n",
      "******************** Execution ended in 00h 00m 38.76s ********************\n",
      "============================== 2 of 5 folds ==============================\n",
      "[LightGBM] [Warning] seed is set=21, random_state=1989 will be ignored. Current value: seed=21\n",
      "[LightGBM] [Warning] bagging_freq is set=3, subsample_freq=0 will be ignored. Current value: bagging_freq=3\n",
      "[500]\ttraining's multi_logloss: 1.07434\ttraining's macroF1: 0.510994\tvalid_1's multi_logloss: 1.05013\tvalid_1's macroF1: 0.437727\n",
      "******************** Execution ended in 00h 00m 42.60s ********************\n",
      "============================== 3 of 5 folds ==============================\n",
      "[LightGBM] [Warning] seed is set=21, random_state=1989 will be ignored. Current value: seed=21\n",
      "[LightGBM] [Warning] bagging_freq is set=3, subsample_freq=0 will be ignored. Current value: bagging_freq=3\n",
      "[500]\ttraining's multi_logloss: 1.04993\ttraining's macroF1: 0.514343\tvalid_1's multi_logloss: 1.08349\tvalid_1's macroF1: 0.408061\n",
      "******************** Execution ended in 00h 00m 45.70s ********************\n",
      "============================== 4 of 5 folds ==============================\n",
      "[LightGBM] [Warning] seed is set=21, random_state=1989 will be ignored. Current value: seed=21\n",
      "[LightGBM] [Warning] bagging_freq is set=3, subsample_freq=0 will be ignored. Current value: bagging_freq=3\n",
      "[500]\ttraining's multi_logloss: 1.06005\ttraining's macroF1: 0.522666\tvalid_1's multi_logloss: 1.0712\tvalid_1's macroF1: 0.41939\n",
      "[1000]\ttraining's multi_logloss: 0.98527\ttraining's macroF1: 0.551127\tvalid_1's multi_logloss: 1.05707\tvalid_1's macroF1: 0.40916\n",
      "******************** Execution ended in 00h 00m 54.57s ********************\n",
      "============================== 5 of 5 folds ==============================\n",
      "[LightGBM] [Warning] seed is set=21, random_state=1989 will be ignored. Current value: seed=21\n",
      "[LightGBM] [Warning] bagging_freq is set=3, subsample_freq=0 will be ignored. Current value: bagging_freq=3\n",
      "[500]\ttraining's multi_logloss: 1.05961\ttraining's macroF1: 0.516556\tvalid_1's multi_logloss: 1.09095\tvalid_1's macroF1: 0.3675\n",
      "[1000]\ttraining's multi_logloss: 0.98266\ttraining's macroF1: 0.544223\tvalid_1's multi_logloss: 1.08902\tvalid_1's macroF1: 0.384588\n",
      "******************** Execution ended in 00h 01m 10.01s ********************\n",
      "######################################## 23 of 50 iterations ########################################\n",
      "============================== 1 of 5 folds ==============================\n",
      "[LightGBM] [Warning] seed is set=22, random_state=1989 will be ignored. Current value: seed=22\n",
      "[LightGBM] [Warning] bagging_freq is set=3, subsample_freq=0 will be ignored. Current value: bagging_freq=3\n",
      "[500]\ttraining's multi_logloss: 0.979802\ttraining's macroF1: 0.554667\tvalid_1's multi_logloss: 1.01112\tvalid_1's macroF1: 0.410717\n",
      "[1000]\ttraining's multi_logloss: 0.871652\ttraining's macroF1: 0.6211\tvalid_1's multi_logloss: 0.993618\tvalid_1's macroF1: 0.425654\n",
      "[1500]\ttraining's multi_logloss: 0.799319\ttraining's macroF1: 0.658395\tvalid_1's multi_logloss: 0.989725\tvalid_1's macroF1: 0.445442\n",
      "******************** Execution ended in 00h 01m 20.59s ********************\n",
      "============================== 2 of 5 folds ==============================\n",
      "[LightGBM] [Warning] seed is set=22, random_state=1989 will be ignored. Current value: seed=22\n",
      "[LightGBM] [Warning] bagging_freq is set=3, subsample_freq=0 will be ignored. Current value: bagging_freq=3\n",
      "[500]\ttraining's multi_logloss: 0.971628\ttraining's macroF1: 0.558418\tvalid_1's multi_logloss: 1.04964\tvalid_1's macroF1: 0.395913\n",
      "[1000]\ttraining's multi_logloss: 0.863172\ttraining's macroF1: 0.614377\tvalid_1's multi_logloss: 1.03435\tvalid_1's macroF1: 0.380946\n",
      "******************** Execution ended in 00h 00m 51.09s ********************\n",
      "============================== 3 of 5 folds ==============================\n",
      "[LightGBM] [Warning] seed is set=22, random_state=1989 will be ignored. Current value: seed=22\n",
      "[LightGBM] [Warning] bagging_freq is set=3, subsample_freq=0 will be ignored. Current value: bagging_freq=3\n",
      "[500]\ttraining's multi_logloss: 0.977817\ttraining's macroF1: 0.56904\tvalid_1's multi_logloss: 1.05146\tvalid_1's macroF1: 0.408926\n",
      "[1000]\ttraining's multi_logloss: 0.870531\ttraining's macroF1: 0.623853\tvalid_1's multi_logloss: 1.03731\tvalid_1's macroF1: 0.421497\n",
      "[1500]\ttraining's multi_logloss: 0.798422\ttraining's macroF1: 0.659499\tvalid_1's multi_logloss: 1.02687\tvalid_1's macroF1: 0.419385\n",
      "[2000]\ttraining's multi_logloss: 0.743354\ttraining's macroF1: 0.685076\tvalid_1's multi_logloss: 1.03118\tvalid_1's macroF1: 0.420282\n",
      "******************** Execution ended in 00h 01m 44.63s ********************\n",
      "============================== 4 of 5 folds ==============================\n",
      "[LightGBM] [Warning] seed is set=22, random_state=1989 will be ignored. Current value: seed=22\n",
      "[LightGBM] [Warning] bagging_freq is set=3, subsample_freq=0 will be ignored. Current value: bagging_freq=3\n",
      "[500]\ttraining's multi_logloss: 0.977037\ttraining's macroF1: 0.571755\tvalid_1's multi_logloss: 1.0689\tvalid_1's macroF1: 0.390164\n",
      "******************** Execution ended in 00h 00m 42.38s ********************\n",
      "============================== 5 of 5 folds ==============================\n",
      "[LightGBM] [Warning] seed is set=22, random_state=1989 will be ignored. Current value: seed=22\n",
      "[LightGBM] [Warning] bagging_freq is set=3, subsample_freq=0 will be ignored. Current value: bagging_freq=3\n",
      "[500]\ttraining's multi_logloss: 0.975437\ttraining's macroF1: 0.575209\tvalid_1's multi_logloss: 1.0709\tvalid_1's macroF1: 0.412218\n",
      "******************** Execution ended in 00h 00m 40.66s ********************\n",
      "######################################## 24 of 50 iterations ########################################\n",
      "============================== 1 of 5 folds ==============================\n",
      "[LightGBM] [Warning] seed is set=23, random_state=1989 will be ignored. Current value: seed=23\n",
      "[LightGBM] [Warning] bagging_freq is set=3, subsample_freq=0 will be ignored. Current value: bagging_freq=3\n",
      "[500]\ttraining's multi_logloss: 1.17484\ttraining's macroF1: 0.46753\tvalid_1's multi_logloss: 1.10216\tvalid_1's macroF1: 0.406869\n",
      "******************** Execution ended in 00h 00m 36.00s ********************\n",
      "============================== 2 of 5 folds ==============================\n",
      "[LightGBM] [Warning] seed is set=23, random_state=1989 will be ignored. Current value: seed=23\n",
      "[LightGBM] [Warning] bagging_freq is set=3, subsample_freq=0 will be ignored. Current value: bagging_freq=3\n",
      "[500]\ttraining's multi_logloss: 1.17695\ttraining's macroF1: 0.453523\tvalid_1's multi_logloss: 1.09745\tvalid_1's macroF1: 0.402673\n",
      "******************** Execution ended in 00h 00m 38.16s ********************\n",
      "============================== 3 of 5 folds ==============================\n",
      "[LightGBM] [Warning] seed is set=23, random_state=1989 will be ignored. Current value: seed=23\n",
      "[LightGBM] [Warning] bagging_freq is set=3, subsample_freq=0 will be ignored. Current value: bagging_freq=3\n",
      "[500]\ttraining's multi_logloss: 1.16461\ttraining's macroF1: 0.443373\tvalid_1's multi_logloss: 1.14717\tvalid_1's macroF1: 0.4008\n",
      "******************** Execution ended in 00h 00m 32.75s ********************\n",
      "============================== 4 of 5 folds ==============================\n",
      "[LightGBM] [Warning] seed is set=23, random_state=1989 will be ignored. Current value: seed=23\n",
      "[LightGBM] [Warning] bagging_freq is set=3, subsample_freq=0 will be ignored. Current value: bagging_freq=3\n",
      "[500]\ttraining's multi_logloss: 1.16872\ttraining's macroF1: 0.455131\tvalid_1's multi_logloss: 1.12122\tvalid_1's macroF1: 0.375494\n",
      "[1000]\ttraining's multi_logloss: 1.11739\ttraining's macroF1: 0.481462\tvalid_1's multi_logloss: 1.09927\tvalid_1's macroF1: 0.387715\n",
      "[1500]\ttraining's multi_logloss: 1.0869\ttraining's macroF1: 0.493642\tvalid_1's multi_logloss: 1.1001\tvalid_1's macroF1: 0.393778\n",
      "******************** Execution ended in 00h 01m 12.92s ********************\n",
      "============================== 5 of 5 folds ==============================\n",
      "[LightGBM] [Warning] seed is set=23, random_state=1989 will be ignored. Current value: seed=23\n",
      "[LightGBM] [Warning] bagging_freq is set=3, subsample_freq=0 will be ignored. Current value: bagging_freq=3\n",
      "[500]\ttraining's multi_logloss: 1.17472\ttraining's macroF1: 0.464773\tvalid_1's multi_logloss: 1.1131\tvalid_1's macroF1: 0.390115\n",
      "[1000]\ttraining's multi_logloss: 1.12377\ttraining's macroF1: 0.475933\tvalid_1's multi_logloss: 1.08703\tvalid_1's macroF1: 0.406155\n",
      "[1500]\ttraining's multi_logloss: 1.09389\ttraining's macroF1: 0.492795\tvalid_1's multi_logloss: 1.08414\tvalid_1's macroF1: 0.401749\n",
      "******************** Execution ended in 00h 00m 58.20s ********************\n",
      "######################################## 25 of 50 iterations ########################################\n",
      "============================== 1 of 5 folds ==============================\n",
      "[LightGBM] [Warning] seed is set=24, random_state=1989 will be ignored. Current value: seed=24\n",
      "[LightGBM] [Warning] bagging_freq is set=3, subsample_freq=0 will be ignored. Current value: bagging_freq=3\n",
      "[500]\ttraining's multi_logloss: 1.1213\ttraining's macroF1: 0.482617\tvalid_1's multi_logloss: 1.11927\tvalid_1's macroF1: 0.3808\n",
      "******************** Execution ended in 00h 01m 09.70s ********************\n",
      "============================== 2 of 5 folds ==============================\n",
      "[LightGBM] [Warning] seed is set=24, random_state=1989 will be ignored. Current value: seed=24\n",
      "[LightGBM] [Warning] bagging_freq is set=3, subsample_freq=0 will be ignored. Current value: bagging_freq=3\n",
      "[500]\ttraining's multi_logloss: 1.1253\ttraining's macroF1: 0.475255\tvalid_1's multi_logloss: 1.09732\tvalid_1's macroF1: 0.370735\n",
      "******************** Execution ended in 00h 00m 53.01s ********************\n",
      "============================== 3 of 5 folds ==============================\n",
      "[LightGBM] [Warning] seed is set=24, random_state=1989 will be ignored. Current value: seed=24\n",
      "[LightGBM] [Warning] bagging_freq is set=3, subsample_freq=0 will be ignored. Current value: bagging_freq=3\n",
      "[500]\ttraining's multi_logloss: 1.13069\ttraining's macroF1: 0.477968\tvalid_1's multi_logloss: 1.11805\tvalid_1's macroF1: 0.364976\n",
      "[1000]\ttraining's multi_logloss: 1.07066\ttraining's macroF1: 0.511271\tvalid_1's multi_logloss: 1.10241\tvalid_1's macroF1: 0.382255\n",
      "[1500]\ttraining's multi_logloss: 1.03284\ttraining's macroF1: 0.524528\tvalid_1's multi_logloss: 1.0995\tvalid_1's macroF1: 0.368229\n",
      "******************** Execution ended in 00h 01m 50.12s ********************\n",
      "============================== 4 of 5 folds ==============================\n",
      "[LightGBM] [Warning] seed is set=24, random_state=1989 will be ignored. Current value: seed=24\n",
      "[LightGBM] [Warning] bagging_freq is set=3, subsample_freq=0 will be ignored. Current value: bagging_freq=3\n",
      "[500]\ttraining's multi_logloss: 1.12818\ttraining's macroF1: 0.484569\tvalid_1's multi_logloss: 1.08689\tvalid_1's macroF1: 0.405929\n",
      "******************** Execution ended in 00h 01m 00.54s ********************\n",
      "============================== 5 of 5 folds ==============================\n",
      "[LightGBM] [Warning] seed is set=24, random_state=1989 will be ignored. Current value: seed=24\n",
      "[LightGBM] [Warning] bagging_freq is set=3, subsample_freq=0 will be ignored. Current value: bagging_freq=3\n",
      "[500]\ttraining's multi_logloss: 1.12231\ttraining's macroF1: 0.476765\tvalid_1's multi_logloss: 1.07514\tvalid_1's macroF1: 0.392435\n",
      "******************** Execution ended in 00h 00m 52.69s ********************\n",
      "######################################## 26 of 50 iterations ########################################\n",
      "============================== 1 of 5 folds ==============================\n",
      "[LightGBM] [Warning] seed is set=25, random_state=1989 will be ignored. Current value: seed=25\n",
      "[LightGBM] [Warning] bagging_freq is set=2, subsample_freq=0 will be ignored. Current value: bagging_freq=2\n",
      "[500]\ttraining's multi_logloss: 1.06715\ttraining's macroF1: 0.507045\tvalid_1's multi_logloss: 1.09659\tvalid_1's macroF1: 0.396536\n",
      "******************** Execution ended in 00h 00m 23.26s ********************\n",
      "============================== 2 of 5 folds ==============================\n",
      "[LightGBM] [Warning] seed is set=25, random_state=1989 will be ignored. Current value: seed=25\n",
      "[LightGBM] [Warning] bagging_freq is set=2, subsample_freq=0 will be ignored. Current value: bagging_freq=2\n",
      "[500]\ttraining's multi_logloss: 1.07671\ttraining's macroF1: 0.511091\tvalid_1's multi_logloss: 1.0701\tvalid_1's macroF1: 0.396937\n",
      "******************** Execution ended in 00h 00m 23.62s ********************\n",
      "============================== 3 of 5 folds ==============================\n",
      "[LightGBM] [Warning] seed is set=25, random_state=1989 will be ignored. Current value: seed=25\n",
      "[LightGBM] [Warning] bagging_freq is set=2, subsample_freq=0 will be ignored. Current value: bagging_freq=2\n",
      "[500]\ttraining's multi_logloss: 1.06301\ttraining's macroF1: 0.498575\tvalid_1's multi_logloss: 1.1048\tvalid_1's macroF1: 0.387067\n",
      "[1000]\ttraining's multi_logloss: 1.00071\ttraining's macroF1: 0.536891\tvalid_1's multi_logloss: 1.09965\tvalid_1's macroF1: 0.389201\n",
      "******************** Execution ended in 00h 00m 41.69s ********************\n",
      "============================== 4 of 5 folds ==============================\n",
      "[LightGBM] [Warning] seed is set=25, random_state=1989 will be ignored. Current value: seed=25\n",
      "[LightGBM] [Warning] bagging_freq is set=2, subsample_freq=0 will be ignored. Current value: bagging_freq=2\n",
      "[500]\ttraining's multi_logloss: 1.07189\ttraining's macroF1: 0.502357\tvalid_1's multi_logloss: 1.0526\tvalid_1's macroF1: 0.398531\n",
      "[1000]\ttraining's multi_logloss: 1.01128\ttraining's macroF1: 0.527565\tvalid_1's multi_logloss: 1.04277\tvalid_1's macroF1: 0.410031\n",
      "******************** Execution ended in 00h 00m 47.29s ********************\n",
      "============================== 5 of 5 folds ==============================\n",
      "[LightGBM] [Warning] seed is set=25, random_state=1989 will be ignored. Current value: seed=25\n",
      "[LightGBM] [Warning] bagging_freq is set=2, subsample_freq=0 will be ignored. Current value: bagging_freq=2\n",
      "[500]\ttraining's multi_logloss: 1.06687\ttraining's macroF1: 0.501416\tvalid_1's multi_logloss: 1.07836\tvalid_1's macroF1: 0.392377\n",
      "******************** Execution ended in 00h 00m 17.17s ********************\n",
      "######################################## 27 of 50 iterations ########################################\n",
      "============================== 1 of 5 folds ==============================\n",
      "[LightGBM] [Warning] seed is set=26, random_state=1989 will be ignored. Current value: seed=26\n",
      "[LightGBM] [Warning] bagging_freq is set=1, subsample_freq=0 will be ignored. Current value: bagging_freq=1\n",
      "[500]\ttraining's multi_logloss: 0.917396\ttraining's macroF1: 0.607928\tvalid_1's multi_logloss: 1.01347\tvalid_1's macroF1: 0.412837\n",
      "******************** Execution ended in 00h 00m 33.82s ********************\n",
      "============================== 2 of 5 folds ==============================\n",
      "[LightGBM] [Warning] seed is set=26, random_state=1989 will be ignored. Current value: seed=26\n",
      "[LightGBM] [Warning] bagging_freq is set=1, subsample_freq=0 will be ignored. Current value: bagging_freq=1\n",
      "[500]\ttraining's multi_logloss: 0.918113\ttraining's macroF1: 0.606253\tvalid_1's multi_logloss: 1.04817\tvalid_1's macroF1: 0.415003\n",
      "******************** Execution ended in 00h 00m 52.99s ********************\n",
      "============================== 3 of 5 folds ==============================\n",
      "[LightGBM] [Warning] seed is set=26, random_state=1989 will be ignored. Current value: seed=26\n",
      "[LightGBM] [Warning] bagging_freq is set=1, subsample_freq=0 will be ignored. Current value: bagging_freq=1\n",
      "[500]\ttraining's multi_logloss: 0.925094\ttraining's macroF1: 0.593343\tvalid_1's multi_logloss: 1.03545\tvalid_1's macroF1: 0.415303\n",
      "[1000]\ttraining's multi_logloss: 0.80595\ttraining's macroF1: 0.657508\tvalid_1's multi_logloss: 1.02985\tvalid_1's macroF1: 0.407348\n",
      "******************** Execution ended in 00h 01m 12.99s ********************\n",
      "============================== 4 of 5 folds ==============================\n",
      "[LightGBM] [Warning] seed is set=26, random_state=1989 will be ignored. Current value: seed=26\n",
      "[LightGBM] [Warning] bagging_freq is set=1, subsample_freq=0 will be ignored. Current value: bagging_freq=1\n",
      "[500]\ttraining's multi_logloss: 0.922395\ttraining's macroF1: 0.586779\tvalid_1's multi_logloss: 1.06208\tvalid_1's macroF1: 0.391697\n",
      "******************** Execution ended in 00h 00m 46.97s ********************\n",
      "============================== 5 of 5 folds ==============================\n",
      "[LightGBM] [Warning] seed is set=26, random_state=1989 will be ignored. Current value: seed=26\n",
      "[LightGBM] [Warning] bagging_freq is set=1, subsample_freq=0 will be ignored. Current value: bagging_freq=1\n",
      "[500]\ttraining's multi_logloss: 0.912637\ttraining's macroF1: 0.578594\tvalid_1's multi_logloss: 1.06393\tvalid_1's macroF1: 0.375482\n",
      "******************** Execution ended in 00h 00m 43.67s ********************\n",
      "######################################## 28 of 50 iterations ########################################\n",
      "============================== 1 of 5 folds ==============================\n",
      "[LightGBM] [Warning] seed is set=27, random_state=1989 will be ignored. Current value: seed=27\n",
      "[LightGBM] [Warning] bagging_freq is set=4, subsample_freq=0 will be ignored. Current value: bagging_freq=4\n",
      "[500]\ttraining's multi_logloss: 0.906654\ttraining's macroF1: 0.603492\tvalid_1's multi_logloss: 1.04482\tvalid_1's macroF1: 0.403198\n",
      "[1000]\ttraining's multi_logloss: 0.781761\ttraining's macroF1: 0.66142\tvalid_1's multi_logloss: 1.03708\tvalid_1's macroF1: 0.404642\n",
      "******************** Execution ended in 00h 01m 06.64s ********************\n",
      "============================== 2 of 5 folds ==============================\n",
      "[LightGBM] [Warning] seed is set=27, random_state=1989 will be ignored. Current value: seed=27\n",
      "[LightGBM] [Warning] bagging_freq is set=4, subsample_freq=0 will be ignored. Current value: bagging_freq=4\n",
      "[500]\ttraining's multi_logloss: 0.904773\ttraining's macroF1: 0.590588\tvalid_1's multi_logloss: 1.04395\tvalid_1's macroF1: 0.385745\n",
      "******************** Execution ended in 00h 00m 39.04s ********************\n",
      "============================== 3 of 5 folds ==============================\n",
      "[LightGBM] [Warning] seed is set=27, random_state=1989 will be ignored. Current value: seed=27\n",
      "[LightGBM] [Warning] bagging_freq is set=4, subsample_freq=0 will be ignored. Current value: bagging_freq=4\n",
      "[500]\ttraining's multi_logloss: 0.909286\ttraining's macroF1: 0.603212\tvalid_1's multi_logloss: 1.03777\tvalid_1's macroF1: 0.412871\n",
      "******************** Execution ended in 00h 00m 41.15s ********************\n",
      "============================== 4 of 5 folds ==============================\n",
      "[LightGBM] [Warning] seed is set=27, random_state=1989 will be ignored. Current value: seed=27\n",
      "[LightGBM] [Warning] bagging_freq is set=4, subsample_freq=0 will be ignored. Current value: bagging_freq=4\n",
      "[500]\ttraining's multi_logloss: 0.903519\ttraining's macroF1: 0.612616\tvalid_1's multi_logloss: 1.06449\tvalid_1's macroF1: 0.391295\n",
      "******************** Execution ended in 00h 00m 38.80s ********************\n",
      "============================== 5 of 5 folds ==============================\n",
      "[LightGBM] [Warning] seed is set=27, random_state=1989 will be ignored. Current value: seed=27\n",
      "[LightGBM] [Warning] bagging_freq is set=4, subsample_freq=0 will be ignored. Current value: bagging_freq=4\n",
      "[500]\ttraining's multi_logloss: 0.921265\ttraining's macroF1: 0.603097\tvalid_1's multi_logloss: 1.0032\tvalid_1's macroF1: 0.44644\n",
      "[1000]\ttraining's multi_logloss: 0.794669\ttraining's macroF1: 0.671158\tvalid_1's multi_logloss: 1.00316\tvalid_1's macroF1: 0.432461\n",
      "******************** Execution ended in 00h 00m 52.88s ********************\n",
      "######################################## 29 of 50 iterations ########################################\n",
      "============================== 1 of 5 folds ==============================\n",
      "[LightGBM] [Warning] seed is set=28, random_state=1989 will be ignored. Current value: seed=28\n",
      "[LightGBM] [Warning] bagging_freq is set=3, subsample_freq=0 will be ignored. Current value: bagging_freq=3\n",
      "[500]\ttraining's multi_logloss: 0.810871\ttraining's macroF1: 0.665861\tvalid_1's multi_logloss: 1.04634\tvalid_1's macroF1: 0.396517\n",
      "[1000]\ttraining's multi_logloss: 0.641122\ttraining's macroF1: 0.758636\tvalid_1's multi_logloss: 1.02969\tvalid_1's macroF1: 0.389909\n",
      "******************** Execution ended in 00h 01m 09.58s ********************\n",
      "============================== 2 of 5 folds ==============================\n",
      "[LightGBM] [Warning] seed is set=28, random_state=1989 will be ignored. Current value: seed=28\n",
      "[LightGBM] [Warning] bagging_freq is set=3, subsample_freq=0 will be ignored. Current value: bagging_freq=3\n",
      "[500]\ttraining's multi_logloss: 0.803731\ttraining's macroF1: 0.676157\tvalid_1's multi_logloss: 0.996745\tvalid_1's macroF1: 0.411964\n",
      "******************** Execution ended in 00h 00m 36.92s ********************\n",
      "============================== 3 of 5 folds ==============================\n",
      "[LightGBM] [Warning] seed is set=28, random_state=1989 will be ignored. Current value: seed=28\n",
      "[LightGBM] [Warning] bagging_freq is set=3, subsample_freq=0 will be ignored. Current value: bagging_freq=3\n",
      "[500]\ttraining's multi_logloss: 0.800862\ttraining's macroF1: 0.664728\tvalid_1's multi_logloss: 1.0466\tvalid_1's macroF1: 0.406758\n",
      "[1000]\ttraining's multi_logloss: 0.637017\ttraining's macroF1: 0.745741\tvalid_1's multi_logloss: 1.03387\tvalid_1's macroF1: 0.401936\n",
      "******************** Execution ended in 00h 01m 20.60s ********************\n",
      "============================== 4 of 5 folds ==============================\n",
      "[LightGBM] [Warning] seed is set=28, random_state=1989 will be ignored. Current value: seed=28\n",
      "[LightGBM] [Warning] bagging_freq is set=3, subsample_freq=0 will be ignored. Current value: bagging_freq=3\n",
      "[500]\ttraining's multi_logloss: 0.805415\ttraining's macroF1: 0.671693\tvalid_1's multi_logloss: 1.01029\tvalid_1's macroF1: 0.399613\n",
      "******************** Execution ended in 00h 00m 32.34s ********************\n",
      "============================== 5 of 5 folds ==============================\n",
      "[LightGBM] [Warning] seed is set=28, random_state=1989 will be ignored. Current value: seed=28\n",
      "[LightGBM] [Warning] bagging_freq is set=3, subsample_freq=0 will be ignored. Current value: bagging_freq=3\n",
      "[500]\ttraining's multi_logloss: 0.813147\ttraining's macroF1: 0.674464\tvalid_1's multi_logloss: 1.02384\tvalid_1's macroF1: 0.396288\n",
      "******************** Execution ended in 00h 00m 41.99s ********************\n",
      "######################################## 30 of 50 iterations ########################################\n",
      "============================== 1 of 5 folds ==============================\n",
      "[LightGBM] [Warning] seed is set=29, random_state=1989 will be ignored. Current value: seed=29\n",
      "[LightGBM] [Warning] bagging_freq is set=2, subsample_freq=0 will be ignored. Current value: bagging_freq=2\n",
      "[500]\ttraining's multi_logloss: 1.14038\ttraining's macroF1: 0.45753\tvalid_1's multi_logloss: 1.08815\tvalid_1's macroF1: 0.384097\n",
      "[1000]\ttraining's multi_logloss: 1.09138\ttraining's macroF1: 0.496136\tvalid_1's multi_logloss: 1.07222\tvalid_1's macroF1: 0.399973\n",
      "******************** Execution ended in 00h 00m 59.02s ********************\n",
      "============================== 2 of 5 folds ==============================\n",
      "[LightGBM] [Warning] seed is set=29, random_state=1989 will be ignored. Current value: seed=29\n",
      "[LightGBM] [Warning] bagging_freq is set=2, subsample_freq=0 will be ignored. Current value: bagging_freq=2\n",
      "[500]\ttraining's multi_logloss: 1.12459\ttraining's macroF1: 0.470993\tvalid_1's multi_logloss: 1.08482\tvalid_1's macroF1: 0.384401\n",
      "******************** Execution ended in 00h 00m 23.79s ********************\n",
      "============================== 3 of 5 folds ==============================\n",
      "[LightGBM] [Warning] seed is set=29, random_state=1989 will be ignored. Current value: seed=29\n",
      "[LightGBM] [Warning] bagging_freq is set=2, subsample_freq=0 will be ignored. Current value: bagging_freq=2\n",
      "[500]\ttraining's multi_logloss: 1.12253\ttraining's macroF1: 0.472369\tvalid_1's multi_logloss: 1.09932\tvalid_1's macroF1: 0.411357\n",
      "******************** Execution ended in 00h 00m 39.70s ********************\n",
      "============================== 4 of 5 folds ==============================\n",
      "[LightGBM] [Warning] seed is set=29, random_state=1989 will be ignored. Current value: seed=29\n",
      "[LightGBM] [Warning] bagging_freq is set=2, subsample_freq=0 will be ignored. Current value: bagging_freq=2\n",
      "[500]\ttraining's multi_logloss: 1.11079\ttraining's macroF1: 0.476603\tvalid_1's multi_logloss: 1.11621\tvalid_1's macroF1: 0.366269\n",
      "******************** Execution ended in 00h 00m 32.01s ********************\n",
      "============================== 5 of 5 folds ==============================\n",
      "[LightGBM] [Warning] seed is set=29, random_state=1989 will be ignored. Current value: seed=29\n",
      "[LightGBM] [Warning] bagging_freq is set=2, subsample_freq=0 will be ignored. Current value: bagging_freq=2\n",
      "[500]\ttraining's multi_logloss: 1.13346\ttraining's macroF1: 0.472258\tvalid_1's multi_logloss: 1.08807\tvalid_1's macroF1: 0.403026\n",
      "[1000]\ttraining's multi_logloss: 1.08556\ttraining's macroF1: 0.495802\tvalid_1's multi_logloss: 1.08031\tvalid_1's macroF1: 0.401071\n",
      "******************** Execution ended in 00h 00m 45.75s ********************\n",
      "######################################## 31 of 50 iterations ########################################\n",
      "============================== 1 of 5 folds ==============================\n",
      "[LightGBM] [Warning] seed is set=30, random_state=1989 will be ignored. Current value: seed=30\n",
      "[LightGBM] [Warning] bagging_freq is set=1, subsample_freq=0 will be ignored. Current value: bagging_freq=1\n",
      "[500]\ttraining's multi_logloss: 1.11097\ttraining's macroF1: 0.478614\tvalid_1's multi_logloss: 1.04862\tvalid_1's macroF1: 0.381221\n",
      "[1000]\ttraining's multi_logloss: 1.06147\ttraining's macroF1: 0.50459\tvalid_1's multi_logloss: 1.04394\tvalid_1's macroF1: 0.397936\n",
      "******************** Execution ended in 00h 00m 37.38s ********************\n",
      "============================== 2 of 5 folds ==============================\n",
      "[LightGBM] [Warning] seed is set=30, random_state=1989 will be ignored. Current value: seed=30\n",
      "[LightGBM] [Warning] bagging_freq is set=1, subsample_freq=0 will be ignored. Current value: bagging_freq=1\n",
      "[500]\ttraining's multi_logloss: 1.10575\ttraining's macroF1: 0.485914\tvalid_1's multi_logloss: 1.10236\tvalid_1's macroF1: 0.365192\n",
      "[1000]\ttraining's multi_logloss: 1.05404\ttraining's macroF1: 0.504475\tvalid_1's multi_logloss: 1.10135\tvalid_1's macroF1: 0.382667\n",
      "[1500]\ttraining's multi_logloss: 1.02261\ttraining's macroF1: 0.527457\tvalid_1's multi_logloss: 1.09904\tvalid_1's macroF1: 0.389047\n",
      "******************** Execution ended in 00h 01m 05.42s ********************\n",
      "============================== 3 of 5 folds ==============================\n",
      "[LightGBM] [Warning] seed is set=30, random_state=1989 will be ignored. Current value: seed=30\n",
      "[LightGBM] [Warning] bagging_freq is set=1, subsample_freq=0 will be ignored. Current value: bagging_freq=1\n",
      "[500]\ttraining's multi_logloss: 1.10463\ttraining's macroF1: 0.493945\tvalid_1's multi_logloss: 1.1095\tvalid_1's macroF1: 0.370133\n",
      "[1000]\ttraining's multi_logloss: 1.05569\ttraining's macroF1: 0.502111\tvalid_1's multi_logloss: 1.10813\tvalid_1's macroF1: 0.389031\n",
      "******************** Execution ended in 00h 00m 39.40s ********************\n",
      "============================== 4 of 5 folds ==============================\n",
      "[LightGBM] [Warning] seed is set=30, random_state=1989 will be ignored. Current value: seed=30\n",
      "[LightGBM] [Warning] bagging_freq is set=1, subsample_freq=0 will be ignored. Current value: bagging_freq=1\n",
      "[500]\ttraining's multi_logloss: 1.10948\ttraining's macroF1: 0.473984\tvalid_1's multi_logloss: 1.10292\tvalid_1's macroF1: 0.416557\n",
      "[1000]\ttraining's multi_logloss: 1.06035\ttraining's macroF1: 0.511882\tvalid_1's multi_logloss: 1.10307\tvalid_1's macroF1: 0.404005\n",
      "******************** Execution ended in 00h 00m 34.19s ********************\n",
      "============================== 5 of 5 folds ==============================\n",
      "[LightGBM] [Warning] seed is set=30, random_state=1989 will be ignored. Current value: seed=30\n",
      "[LightGBM] [Warning] bagging_freq is set=1, subsample_freq=0 will be ignored. Current value: bagging_freq=1\n",
      "[500]\ttraining's multi_logloss: 1.10992\ttraining's macroF1: 0.486917\tvalid_1's multi_logloss: 1.07744\tvalid_1's macroF1: 0.403778\n",
      "[1000]\ttraining's multi_logloss: 1.05894\ttraining's macroF1: 0.519205\tvalid_1's multi_logloss: 1.07436\tvalid_1's macroF1: 0.405823\n",
      "******************** Execution ended in 00h 00m 43.16s ********************\n",
      "######################################## 32 of 50 iterations ########################################\n",
      "============================== 1 of 5 folds ==============================\n",
      "[LightGBM] [Warning] seed is set=31, random_state=1989 will be ignored. Current value: seed=31\n",
      "[LightGBM] [Warning] bagging_freq is set=1, subsample_freq=0 will be ignored. Current value: bagging_freq=1\n",
      "[500]\ttraining's multi_logloss: 0.935227\ttraining's macroF1: 0.600718\tvalid_1's multi_logloss: 1.02054\tvalid_1's macroF1: 0.40819\n",
      "******************** Execution ended in 00h 00m 35.06s ********************\n",
      "============================== 2 of 5 folds ==============================\n",
      "[LightGBM] [Warning] seed is set=31, random_state=1989 will be ignored. Current value: seed=31\n",
      "[LightGBM] [Warning] bagging_freq is set=1, subsample_freq=0 will be ignored. Current value: bagging_freq=1\n",
      "[500]\ttraining's multi_logloss: 0.936759\ttraining's macroF1: 0.584301\tvalid_1's multi_logloss: 1.04475\tvalid_1's macroF1: 0.39558\n",
      "******************** Execution ended in 00h 00m 27.50s ********************\n",
      "============================== 3 of 5 folds ==============================\n",
      "[LightGBM] [Warning] seed is set=31, random_state=1989 will be ignored. Current value: seed=31\n",
      "[LightGBM] [Warning] bagging_freq is set=1, subsample_freq=0 will be ignored. Current value: bagging_freq=1\n",
      "[500]\ttraining's multi_logloss: 0.919365\ttraining's macroF1: 0.587112\tvalid_1's multi_logloss: 1.05121\tvalid_1's macroF1: 0.417066\n",
      "******************** Execution ended in 00h 00m 38.68s ********************\n",
      "============================== 4 of 5 folds ==============================\n",
      "[LightGBM] [Warning] seed is set=31, random_state=1989 will be ignored. Current value: seed=31\n",
      "[LightGBM] [Warning] bagging_freq is set=1, subsample_freq=0 will be ignored. Current value: bagging_freq=1\n",
      "[500]\ttraining's multi_logloss: 0.915985\ttraining's macroF1: 0.6003\tvalid_1's multi_logloss: 1.06471\tvalid_1's macroF1: 0.394276\n",
      "******************** Execution ended in 00h 00m 26.41s ********************\n",
      "============================== 5 of 5 folds ==============================\n",
      "[LightGBM] [Warning] seed is set=31, random_state=1989 will be ignored. Current value: seed=31\n",
      "[LightGBM] [Warning] bagging_freq is set=1, subsample_freq=0 will be ignored. Current value: bagging_freq=1\n",
      "[500]\ttraining's multi_logloss: 0.932061\ttraining's macroF1: 0.585108\tvalid_1's multi_logloss: 0.997861\tvalid_1's macroF1: 0.417531\n",
      "[1000]\ttraining's multi_logloss: 0.812599\ttraining's macroF1: 0.654718\tvalid_1's multi_logloss: 0.986787\tvalid_1's macroF1: 0.425159\n",
      "[1500]\ttraining's multi_logloss: 0.734276\ttraining's macroF1: 0.696198\tvalid_1's multi_logloss: 0.983693\tvalid_1's macroF1: 0.439349\n",
      "******************** Execution ended in 00h 01m 25.21s ********************\n",
      "######################################## 33 of 50 iterations ########################################\n",
      "============================== 1 of 5 folds ==============================\n",
      "[LightGBM] [Warning] seed is set=32, random_state=1989 will be ignored. Current value: seed=32\n",
      "[LightGBM] [Warning] bagging_freq is set=4, subsample_freq=0 will be ignored. Current value: bagging_freq=4\n",
      "[500]\ttraining's multi_logloss: 0.809244\ttraining's macroF1: 0.665578\tvalid_1's multi_logloss: 0.978343\tvalid_1's macroF1: 0.434119\n",
      "[1000]\ttraining's multi_logloss: 0.647412\ttraining's macroF1: 0.748754\tvalid_1's multi_logloss: 0.975092\tvalid_1's macroF1: 0.414716\n",
      "******************** Execution ended in 00h 01m 04.69s ********************\n",
      "============================== 2 of 5 folds ==============================\n",
      "[LightGBM] [Warning] seed is set=32, random_state=1989 will be ignored. Current value: seed=32\n",
      "[LightGBM] [Warning] bagging_freq is set=4, subsample_freq=0 will be ignored. Current value: bagging_freq=4\n",
      "[500]\ttraining's multi_logloss: 0.800516\ttraining's macroF1: 0.669743\tvalid_1's multi_logloss: 1.09131\tvalid_1's macroF1: 0.379435\n",
      "******************** Execution ended in 00h 00m 50.87s ********************\n",
      "============================== 3 of 5 folds ==============================\n",
      "[LightGBM] [Warning] seed is set=32, random_state=1989 will be ignored. Current value: seed=32\n",
      "[LightGBM] [Warning] bagging_freq is set=4, subsample_freq=0 will be ignored. Current value: bagging_freq=4\n",
      "[500]\ttraining's multi_logloss: 0.799882\ttraining's macroF1: 0.660016\tvalid_1's multi_logloss: 1.06548\tvalid_1's macroF1: 0.378689\n",
      "******************** Execution ended in 00h 00m 36.97s ********************\n",
      "============================== 4 of 5 folds ==============================\n",
      "[LightGBM] [Warning] seed is set=32, random_state=1989 will be ignored. Current value: seed=32\n",
      "[LightGBM] [Warning] bagging_freq is set=4, subsample_freq=0 will be ignored. Current value: bagging_freq=4\n",
      "[500]\ttraining's multi_logloss: 0.809416\ttraining's macroF1: 0.669223\tvalid_1's multi_logloss: 1.0255\tvalid_1's macroF1: 0.397361\n",
      "******************** Execution ended in 00h 00m 39.03s ********************\n",
      "============================== 5 of 5 folds ==============================\n",
      "[LightGBM] [Warning] seed is set=32, random_state=1989 will be ignored. Current value: seed=32\n",
      "[LightGBM] [Warning] bagging_freq is set=4, subsample_freq=0 will be ignored. Current value: bagging_freq=4\n",
      "[500]\ttraining's multi_logloss: 0.820914\ttraining's macroF1: 0.657478\tvalid_1's multi_logloss: 1.00217\tvalid_1's macroF1: 0.437848\n",
      "******************** Execution ended in 00h 00m 48.32s ********************\n",
      "######################################## 34 of 50 iterations ########################################\n",
      "============================== 1 of 5 folds ==============================\n",
      "[LightGBM] [Warning] seed is set=33, random_state=1989 will be ignored. Current value: seed=33\n",
      "[LightGBM] [Warning] bagging_freq is set=2, subsample_freq=0 will be ignored. Current value: bagging_freq=2\n",
      "[500]\ttraining's multi_logloss: 1.2581\ttraining's macroF1: 0.443203\tvalid_1's multi_logloss: 1.21831\tvalid_1's macroF1: 0.421207\n",
      "[1000]\ttraining's multi_logloss: 1.18411\ttraining's macroF1: 0.473294\tvalid_1's multi_logloss: 1.1398\tvalid_1's macroF1: 0.412896\n",
      "******************** Execution ended in 00h 00m 45.75s ********************\n",
      "============================== 2 of 5 folds ==============================\n",
      "[LightGBM] [Warning] seed is set=33, random_state=1989 will be ignored. Current value: seed=33\n",
      "[LightGBM] [Warning] bagging_freq is set=2, subsample_freq=0 will be ignored. Current value: bagging_freq=2\n",
      "[500]\ttraining's multi_logloss: 1.25786\ttraining's macroF1: 0.477905\tvalid_1's multi_logloss: 1.22433\tvalid_1's macroF1: 0.399026\n",
      "******************** Execution ended in 00h 00m 24.62s ********************\n",
      "============================== 3 of 5 folds ==============================\n",
      "[LightGBM] [Warning] seed is set=33, random_state=1989 will be ignored. Current value: seed=33\n",
      "[LightGBM] [Warning] bagging_freq is set=2, subsample_freq=0 will be ignored. Current value: bagging_freq=2\n",
      "[500]\ttraining's multi_logloss: 1.25477\ttraining's macroF1: 0.466395\tvalid_1's multi_logloss: 1.19424\tvalid_1's macroF1: 0.380715\n",
      "******************** Execution ended in 00h 00m 23.14s ********************\n",
      "============================== 4 of 5 folds ==============================\n",
      "[LightGBM] [Warning] seed is set=33, random_state=1989 will be ignored. Current value: seed=33\n",
      "[LightGBM] [Warning] bagging_freq is set=2, subsample_freq=0 will be ignored. Current value: bagging_freq=2\n",
      "[500]\ttraining's multi_logloss: 1.25454\ttraining's macroF1: 0.461735\tvalid_1's multi_logloss: 1.23183\tvalid_1's macroF1: 0.397901\n",
      "******************** Execution ended in 00h 00m 23.98s ********************\n",
      "============================== 5 of 5 folds ==============================\n",
      "[LightGBM] [Warning] seed is set=33, random_state=1989 will be ignored. Current value: seed=33\n",
      "[LightGBM] [Warning] bagging_freq is set=2, subsample_freq=0 will be ignored. Current value: bagging_freq=2\n",
      "[500]\ttraining's multi_logloss: 1.25646\ttraining's macroF1: 0.476088\tvalid_1's multi_logloss: 1.21228\tvalid_1's macroF1: 0.387853\n",
      "******************** Execution ended in 00h 00m 26.34s ********************\n",
      "######################################## 35 of 50 iterations ########################################\n",
      "============================== 1 of 5 folds ==============================\n",
      "[LightGBM] [Warning] seed is set=34, random_state=1989 will be ignored. Current value: seed=34\n",
      "[LightGBM] [Warning] bagging_freq is set=2, subsample_freq=0 will be ignored. Current value: bagging_freq=2\n",
      "[500]\ttraining's multi_logloss: 0.890925\ttraining's macroF1: 0.648094\tvalid_1's multi_logloss: 0.995281\tvalid_1's macroF1: 0.389826\n",
      "******************** Execution ended in 00h 00m 35.46s ********************\n",
      "============================== 2 of 5 folds ==============================\n",
      "[LightGBM] [Warning] seed is set=34, random_state=1989 will be ignored. Current value: seed=34\n",
      "[LightGBM] [Warning] bagging_freq is set=2, subsample_freq=0 will be ignored. Current value: bagging_freq=2\n",
      "[500]\ttraining's multi_logloss: 0.889078\ttraining's macroF1: 0.653222\tvalid_1's multi_logloss: 1.05847\tvalid_1's macroF1: 0.397245\n",
      "[1000]\ttraining's multi_logloss: 0.727621\ttraining's macroF1: 0.722014\tvalid_1's multi_logloss: 1.04155\tvalid_1's macroF1: 0.401019\n",
      "******************** Execution ended in 00h 01m 13.06s ********************\n",
      "============================== 3 of 5 folds ==============================\n",
      "[LightGBM] [Warning] seed is set=34, random_state=1989 will be ignored. Current value: seed=34\n",
      "[LightGBM] [Warning] bagging_freq is set=2, subsample_freq=0 will be ignored. Current value: bagging_freq=2\n",
      "[500]\ttraining's multi_logloss: 0.896046\ttraining's macroF1: 0.642429\tvalid_1's multi_logloss: 1.00956\tvalid_1's macroF1: 0.438124\n",
      "******************** Execution ended in 00h 00m 49.87s ********************\n",
      "============================== 4 of 5 folds ==============================\n",
      "[LightGBM] [Warning] seed is set=34, random_state=1989 will be ignored. Current value: seed=34\n",
      "[LightGBM] [Warning] bagging_freq is set=2, subsample_freq=0 will be ignored. Current value: bagging_freq=2\n",
      "[500]\ttraining's multi_logloss: 0.890894\ttraining's macroF1: 0.661295\tvalid_1's multi_logloss: 1.00252\tvalid_1's macroF1: 0.413001\n",
      "******************** Execution ended in 00h 00m 47.27s ********************\n",
      "============================== 5 of 5 folds ==============================\n",
      "[LightGBM] [Warning] seed is set=34, random_state=1989 will be ignored. Current value: seed=34\n",
      "[LightGBM] [Warning] bagging_freq is set=2, subsample_freq=0 will be ignored. Current value: bagging_freq=2\n",
      "[500]\ttraining's multi_logloss: 0.887574\ttraining's macroF1: 0.657813\tvalid_1's multi_logloss: 1.01893\tvalid_1's macroF1: 0.419219\n",
      "******************** Execution ended in 00h 00m 52.63s ********************\n",
      "######################################## 36 of 50 iterations ########################################\n",
      "============================== 1 of 5 folds ==============================\n",
      "[LightGBM] [Warning] seed is set=35, random_state=1989 will be ignored. Current value: seed=35\n",
      "[LightGBM] [Warning] bagging_freq is set=4, subsample_freq=0 will be ignored. Current value: bagging_freq=4\n",
      "[500]\ttraining's multi_logloss: 1.01296\ttraining's macroF1: 0.538296\tvalid_1's multi_logloss: 1.08299\tvalid_1's macroF1: 0.391566\n",
      "[1000]\ttraining's multi_logloss: 0.925444\ttraining's macroF1: 0.576213\tvalid_1's multi_logloss: 1.075\tvalid_1's macroF1: 0.402072\n",
      "[1500]\ttraining's multi_logloss: 0.868254\ttraining's macroF1: 0.608266\tvalid_1's multi_logloss: 1.07397\tvalid_1's macroF1: 0.403655\n",
      "******************** Execution ended in 00h 01m 15.29s ********************\n",
      "============================== 2 of 5 folds ==============================\n",
      "[LightGBM] [Warning] seed is set=35, random_state=1989 will be ignored. Current value: seed=35\n",
      "[LightGBM] [Warning] bagging_freq is set=4, subsample_freq=0 will be ignored. Current value: bagging_freq=4\n",
      "[500]\ttraining's multi_logloss: 1.01195\ttraining's macroF1: 0.534505\tvalid_1's multi_logloss: 1.07768\tvalid_1's macroF1: 0.382068\n",
      "******************** Execution ended in 00h 00m 30.16s ********************\n",
      "============================== 3 of 5 folds ==============================\n",
      "[LightGBM] [Warning] seed is set=35, random_state=1989 will be ignored. Current value: seed=35\n",
      "[LightGBM] [Warning] bagging_freq is set=4, subsample_freq=0 will be ignored. Current value: bagging_freq=4\n",
      "[500]\ttraining's multi_logloss: 1.00141\ttraining's macroF1: 0.529933\tvalid_1's multi_logloss: 1.11509\tvalid_1's macroF1: 0.38333\n",
      "******************** Execution ended in 00h 00m 41.82s ********************\n",
      "============================== 4 of 5 folds ==============================\n",
      "[LightGBM] [Warning] seed is set=35, random_state=1989 will be ignored. Current value: seed=35\n",
      "[LightGBM] [Warning] bagging_freq is set=4, subsample_freq=0 will be ignored. Current value: bagging_freq=4\n",
      "[500]\ttraining's multi_logloss: 1.01701\ttraining's macroF1: 0.534359\tvalid_1's multi_logloss: 1.05545\tvalid_1's macroF1: 0.414005\n",
      "******************** Execution ended in 00h 00m 36.66s ********************\n",
      "============================== 5 of 5 folds ==============================\n",
      "[LightGBM] [Warning] seed is set=35, random_state=1989 will be ignored. Current value: seed=35\n",
      "[LightGBM] [Warning] bagging_freq is set=4, subsample_freq=0 will be ignored. Current value: bagging_freq=4\n",
      "[500]\ttraining's multi_logloss: 1.00168\ttraining's macroF1: 0.531204\tvalid_1's multi_logloss: 1.0337\tvalid_1's macroF1: 0.418485\n",
      "[1000]\ttraining's multi_logloss: 0.916675\ttraining's macroF1: 0.58111\tvalid_1's multi_logloss: 1.03394\tvalid_1's macroF1: 0.414711\n",
      "******************** Execution ended in 00h 00m 56.77s ********************\n",
      "######################################## 37 of 50 iterations ########################################\n",
      "============================== 1 of 5 folds ==============================\n",
      "[LightGBM] [Warning] seed is set=36, random_state=1989 will be ignored. Current value: seed=36\n",
      "[LightGBM] [Warning] bagging_freq is set=1, subsample_freq=0 will be ignored. Current value: bagging_freq=1\n",
      "[500]\ttraining's multi_logloss: 1.12909\ttraining's macroF1: 0.48478\tvalid_1's multi_logloss: 1.13536\tvalid_1's macroF1: 0.363162\n",
      "******************** Execution ended in 00h 00m 27.91s ********************\n",
      "============================== 2 of 5 folds ==============================\n",
      "[LightGBM] [Warning] seed is set=36, random_state=1989 will be ignored. Current value: seed=36\n",
      "[LightGBM] [Warning] bagging_freq is set=1, subsample_freq=0 will be ignored. Current value: bagging_freq=1\n",
      "[500]\ttraining's multi_logloss: 1.14071\ttraining's macroF1: 0.465032\tvalid_1's multi_logloss: 1.08332\tvalid_1's macroF1: 0.393842\n",
      "[1000]\ttraining's multi_logloss: 1.07218\ttraining's macroF1: 0.499336\tvalid_1's multi_logloss: 1.05753\tvalid_1's macroF1: 0.403339\n",
      "******************** Execution ended in 00h 01m 14.64s ********************\n",
      "============================== 3 of 5 folds ==============================\n",
      "[LightGBM] [Warning] seed is set=36, random_state=1989 will be ignored. Current value: seed=36\n",
      "[LightGBM] [Warning] bagging_freq is set=1, subsample_freq=0 will be ignored. Current value: bagging_freq=1\n",
      "[500]\ttraining's multi_logloss: 1.12479\ttraining's macroF1: 0.484918\tvalid_1's multi_logloss: 1.13\tvalid_1's macroF1: 0.376889\n",
      "******************** Execution ended in 00h 00m 32.34s ********************\n",
      "============================== 4 of 5 folds ==============================\n",
      "[LightGBM] [Warning] seed is set=36, random_state=1989 will be ignored. Current value: seed=36\n",
      "[LightGBM] [Warning] bagging_freq is set=1, subsample_freq=0 will be ignored. Current value: bagging_freq=1\n",
      "[500]\ttraining's multi_logloss: 1.13579\ttraining's macroF1: 0.481286\tvalid_1's multi_logloss: 1.07928\tvalid_1's macroF1: 0.416075\n",
      "[1000]\ttraining's multi_logloss: 1.06698\ttraining's macroF1: 0.508145\tvalid_1's multi_logloss: 1.05278\tvalid_1's macroF1: 0.411323\n",
      "******************** Execution ended in 00h 00m 58.10s ********************\n",
      "============================== 5 of 5 folds ==============================\n",
      "[LightGBM] [Warning] seed is set=36, random_state=1989 will be ignored. Current value: seed=36\n",
      "[LightGBM] [Warning] bagging_freq is set=1, subsample_freq=0 will be ignored. Current value: bagging_freq=1\n",
      "[500]\ttraining's multi_logloss: 1.12153\ttraining's macroF1: 0.473362\tvalid_1's multi_logloss: 1.10171\tvalid_1's macroF1: 0.385768\n",
      "[1000]\ttraining's multi_logloss: 1.05379\ttraining's macroF1: 0.519132\tvalid_1's multi_logloss: 1.07841\tvalid_1's macroF1: 0.373833\n",
      "******************** Execution ended in 00h 00m 55.09s ********************\n",
      "######################################## 38 of 50 iterations ########################################\n",
      "============================== 1 of 5 folds ==============================\n",
      "[LightGBM] [Warning] seed is set=37, random_state=1989 will be ignored. Current value: seed=37\n",
      "[LightGBM] [Warning] bagging_freq is set=1, subsample_freq=0 will be ignored. Current value: bagging_freq=1\n",
      "[500]\ttraining's multi_logloss: 1.04052\ttraining's macroF1: 0.537397\tvalid_1's multi_logloss: 1.04433\tvalid_1's macroF1: 0.406304\n",
      "******************** Execution ended in 00h 00m 43.28s ********************\n",
      "============================== 2 of 5 folds ==============================\n",
      "[LightGBM] [Warning] seed is set=37, random_state=1989 will be ignored. Current value: seed=37\n",
      "[LightGBM] [Warning] bagging_freq is set=1, subsample_freq=0 will be ignored. Current value: bagging_freq=1\n",
      "[500]\ttraining's multi_logloss: 1.02728\ttraining's macroF1: 0.535096\tvalid_1's multi_logloss: 1.09637\tvalid_1's macroF1: 0.388927\n",
      "[1000]\ttraining's multi_logloss: 0.934885\ttraining's macroF1: 0.578561\tvalid_1's multi_logloss: 1.08716\tvalid_1's macroF1: 0.383102\n",
      "******************** Execution ended in 00h 01m 00.06s ********************\n",
      "============================== 3 of 5 folds ==============================\n",
      "[LightGBM] [Warning] seed is set=37, random_state=1989 will be ignored. Current value: seed=37\n",
      "[LightGBM] [Warning] bagging_freq is set=1, subsample_freq=0 will be ignored. Current value: bagging_freq=1\n",
      "[500]\ttraining's multi_logloss: 1.03803\ttraining's macroF1: 0.53819\tvalid_1's multi_logloss: 1.03495\tvalid_1's macroF1: 0.423401\n",
      "******************** Execution ended in 00h 00m 49.61s ********************\n",
      "============================== 4 of 5 folds ==============================\n",
      "[LightGBM] [Warning] seed is set=37, random_state=1989 will be ignored. Current value: seed=37\n",
      "[LightGBM] [Warning] bagging_freq is set=1, subsample_freq=0 will be ignored. Current value: bagging_freq=1\n",
      "[500]\ttraining's multi_logloss: 1.03349\ttraining's macroF1: 0.537103\tvalid_1's multi_logloss: 1.07698\tvalid_1's macroF1: 0.392122\n",
      "******************** Execution ended in 00h 00m 41.77s ********************\n",
      "============================== 5 of 5 folds ==============================\n",
      "[LightGBM] [Warning] seed is set=37, random_state=1989 will be ignored. Current value: seed=37\n",
      "[LightGBM] [Warning] bagging_freq is set=1, subsample_freq=0 will be ignored. Current value: bagging_freq=1\n",
      "[500]\ttraining's multi_logloss: 1.02877\ttraining's macroF1: 0.536876\tvalid_1's multi_logloss: 1.04902\tvalid_1's macroF1: 0.399823\n",
      "[1000]\ttraining's multi_logloss: 0.934974\ttraining's macroF1: 0.57264\tvalid_1's multi_logloss: 1.03835\tvalid_1's macroF1: 0.421652\n",
      "******************** Execution ended in 00h 01m 15.85s ********************\n",
      "######################################## 39 of 50 iterations ########################################\n",
      "============================== 1 of 5 folds ==============================\n",
      "[LightGBM] [Warning] seed is set=38, random_state=1989 will be ignored. Current value: seed=38\n",
      "[LightGBM] [Warning] bagging_freq is set=1, subsample_freq=0 will be ignored. Current value: bagging_freq=1\n",
      "[500]\ttraining's multi_logloss: 1.13566\ttraining's macroF1: 0.470211\tvalid_1's multi_logloss: 1.10293\tvalid_1's macroF1: 0.407112\n",
      "[1000]\ttraining's multi_logloss: 1.07432\ttraining's macroF1: 0.498262\tvalid_1's multi_logloss: 1.07946\tvalid_1's macroF1: 0.412488\n",
      "[1500]\ttraining's multi_logloss: 1.03743\ttraining's macroF1: 0.51526\tvalid_1's multi_logloss: 1.07332\tvalid_1's macroF1: 0.428492\n",
      "******************** Execution ended in 00h 01m 11.72s ********************\n",
      "============================== 2 of 5 folds ==============================\n",
      "[LightGBM] [Warning] seed is set=38, random_state=1989 will be ignored. Current value: seed=38\n",
      "[LightGBM] [Warning] bagging_freq is set=1, subsample_freq=0 will be ignored. Current value: bagging_freq=1\n",
      "[500]\ttraining's multi_logloss: 1.13192\ttraining's macroF1: 0.483478\tvalid_1's multi_logloss: 1.10325\tvalid_1's macroF1: 0.382691\n",
      "******************** Execution ended in 00h 00m 26.92s ********************\n",
      "============================== 3 of 5 folds ==============================\n",
      "[LightGBM] [Warning] seed is set=38, random_state=1989 will be ignored. Current value: seed=38\n",
      "[LightGBM] [Warning] bagging_freq is set=1, subsample_freq=0 will be ignored. Current value: bagging_freq=1\n",
      "[500]\ttraining's multi_logloss: 1.14908\ttraining's macroF1: 0.46286\tvalid_1's multi_logloss: 1.10981\tvalid_1's macroF1: 0.391773\n",
      "[1000]\ttraining's multi_logloss: 1.08624\ttraining's macroF1: 0.500135\tvalid_1's multi_logloss: 1.08255\tvalid_1's macroF1: 0.415236\n",
      "[1500]\ttraining's multi_logloss: 1.04751\ttraining's macroF1: 0.518949\tvalid_1's multi_logloss: 1.07787\tvalid_1's macroF1: 0.417758\n",
      "******************** Execution ended in 00h 01m 09.89s ********************\n",
      "============================== 4 of 5 folds ==============================\n",
      "[LightGBM] [Warning] seed is set=38, random_state=1989 will be ignored. Current value: seed=38\n",
      "[LightGBM] [Warning] bagging_freq is set=1, subsample_freq=0 will be ignored. Current value: bagging_freq=1\n",
      "[500]\ttraining's multi_logloss: 1.14333\ttraining's macroF1: 0.478565\tvalid_1's multi_logloss: 1.08695\tvalid_1's macroF1: 0.411482\n",
      "******************** Execution ended in 00h 00m 40.28s ********************\n",
      "============================== 5 of 5 folds ==============================\n",
      "[LightGBM] [Warning] seed is set=38, random_state=1989 will be ignored. Current value: seed=38\n",
      "[LightGBM] [Warning] bagging_freq is set=1, subsample_freq=0 will be ignored. Current value: bagging_freq=1\n",
      "[500]\ttraining's multi_logloss: 1.13398\ttraining's macroF1: 0.4832\tvalid_1's multi_logloss: 1.10061\tvalid_1's macroF1: 0.363554\n",
      "[1000]\ttraining's multi_logloss: 1.07163\ttraining's macroF1: 0.512053\tvalid_1's multi_logloss: 1.0838\tvalid_1's macroF1: 0.376199\n",
      "[1500]\ttraining's multi_logloss: 1.0333\ttraining's macroF1: 0.529795\tvalid_1's multi_logloss: 1.08173\tvalid_1's macroF1: 0.38489\n",
      "******************** Execution ended in 00h 01m 14.03s ********************\n",
      "######################################## 40 of 50 iterations ########################################\n",
      "============================== 1 of 5 folds ==============================\n",
      "[LightGBM] [Warning] seed is set=39, random_state=1989 will be ignored. Current value: seed=39\n",
      "[LightGBM] [Warning] bagging_freq is set=4, subsample_freq=0 will be ignored. Current value: bagging_freq=4\n",
      "[500]\ttraining's multi_logloss: 0.988991\ttraining's macroF1: 0.567793\tvalid_1's multi_logloss: 1.03048\tvalid_1's macroF1: 0.423296\n",
      "******************** Execution ended in 00h 00m 40.11s ********************\n",
      "============================== 2 of 5 folds ==============================\n",
      "[LightGBM] [Warning] seed is set=39, random_state=1989 will be ignored. Current value: seed=39\n",
      "[LightGBM] [Warning] bagging_freq is set=4, subsample_freq=0 will be ignored. Current value: bagging_freq=4\n",
      "[500]\ttraining's multi_logloss: 0.986647\ttraining's macroF1: 0.55029\tvalid_1's multi_logloss: 1.03875\tvalid_1's macroF1: 0.419437\n",
      "[1000]\ttraining's multi_logloss: 0.87859\ttraining's macroF1: 0.625555\tvalid_1's multi_logloss: 1.0273\tvalid_1's macroF1: 0.424723\n",
      "******************** Execution ended in 00h 01m 10.31s ********************\n",
      "============================== 3 of 5 folds ==============================\n",
      "[LightGBM] [Warning] seed is set=39, random_state=1989 will be ignored. Current value: seed=39\n",
      "[LightGBM] [Warning] bagging_freq is set=4, subsample_freq=0 will be ignored. Current value: bagging_freq=4\n",
      "[500]\ttraining's multi_logloss: 0.973393\ttraining's macroF1: 0.575456\tvalid_1's multi_logloss: 1.02286\tvalid_1's macroF1: 0.376492\n",
      "******************** Execution ended in 00h 00m 34.22s ********************\n",
      "============================== 4 of 5 folds ==============================\n",
      "[LightGBM] [Warning] seed is set=39, random_state=1989 will be ignored. Current value: seed=39\n",
      "[LightGBM] [Warning] bagging_freq is set=4, subsample_freq=0 will be ignored. Current value: bagging_freq=4\n",
      "[500]\ttraining's multi_logloss: 0.969073\ttraining's macroF1: 0.563697\tvalid_1's multi_logloss: 1.07791\tvalid_1's macroF1: 0.38731\n",
      "******************** Execution ended in 00h 00m 41.07s ********************\n",
      "============================== 5 of 5 folds ==============================\n",
      "[LightGBM] [Warning] seed is set=39, random_state=1989 will be ignored. Current value: seed=39\n",
      "[LightGBM] [Warning] bagging_freq is set=4, subsample_freq=0 will be ignored. Current value: bagging_freq=4\n",
      "[500]\ttraining's multi_logloss: 0.97339\ttraining's macroF1: 0.567445\tvalid_1's multi_logloss: 1.06405\tvalid_1's macroF1: 0.373945\n",
      "[1000]\ttraining's multi_logloss: 0.867046\ttraining's macroF1: 0.626259\tvalid_1's multi_logloss: 1.05953\tvalid_1's macroF1: 0.388921\n",
      "******************** Execution ended in 00h 01m 14.50s ********************\n",
      "######################################## 41 of 50 iterations ########################################\n",
      "============================== 1 of 5 folds ==============================\n",
      "[LightGBM] [Warning] seed is set=40, random_state=1989 will be ignored. Current value: seed=40\n",
      "[LightGBM] [Warning] bagging_freq is set=2, subsample_freq=0 will be ignored. Current value: bagging_freq=2\n",
      "[500]\ttraining's multi_logloss: 0.707632\ttraining's macroF1: 0.719146\tvalid_1's multi_logloss: 0.962745\tvalid_1's macroF1: 0.430976\n",
      "******************** Execution ended in 00h 00m 41.61s ********************\n",
      "============================== 2 of 5 folds ==============================\n",
      "[LightGBM] [Warning] seed is set=40, random_state=1989 will be ignored. Current value: seed=40\n",
      "[LightGBM] [Warning] bagging_freq is set=2, subsample_freq=0 will be ignored. Current value: bagging_freq=2\n",
      "[500]\ttraining's multi_logloss: 0.683225\ttraining's macroF1: 0.727128\tvalid_1's multi_logloss: 1.01412\tvalid_1's macroF1: 0.41192\n",
      "******************** Execution ended in 00h 01m 06.93s ********************\n",
      "============================== 3 of 5 folds ==============================\n",
      "[LightGBM] [Warning] seed is set=40, random_state=1989 will be ignored. Current value: seed=40\n",
      "[LightGBM] [Warning] bagging_freq is set=2, subsample_freq=0 will be ignored. Current value: bagging_freq=2\n",
      "[500]\ttraining's multi_logloss: 0.68464\ttraining's macroF1: 0.733661\tvalid_1's multi_logloss: 1.01221\tvalid_1's macroF1: 0.409639\n",
      "******************** Execution ended in 00h 01m 06.08s ********************\n",
      "============================== 4 of 5 folds ==============================\n",
      "[LightGBM] [Warning] seed is set=40, random_state=1989 will be ignored. Current value: seed=40\n",
      "[LightGBM] [Warning] bagging_freq is set=2, subsample_freq=0 will be ignored. Current value: bagging_freq=2\n",
      "[500]\ttraining's multi_logloss: 0.68778\ttraining's macroF1: 0.740006\tvalid_1's multi_logloss: 1.00351\tvalid_1's macroF1: 0.416964\n",
      "******************** Execution ended in 00h 01m 05.41s ********************\n",
      "============================== 5 of 5 folds ==============================\n",
      "[LightGBM] [Warning] seed is set=40, random_state=1989 will be ignored. Current value: seed=40\n",
      "[LightGBM] [Warning] bagging_freq is set=2, subsample_freq=0 will be ignored. Current value: bagging_freq=2\n",
      "[500]\ttraining's multi_logloss: 0.684579\ttraining's macroF1: 0.729899\tvalid_1's multi_logloss: 1.07732\tvalid_1's macroF1: 0.394555\n",
      "******************** Execution ended in 00h 00m 43.95s ********************\n",
      "######################################## 42 of 50 iterations ########################################\n",
      "============================== 1 of 5 folds ==============================\n",
      "[LightGBM] [Warning] seed is set=41, random_state=1989 will be ignored. Current value: seed=41\n",
      "[LightGBM] [Warning] bagging_freq is set=3, subsample_freq=0 will be ignored. Current value: bagging_freq=3\n",
      "[500]\ttraining's multi_logloss: 1.12881\ttraining's macroF1: 0.476904\tvalid_1's multi_logloss: 1.08576\tvalid_1's macroF1: 0.403893\n",
      "******************** Execution ended in 00h 00m 23.42s ********************\n",
      "============================== 2 of 5 folds ==============================\n",
      "[LightGBM] [Warning] seed is set=41, random_state=1989 will be ignored. Current value: seed=41\n",
      "[LightGBM] [Warning] bagging_freq is set=3, subsample_freq=0 will be ignored. Current value: bagging_freq=3\n",
      "[500]\ttraining's multi_logloss: 1.12254\ttraining's macroF1: 0.466303\tvalid_1's multi_logloss: 1.07328\tvalid_1's macroF1: 0.370374\n",
      "[1000]\ttraining's multi_logloss: 1.08044\ttraining's macroF1: 0.4774\tvalid_1's multi_logloss: 1.06608\tvalid_1's macroF1: 0.378293\n",
      "******************** Execution ended in 00h 00m 38.75s ********************\n",
      "============================== 3 of 5 folds ==============================\n",
      "[LightGBM] [Warning] seed is set=41, random_state=1989 will be ignored. Current value: seed=41\n",
      "[LightGBM] [Warning] bagging_freq is set=3, subsample_freq=0 will be ignored. Current value: bagging_freq=3\n",
      "[500]\ttraining's multi_logloss: 1.12997\ttraining's macroF1: 0.463075\tvalid_1's multi_logloss: 1.09338\tvalid_1's macroF1: 0.347678\n",
      "******************** Execution ended in 00h 00m 25.30s ********************\n",
      "============================== 4 of 5 folds ==============================\n",
      "[LightGBM] [Warning] seed is set=41, random_state=1989 will be ignored. Current value: seed=41\n",
      "[LightGBM] [Warning] bagging_freq is set=3, subsample_freq=0 will be ignored. Current value: bagging_freq=3\n",
      "[500]\ttraining's multi_logloss: 1.13348\ttraining's macroF1: 0.451881\tvalid_1's multi_logloss: 1.11441\tvalid_1's macroF1: 0.397402\n",
      "[1000]\ttraining's multi_logloss: 1.09172\ttraining's macroF1: 0.480745\tvalid_1's multi_logloss: 1.09878\tvalid_1's macroF1: 0.425637\n",
      "******************** Execution ended in 00h 00m 44.12s ********************\n",
      "============================== 5 of 5 folds ==============================\n",
      "[LightGBM] [Warning] seed is set=41, random_state=1989 will be ignored. Current value: seed=41\n",
      "[LightGBM] [Warning] bagging_freq is set=3, subsample_freq=0 will be ignored. Current value: bagging_freq=3\n",
      "[500]\ttraining's multi_logloss: 1.13046\ttraining's macroF1: 0.479176\tvalid_1's multi_logloss: 1.13438\tvalid_1's macroF1: 0.386393\n",
      "[1000]\ttraining's multi_logloss: 1.08747\ttraining's macroF1: 0.498403\tvalid_1's multi_logloss: 1.12156\tvalid_1's macroF1: 0.366093\n",
      "******************** Execution ended in 00h 00m 32.16s ********************\n",
      "######################################## 43 of 50 iterations ########################################\n",
      "============================== 1 of 5 folds ==============================\n",
      "[LightGBM] [Warning] seed is set=42, random_state=1989 will be ignored. Current value: seed=42\n",
      "[LightGBM] [Warning] bagging_freq is set=4, subsample_freq=0 will be ignored. Current value: bagging_freq=4\n",
      "[500]\ttraining's multi_logloss: 1.24329\ttraining's macroF1: 0.421193\tvalid_1's multi_logloss: 1.19178\tvalid_1's macroF1: 0.380759\n",
      "[1000]\ttraining's multi_logloss: 1.19418\ttraining's macroF1: 0.431615\tvalid_1's multi_logloss: 1.15316\tvalid_1's macroF1: 0.385968\n",
      "******************** Execution ended in 00h 00m 37.31s ********************\n",
      "============================== 2 of 5 folds ==============================\n",
      "[LightGBM] [Warning] seed is set=42, random_state=1989 will be ignored. Current value: seed=42\n",
      "[LightGBM] [Warning] bagging_freq is set=4, subsample_freq=0 will be ignored. Current value: bagging_freq=4\n",
      "[500]\ttraining's multi_logloss: 1.24127\ttraining's macroF1: 0.425122\tvalid_1's multi_logloss: 1.17416\tvalid_1's macroF1: 0.377999\n",
      "******************** Execution ended in 00h 00m 15.53s ********************\n",
      "============================== 3 of 5 folds ==============================\n",
      "[LightGBM] [Warning] seed is set=42, random_state=1989 will be ignored. Current value: seed=42\n",
      "[LightGBM] [Warning] bagging_freq is set=4, subsample_freq=0 will be ignored. Current value: bagging_freq=4\n",
      "[500]\ttraining's multi_logloss: 1.24809\ttraining's macroF1: 0.417371\tvalid_1's multi_logloss: 1.17775\tvalid_1's macroF1: 0.399414\n",
      "[1000]\ttraining's multi_logloss: 1.20332\ttraining's macroF1: 0.429242\tvalid_1's multi_logloss: 1.12884\tvalid_1's macroF1: 0.400478\n",
      "[1500]\ttraining's multi_logloss: 1.18039\ttraining's macroF1: 0.431833\tvalid_1's multi_logloss: 1.10811\tvalid_1's macroF1: 0.402685\n",
      "******************** Execution ended in 00h 00m 51.16s ********************\n",
      "============================== 4 of 5 folds ==============================\n",
      "[LightGBM] [Warning] seed is set=42, random_state=1989 will be ignored. Current value: seed=42\n",
      "[LightGBM] [Warning] bagging_freq is set=4, subsample_freq=0 will be ignored. Current value: bagging_freq=4\n",
      "[500]\ttraining's multi_logloss: 1.24485\ttraining's macroF1: 0.423676\tvalid_1's multi_logloss: 1.19503\tvalid_1's macroF1: 0.34357\n",
      "[1000]\ttraining's multi_logloss: 1.1996\ttraining's macroF1: 0.441627\tvalid_1's multi_logloss: 1.14505\tvalid_1's macroF1: 0.378407\n",
      "[1500]\ttraining's multi_logloss: 1.17708\ttraining's macroF1: 0.44509\tvalid_1's multi_logloss: 1.12368\tvalid_1's macroF1: 0.390687\n",
      "******************** Execution ended in 00h 00m 53.96s ********************\n",
      "============================== 5 of 5 folds ==============================\n",
      "[LightGBM] [Warning] seed is set=42, random_state=1989 will be ignored. Current value: seed=42\n",
      "[LightGBM] [Warning] bagging_freq is set=4, subsample_freq=0 will be ignored. Current value: bagging_freq=4\n",
      "[500]\ttraining's multi_logloss: 1.24906\ttraining's macroF1: 0.428564\tvalid_1's multi_logloss: 1.16163\tvalid_1's macroF1: 0.392673\n",
      "[1000]\ttraining's multi_logloss: 1.20264\ttraining's macroF1: 0.434707\tvalid_1's multi_logloss: 1.10048\tvalid_1's macroF1: 0.375008\n",
      "******************** Execution ended in 00h 00m 33.71s ********************\n",
      "######################################## 44 of 50 iterations ########################################\n",
      "============================== 1 of 5 folds ==============================\n",
      "[LightGBM] [Warning] seed is set=43, random_state=1989 will be ignored. Current value: seed=43\n",
      "[LightGBM] [Warning] bagging_freq is set=2, subsample_freq=0 will be ignored. Current value: bagging_freq=2\n",
      "[500]\ttraining's multi_logloss: 1.3143\ttraining's macroF1: 0.471375\tvalid_1's multi_logloss: 1.29154\tvalid_1's macroF1: 0.375214\n",
      "******************** Execution ended in 00h 00m 25.51s ********************\n",
      "============================== 2 of 5 folds ==============================\n",
      "[LightGBM] [Warning] seed is set=43, random_state=1989 will be ignored. Current value: seed=43\n",
      "[LightGBM] [Warning] bagging_freq is set=2, subsample_freq=0 will be ignored. Current value: bagging_freq=2\n",
      "[500]\ttraining's multi_logloss: 1.31223\ttraining's macroF1: 0.465706\tvalid_1's multi_logloss: 1.28877\tvalid_1's macroF1: 0.371131\n",
      "[1000]\ttraining's multi_logloss: 1.25798\ttraining's macroF1: 0.472577\tvalid_1's multi_logloss: 1.22278\tvalid_1's macroF1: 0.390346\n",
      "[1500]\ttraining's multi_logloss: 1.2155\ttraining's macroF1: 0.478178\tvalid_1's multi_logloss: 1.17528\tvalid_1's macroF1: 0.400601\n",
      "[2000]\ttraining's multi_logloss: 1.18143\ttraining's macroF1: 0.490705\tvalid_1's multi_logloss: 1.14026\tvalid_1's macroF1: 0.410719\n",
      "[2500]\ttraining's multi_logloss: 1.15317\ttraining's macroF1: 0.4961\tvalid_1's multi_logloss: 1.11375\tvalid_1's macroF1: 0.415585\n",
      "******************** Execution ended in 00h 02m 32.71s ********************\n",
      "============================== 3 of 5 folds ==============================\n",
      "[LightGBM] [Warning] seed is set=43, random_state=1989 will be ignored. Current value: seed=43\n",
      "[LightGBM] [Warning] bagging_freq is set=2, subsample_freq=0 will be ignored. Current value: bagging_freq=2\n",
      "[500]\ttraining's multi_logloss: 1.31396\ttraining's macroF1: 0.467936\tvalid_1's multi_logloss: 1.28803\tvalid_1's macroF1: 0.389926\n",
      "******************** Execution ended in 00h 00m 39.91s ********************\n",
      "============================== 4 of 5 folds ==============================\n",
      "[LightGBM] [Warning] seed is set=43, random_state=1989 will be ignored. Current value: seed=43\n",
      "[LightGBM] [Warning] bagging_freq is set=2, subsample_freq=0 will be ignored. Current value: bagging_freq=2\n",
      "[500]\ttraining's multi_logloss: 1.31512\ttraining's macroF1: 0.463195\tvalid_1's multi_logloss: 1.29653\tvalid_1's macroF1: 0.386268\n",
      "******************** Execution ended in 00h 00m 44.70s ********************\n",
      "============================== 5 of 5 folds ==============================\n",
      "[LightGBM] [Warning] seed is set=43, random_state=1989 will be ignored. Current value: seed=43\n",
      "[LightGBM] [Warning] bagging_freq is set=2, subsample_freq=0 will be ignored. Current value: bagging_freq=2\n",
      "[500]\ttraining's multi_logloss: 1.31236\ttraining's macroF1: 0.469038\tvalid_1's multi_logloss: 1.2914\tvalid_1's macroF1: 0.37031\n",
      "******************** Execution ended in 00h 00m 26.29s ********************\n",
      "######################################## 45 of 50 iterations ########################################\n",
      "============================== 1 of 5 folds ==============================\n",
      "[LightGBM] [Warning] seed is set=44, random_state=1989 will be ignored. Current value: seed=44\n",
      "[LightGBM] [Warning] bagging_freq is set=1, subsample_freq=0 will be ignored. Current value: bagging_freq=1\n",
      "[500]\ttraining's multi_logloss: 1.1118\ttraining's macroF1: 0.471075\tvalid_1's multi_logloss: 1.08128\tvalid_1's macroF1: 0.388362\n",
      "[1000]\ttraining's multi_logloss: 1.06483\ttraining's macroF1: 0.503474\tvalid_1's multi_logloss: 1.06902\tvalid_1's macroF1: 0.396163\n",
      "******************** Execution ended in 00h 00m 49.59s ********************\n",
      "============================== 2 of 5 folds ==============================\n",
      "[LightGBM] [Warning] seed is set=44, random_state=1989 will be ignored. Current value: seed=44\n",
      "[LightGBM] [Warning] bagging_freq is set=1, subsample_freq=0 will be ignored. Current value: bagging_freq=1\n",
      "[500]\ttraining's multi_logloss: 1.11604\ttraining's macroF1: 0.468099\tvalid_1's multi_logloss: 1.06894\tvalid_1's macroF1: 0.391568\n",
      "******************** Execution ended in 00h 00m 24.35s ********************\n",
      "============================== 3 of 5 folds ==============================\n",
      "[LightGBM] [Warning] seed is set=44, random_state=1989 will be ignored. Current value: seed=44\n",
      "[LightGBM] [Warning] bagging_freq is set=1, subsample_freq=0 will be ignored. Current value: bagging_freq=1\n",
      "[500]\ttraining's multi_logloss: 1.1027\ttraining's macroF1: 0.49417\tvalid_1's multi_logloss: 1.13794\tvalid_1's macroF1: 0.40102\n",
      "******************** Execution ended in 00h 00m 32.80s ********************\n",
      "============================== 4 of 5 folds ==============================\n",
      "[LightGBM] [Warning] seed is set=44, random_state=1989 will be ignored. Current value: seed=44\n",
      "[LightGBM] [Warning] bagging_freq is set=1, subsample_freq=0 will be ignored. Current value: bagging_freq=1\n",
      "[500]\ttraining's multi_logloss: 1.10918\ttraining's macroF1: 0.484802\tvalid_1's multi_logloss: 1.09518\tvalid_1's macroF1: 0.410152\n",
      "******************** Execution ended in 00h 00m 25.29s ********************\n",
      "============================== 5 of 5 folds ==============================\n",
      "[LightGBM] [Warning] seed is set=44, random_state=1989 will be ignored. Current value: seed=44\n",
      "[LightGBM] [Warning] bagging_freq is set=1, subsample_freq=0 will be ignored. Current value: bagging_freq=1\n",
      "[500]\ttraining's multi_logloss: 1.10841\ttraining's macroF1: 0.476741\tvalid_1's multi_logloss: 1.09248\tvalid_1's macroF1: 0.386027\n",
      "******************** Execution ended in 00h 00m 23.62s ********************\n",
      "######################################## 46 of 50 iterations ########################################\n",
      "============================== 1 of 5 folds ==============================\n",
      "[LightGBM] [Warning] seed is set=45, random_state=1989 will be ignored. Current value: seed=45\n",
      "[LightGBM] [Warning] bagging_freq is set=4, subsample_freq=0 will be ignored. Current value: bagging_freq=4\n",
      "[500]\ttraining's multi_logloss: 1.22666\ttraining's macroF1: 0.451347\tvalid_1's multi_logloss: 1.19626\tvalid_1's macroF1: 0.373933\n",
      "******************** Execution ended in 00h 00m 40.20s ********************\n",
      "============================== 2 of 5 folds ==============================\n",
      "[LightGBM] [Warning] seed is set=45, random_state=1989 will be ignored. Current value: seed=45\n",
      "[LightGBM] [Warning] bagging_freq is set=4, subsample_freq=0 will be ignored. Current value: bagging_freq=4\n",
      "[500]\ttraining's multi_logloss: 1.23205\ttraining's macroF1: 0.469918\tvalid_1's multi_logloss: 1.18123\tvalid_1's macroF1: 0.352457\n",
      "******************** Execution ended in 00h 00m 24.99s ********************\n",
      "============================== 3 of 5 folds ==============================\n",
      "[LightGBM] [Warning] seed is set=45, random_state=1989 will be ignored. Current value: seed=45\n",
      "[LightGBM] [Warning] bagging_freq is set=4, subsample_freq=0 will be ignored. Current value: bagging_freq=4\n",
      "[500]\ttraining's multi_logloss: 1.22754\ttraining's macroF1: 0.469345\tvalid_1's multi_logloss: 1.17501\tvalid_1's macroF1: 0.410597\n",
      "******************** Execution ended in 00h 00m 49.83s ********************\n",
      "============================== 4 of 5 folds ==============================\n",
      "[LightGBM] [Warning] seed is set=45, random_state=1989 will be ignored. Current value: seed=45\n",
      "[LightGBM] [Warning] bagging_freq is set=4, subsample_freq=0 will be ignored. Current value: bagging_freq=4\n",
      "[500]\ttraining's multi_logloss: 1.23141\ttraining's macroF1: 0.459437\tvalid_1's multi_logloss: 1.18078\tvalid_1's macroF1: 0.374473\n",
      "[1000]\ttraining's multi_logloss: 1.1564\ttraining's macroF1: 0.481737\tvalid_1's multi_logloss: 1.11261\tvalid_1's macroF1: 0.407408\n",
      "[1500]\ttraining's multi_logloss: 1.10977\ttraining's macroF1: 0.495915\tvalid_1's multi_logloss: 1.08304\tvalid_1's macroF1: 0.414885\n",
      "[2000]\ttraining's multi_logloss: 1.07772\ttraining's macroF1: 0.515724\tvalid_1's multi_logloss: 1.07483\tvalid_1's macroF1: 0.418657\n",
      "[2500]\ttraining's multi_logloss: 1.05176\ttraining's macroF1: 0.524878\tvalid_1's multi_logloss: 1.07028\tvalid_1's macroF1: 0.421257\n",
      "******************** Execution ended in 00h 03m 21.06s ********************\n",
      "============================== 5 of 5 folds ==============================\n",
      "[LightGBM] [Warning] seed is set=45, random_state=1989 will be ignored. Current value: seed=45\n",
      "[LightGBM] [Warning] bagging_freq is set=4, subsample_freq=0 will be ignored. Current value: bagging_freq=4\n",
      "[500]\ttraining's multi_logloss: 1.22416\ttraining's macroF1: 0.483454\tvalid_1's multi_logloss: 1.18801\tvalid_1's macroF1: 0.372778\n",
      "[1000]\ttraining's multi_logloss: 1.14517\ttraining's macroF1: 0.494762\tvalid_1's multi_logloss: 1.12383\tvalid_1's macroF1: 0.374165\n",
      "******************** Execution ended in 00h 01m 37.42s ********************\n",
      "######################################## 47 of 50 iterations ########################################\n",
      "============================== 1 of 5 folds ==============================\n",
      "[LightGBM] [Warning] seed is set=46, random_state=1989 will be ignored. Current value: seed=46\n",
      "[LightGBM] [Warning] bagging_freq is set=3, subsample_freq=0 will be ignored. Current value: bagging_freq=3\n",
      "[500]\ttraining's multi_logloss: 1.19199\ttraining's macroF1: 0.449221\tvalid_1's multi_logloss: 1.13457\tvalid_1's macroF1: 0.366254\n",
      "[1000]\ttraining's multi_logloss: 1.13587\ttraining's macroF1: 0.475892\tvalid_1's multi_logloss: 1.09597\tvalid_1's macroF1: 0.36691\n",
      "******************** Execution ended in 00h 00m 53.33s ********************\n",
      "============================== 2 of 5 folds ==============================\n",
      "[LightGBM] [Warning] seed is set=46, random_state=1989 will be ignored. Current value: seed=46\n",
      "[LightGBM] [Warning] bagging_freq is set=3, subsample_freq=0 will be ignored. Current value: bagging_freq=3\n",
      "[500]\ttraining's multi_logloss: 1.18677\ttraining's macroF1: 0.44654\tvalid_1's multi_logloss: 1.13099\tvalid_1's macroF1: 0.418461\n",
      "[1000]\ttraining's multi_logloss: 1.12948\ttraining's macroF1: 0.468701\tvalid_1's multi_logloss: 1.09258\tvalid_1's macroF1: 0.416859\n",
      "******************** Execution ended in 00h 00m 45.60s ********************\n",
      "============================== 3 of 5 folds ==============================\n",
      "[LightGBM] [Warning] seed is set=46, random_state=1989 will be ignored. Current value: seed=46\n",
      "[LightGBM] [Warning] bagging_freq is set=3, subsample_freq=0 will be ignored. Current value: bagging_freq=3\n",
      "[500]\ttraining's multi_logloss: 1.19246\ttraining's macroF1: 0.448364\tvalid_1's multi_logloss: 1.10832\tvalid_1's macroF1: 0.411437\n",
      "[1000]\ttraining's multi_logloss: 1.13313\ttraining's macroF1: 0.471607\tvalid_1's multi_logloss: 1.06034\tvalid_1's macroF1: 0.431218\n",
      "[1500]\ttraining's multi_logloss: 1.10237\ttraining's macroF1: 0.486063\tvalid_1's multi_logloss: 1.05043\tvalid_1's macroF1: 0.40709\n",
      "******************** Execution ended in 00h 01m 01.04s ********************\n",
      "============================== 4 of 5 folds ==============================\n",
      "[LightGBM] [Warning] seed is set=46, random_state=1989 will be ignored. Current value: seed=46\n",
      "[LightGBM] [Warning] bagging_freq is set=3, subsample_freq=0 will be ignored. Current value: bagging_freq=3\n",
      "[500]\ttraining's multi_logloss: 1.19181\ttraining's macroF1: 0.462473\tvalid_1's multi_logloss: 1.16295\tvalid_1's macroF1: 0.391644\n",
      "[1000]\ttraining's multi_logloss: 1.13568\ttraining's macroF1: 0.483216\tvalid_1's multi_logloss: 1.1323\tvalid_1's macroF1: 0.408168\n",
      "[1500]\ttraining's multi_logloss: 1.10547\ttraining's macroF1: 0.496311\tvalid_1's multi_logloss: 1.13116\tvalid_1's macroF1: 0.404614\n",
      "******************** Execution ended in 00h 00m 56.97s ********************\n",
      "============================== 5 of 5 folds ==============================\n",
      "[LightGBM] [Warning] seed is set=46, random_state=1989 will be ignored. Current value: seed=46\n",
      "[LightGBM] [Warning] bagging_freq is set=3, subsample_freq=0 will be ignored. Current value: bagging_freq=3\n",
      "[500]\ttraining's multi_logloss: 1.18571\ttraining's macroF1: 0.448352\tvalid_1's multi_logloss: 1.12763\tvalid_1's macroF1: 0.390607\n",
      "******************** Execution ended in 00h 00m 24.58s ********************\n",
      "######################################## 48 of 50 iterations ########################################\n",
      "============================== 1 of 5 folds ==============================\n",
      "[LightGBM] [Warning] seed is set=47, random_state=1989 will be ignored. Current value: seed=47\n",
      "[LightGBM] [Warning] bagging_freq is set=4, subsample_freq=0 will be ignored. Current value: bagging_freq=4\n",
      "[500]\ttraining's multi_logloss: 1.12709\ttraining's macroF1: 0.493838\tvalid_1's multi_logloss: 1.09838\tvalid_1's macroF1: 0.378978\n",
      "******************** Execution ended in 00h 00m 23.85s ********************\n",
      "============================== 2 of 5 folds ==============================\n",
      "[LightGBM] [Warning] seed is set=47, random_state=1989 will be ignored. Current value: seed=47\n",
      "[LightGBM] [Warning] bagging_freq is set=4, subsample_freq=0 will be ignored. Current value: bagging_freq=4\n",
      "[500]\ttraining's multi_logloss: 1.13085\ttraining's macroF1: 0.498299\tvalid_1's multi_logloss: 1.11509\tvalid_1's macroF1: 0.373915\n",
      "******************** Execution ended in 00h 00m 24.74s ********************\n",
      "============================== 3 of 5 folds ==============================\n",
      "[LightGBM] [Warning] seed is set=47, random_state=1989 will be ignored. Current value: seed=47\n",
      "[LightGBM] [Warning] bagging_freq is set=4, subsample_freq=0 will be ignored. Current value: bagging_freq=4\n",
      "[500]\ttraining's multi_logloss: 1.13896\ttraining's macroF1: 0.509513\tvalid_1's multi_logloss: 1.09014\tvalid_1's macroF1: 0.405346\n",
      "[1000]\ttraining's multi_logloss: 1.05079\ttraining's macroF1: 0.537616\tvalid_1's multi_logloss: 1.04151\tvalid_1's macroF1: 0.406884\n",
      "******************** Execution ended in 00h 00m 53.03s ********************\n",
      "============================== 4 of 5 folds ==============================\n",
      "[LightGBM] [Warning] seed is set=47, random_state=1989 will be ignored. Current value: seed=47\n",
      "[LightGBM] [Warning] bagging_freq is set=4, subsample_freq=0 will be ignored. Current value: bagging_freq=4\n",
      "[500]\ttraining's multi_logloss: 1.1278\ttraining's macroF1: 0.503625\tvalid_1's multi_logloss: 1.12662\tvalid_1's macroF1: 0.394282\n",
      "******************** Execution ended in 00h 00m 32.22s ********************\n",
      "============================== 5 of 5 folds ==============================\n",
      "[LightGBM] [Warning] seed is set=47, random_state=1989 will be ignored. Current value: seed=47\n",
      "[LightGBM] [Warning] bagging_freq is set=4, subsample_freq=0 will be ignored. Current value: bagging_freq=4\n",
      "[500]\ttraining's multi_logloss: 1.13898\ttraining's macroF1: 0.503505\tvalid_1's multi_logloss: 1.08076\tvalid_1's macroF1: 0.417093\n",
      "[1000]\ttraining's multi_logloss: 1.05028\ttraining's macroF1: 0.540877\tvalid_1's multi_logloss: 1.02538\tvalid_1's macroF1: 0.433789\n",
      "[1500]\ttraining's multi_logloss: 0.997707\ttraining's macroF1: 0.566815\tvalid_1's multi_logloss: 1.01186\tvalid_1's macroF1: 0.41606\n",
      "******************** Execution ended in 00h 01m 12.33s ********************\n",
      "######################################## 49 of 50 iterations ########################################\n",
      "============================== 1 of 5 folds ==============================\n",
      "[LightGBM] [Warning] seed is set=48, random_state=1989 will be ignored. Current value: seed=48\n",
      "[LightGBM] [Warning] bagging_freq is set=4, subsample_freq=0 will be ignored. Current value: bagging_freq=4\n",
      "[500]\ttraining's multi_logloss: 1.0255\ttraining's macroF1: 0.519511\tvalid_1's multi_logloss: 1.08683\tvalid_1's macroF1: 0.373513\n",
      "******************** Execution ended in 00h 00m 30.26s ********************\n",
      "============================== 2 of 5 folds ==============================\n",
      "[LightGBM] [Warning] seed is set=48, random_state=1989 will be ignored. Current value: seed=48\n",
      "[LightGBM] [Warning] bagging_freq is set=4, subsample_freq=0 will be ignored. Current value: bagging_freq=4\n",
      "[500]\ttraining's multi_logloss: 1.04284\ttraining's macroF1: 0.524919\tvalid_1's multi_logloss: 1.13529\tvalid_1's macroF1: 0.36477\n",
      "******************** Execution ended in 00h 00m 33.54s ********************\n",
      "============================== 3 of 5 folds ==============================\n",
      "[LightGBM] [Warning] seed is set=48, random_state=1989 will be ignored. Current value: seed=48\n",
      "[LightGBM] [Warning] bagging_freq is set=4, subsample_freq=0 will be ignored. Current value: bagging_freq=4\n",
      "[500]\ttraining's multi_logloss: 1.03575\ttraining's macroF1: 0.518222\tvalid_1's multi_logloss: 1.08583\tvalid_1's macroF1: 0.362406\n",
      "******************** Execution ended in 00h 00m 27.53s ********************\n",
      "============================== 4 of 5 folds ==============================\n",
      "[LightGBM] [Warning] seed is set=48, random_state=1989 will be ignored. Current value: seed=48\n",
      "[LightGBM] [Warning] bagging_freq is set=4, subsample_freq=0 will be ignored. Current value: bagging_freq=4\n",
      "[500]\ttraining's multi_logloss: 1.03377\ttraining's macroF1: 0.533362\tvalid_1's multi_logloss: 1.03738\tvalid_1's macroF1: 0.39206\n",
      "******************** Execution ended in 00h 00m 47.46s ********************\n",
      "============================== 5 of 5 folds ==============================\n",
      "[LightGBM] [Warning] seed is set=48, random_state=1989 will be ignored. Current value: seed=48\n",
      "[LightGBM] [Warning] bagging_freq is set=4, subsample_freq=0 will be ignored. Current value: bagging_freq=4\n",
      "[500]\ttraining's multi_logloss: 1.04082\ttraining's macroF1: 0.523232\tvalid_1's multi_logloss: 1.05603\tvalid_1's macroF1: 0.414578\n",
      "******************** Execution ended in 00h 00m 45.39s ********************\n",
      "######################################## 50 of 50 iterations ########################################\n",
      "============================== 1 of 5 folds ==============================\n",
      "[LightGBM] [Warning] seed is set=49, random_state=1989 will be ignored. Current value: seed=49\n",
      "[LightGBM] [Warning] bagging_freq is set=2, subsample_freq=0 will be ignored. Current value: bagging_freq=2\n",
      "[500]\ttraining's multi_logloss: 0.704237\ttraining's macroF1: 0.736671\tvalid_1's multi_logloss: 0.965739\tvalid_1's macroF1: 0.435022\n",
      "******************** Execution ended in 00h 00m 53.63s ********************\n",
      "============================== 2 of 5 folds ==============================\n",
      "[LightGBM] [Warning] seed is set=49, random_state=1989 will be ignored. Current value: seed=49\n",
      "[LightGBM] [Warning] bagging_freq is set=2, subsample_freq=0 will be ignored. Current value: bagging_freq=2\n",
      "[500]\ttraining's multi_logloss: 0.715871\ttraining's macroF1: 0.740453\tvalid_1's multi_logloss: 0.992264\tvalid_1's macroF1: 0.432333\n",
      "[1000]\ttraining's multi_logloss: 0.539349\ttraining's macroF1: 0.81203\tvalid_1's multi_logloss: 0.96232\tvalid_1's macroF1: 0.43496\n",
      "******************** Execution ended in 00h 01m 39.47s ********************\n",
      "============================== 3 of 5 folds ==============================\n",
      "[LightGBM] [Warning] seed is set=49, random_state=1989 will be ignored. Current value: seed=49\n",
      "[LightGBM] [Warning] bagging_freq is set=2, subsample_freq=0 will be ignored. Current value: bagging_freq=2\n",
      "[500]\ttraining's multi_logloss: 0.702718\ttraining's macroF1: 0.732759\tvalid_1's multi_logloss: 1.00642\tvalid_1's macroF1: 0.396206\n",
      "[1000]\ttraining's multi_logloss: 0.52849\ttraining's macroF1: 0.80433\tvalid_1's multi_logloss: 0.991449\tvalid_1's macroF1: 0.418412\n",
      "[1500]\ttraining's multi_logloss: 0.440935\ttraining's macroF1: 0.843904\tvalid_1's multi_logloss: 0.989869\tvalid_1's macroF1: 0.419989\n",
      "******************** Execution ended in 00h 01m 56.26s ********************\n",
      "============================== 4 of 5 folds ==============================\n",
      "[LightGBM] [Warning] seed is set=49, random_state=1989 will be ignored. Current value: seed=49\n",
      "[LightGBM] [Warning] bagging_freq is set=2, subsample_freq=0 will be ignored. Current value: bagging_freq=2\n",
      "[500]\ttraining's multi_logloss: 0.716721\ttraining's macroF1: 0.738829\tvalid_1's multi_logloss: 1.01874\tvalid_1's macroF1: 0.420976\n",
      "[1000]\ttraining's multi_logloss: 0.537711\ttraining's macroF1: 0.811356\tvalid_1's multi_logloss: 1.00576\tvalid_1's macroF1: 0.417788\n",
      "******************** Execution ended in 00h 01m 22.37s ********************\n",
      "============================== 5 of 5 folds ==============================\n",
      "[LightGBM] [Warning] seed is set=49, random_state=1989 will be ignored. Current value: seed=49\n",
      "[LightGBM] [Warning] bagging_freq is set=2, subsample_freq=0 will be ignored. Current value: bagging_freq=2\n",
      "[500]\ttraining's multi_logloss: 0.70226\ttraining's macroF1: 0.734402\tvalid_1's multi_logloss: 1.01926\tvalid_1's macroF1: 0.389582\n",
      "******************** Execution ended in 00h 00m 51.67s ********************\n"
     ]
    }
   ],
   "source": [
    "total_shap_df  = pd.DataFrame()\n",
    "NUM_ITERATIONS = 50\n",
    "for SEED in range(NUM_ITERATIONS):\n",
    "    print('#'*40, '{} of {} iterations'.format(SEED+1, NUM_ITERATIONS), '#' * 40)\n",
    "    params = {'max_depth': np.random.choice([5, 6, 7, 8, 10, 12, -1]),\n",
    "             'learning_rate': np.random.rand() * 0.02,\n",
    "              'colsample_bytree': np.random.rand() * (1 - 0.5) + 0.5,\n",
    "              'subsample': np.random.rand() * (1 - 0.5) + 0.5,\n",
    "              'min_split_gain': np.random.rand() * 0.2,\n",
    "              'num_leaves': np.random.choice([32, 48, 64]),\n",
    "              'reg_alpha': np.random.rand() * 2,\n",
    "              'reg_lambda': np.random.rand() *2,\n",
    "              'bagging_freq': np.random.randint(4) +1,\n",
    "              'min_child_weight': np.random.randint(100) + 20\n",
    "             }\n",
    "    temp_shap_df = extract_good_features_using_shap_LGB(params, SEED)\n",
    "    total_shap_df = pd.concat([total_shap_df, temp_shap_df])"
   ]
  },
  {
   "cell_type": "code",
   "execution_count": null,
   "id": "654777cf",
   "metadata": {
    "papermill": {
     "duration": 0.086589,
     "end_time": "2023-03-11T05:36:47.804609",
     "exception": false,
     "start_time": "2023-03-11T05:36:47.718020",
     "status": "completed"
    },
    "tags": []
   },
   "outputs": [],
   "source": []
  }
 ],
 "metadata": {
  "kernelspec": {
   "display_name": "Python 3",
   "language": "python",
   "name": "python3"
  },
  "language_info": {
   "codemirror_mode": {
    "name": "ipython",
    "version": 3
   },
   "file_extension": ".py",
   "mimetype": "text/x-python",
   "name": "python",
   "nbconvert_exporter": "python",
   "pygments_lexer": "ipython3",
   "version": "3.7.12"
  },
  "papermill": {
   "default_parameters": {},
   "duration": 12831.264367,
   "end_time": "2023-03-11T05:36:49.549742",
   "environment_variables": {},
   "exception": null,
   "input_path": "__notebook__.ipynb",
   "output_path": "__notebook__.ipynb",
   "parameters": {},
   "start_time": "2023-03-11T02:02:58.285375",
   "version": "2.4.0"
  }
 },
 "nbformat": 4,
 "nbformat_minor": 5
}
